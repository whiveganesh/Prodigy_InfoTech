{
 "cells": [
  {
   "cell_type": "code",
   "execution_count": 1,
   "id": "4a9e52eb",
   "metadata": {},
   "outputs": [
    {
     "name": "stderr",
     "output_type": "stream",
     "text": [
      "/tmp/ipykernel_15261/2695958612.py:6: MatplotlibDeprecationWarning: The seaborn styles shipped by Matplotlib are deprecated since 3.6, as they no longer correspond to the styles shipped by seaborn. However, they will remain available as 'seaborn-v0_8-<style>'. Alternatively, directly use the seaborn API instead.\n",
      "  plt.style.use('seaborn-deep')\n"
     ]
    }
   ],
   "source": [
    "import numpy as np\n",
    "import pandas as pd\n",
    "import matplotlib.pyplot as plt\n",
    "import seaborn as sns\n",
    "%matplotlib inline\n",
    "plt.style.use('seaborn-deep')\n",
    "from sklearn.metrics import confusion_matrix\n",
    "import nltk\n",
    "# nltk.download('stopwords')"
   ]
  },
  {
   "cell_type": "code",
   "execution_count": 2,
   "id": "12911941",
   "metadata": {},
   "outputs": [
    {
     "data": {
      "text/html": [
       "<div>\n",
       "<style scoped>\n",
       "    .dataframe tbody tr th:only-of-type {\n",
       "        vertical-align: middle;\n",
       "    }\n",
       "\n",
       "    .dataframe tbody tr th {\n",
       "        vertical-align: top;\n",
       "    }\n",
       "\n",
       "    .dataframe thead th {\n",
       "        text-align: right;\n",
       "    }\n",
       "</style>\n",
       "<table border=\"1\" class=\"dataframe\">\n",
       "  <thead>\n",
       "    <tr style=\"text-align: right;\">\n",
       "      <th></th>\n",
       "      <th>3364</th>\n",
       "      <th>Facebook</th>\n",
       "      <th>Irrelevant</th>\n",
       "      <th>I mentioned on Facebook that I was struggling for motivation to go for a run the other day, which has been translated by Tomâs great auntie as âHayley canât get out of bedâ and told to his grandma, who now thinks Iâm a lazy, terrible person ð¤£</th>\n",
       "    </tr>\n",
       "  </thead>\n",
       "  <tbody>\n",
       "    <tr>\n",
       "      <th>827</th>\n",
       "      <td>1857</td>\n",
       "      <td>CallOfDutyBlackopsColdWar</td>\n",
       "      <td>Negative</td>\n",
       "      <td>Score Streaks are the worst thing to happen in...</td>\n",
       "    </tr>\n",
       "    <tr>\n",
       "      <th>33</th>\n",
       "      <td>6650</td>\n",
       "      <td>Fortnite</td>\n",
       "      <td>Negative</td>\n",
       "      <td>Fortnite is running like ass.. fps drops every...</td>\n",
       "    </tr>\n",
       "    <tr>\n",
       "      <th>648</th>\n",
       "      <td>10391</td>\n",
       "      <td>PlayerUnknownsBattlegrounds(PUBG)</td>\n",
       "      <td>Positive</td>\n",
       "      <td>3 years ago this week. ð­\\n\\nSuch a good tim...</td>\n",
       "    </tr>\n",
       "    <tr>\n",
       "      <th>740</th>\n",
       "      <td>1579</td>\n",
       "      <td>Battlefield</td>\n",
       "      <td>Negative</td>\n",
       "      <td>Update: I did not do this\\n\\nI played battlefi...</td>\n",
       "    </tr>\n",
       "    <tr>\n",
       "      <th>385</th>\n",
       "      <td>9864</td>\n",
       "      <td>PlayStation5(PS5)</td>\n",
       "      <td>Neutral</td>\n",
       "      <td>I don't know what you people have been doing o...</td>\n",
       "    </tr>\n",
       "    <tr>\n",
       "      <th>...</th>\n",
       "      <td>...</td>\n",
       "      <td>...</td>\n",
       "      <td>...</td>\n",
       "      <td>...</td>\n",
       "    </tr>\n",
       "    <tr>\n",
       "      <th>936</th>\n",
       "      <td>9496</td>\n",
       "      <td>Overwatch</td>\n",
       "      <td>Positive</td>\n",
       "      <td>Donât tweet much but hereâs what Iâve be...</td>\n",
       "    </tr>\n",
       "    <tr>\n",
       "      <th>428</th>\n",
       "      <td>6494</td>\n",
       "      <td>Fortnite</td>\n",
       "      <td>Negative</td>\n",
       "      <td>Looking at pc specs: yeah this will run fortni...</td>\n",
       "    </tr>\n",
       "    <tr>\n",
       "      <th>512</th>\n",
       "      <td>7782</td>\n",
       "      <td>MaddenNFL</td>\n",
       "      <td>Negative</td>\n",
       "      <td>@EAMaddenNFL servers down?</td>\n",
       "    </tr>\n",
       "    <tr>\n",
       "      <th>298</th>\n",
       "      <td>8719</td>\n",
       "      <td>NBA2K</td>\n",
       "      <td>Negative</td>\n",
       "      <td>@NBA2K you guys gotta fix the shooting bugs bc...</td>\n",
       "    </tr>\n",
       "    <tr>\n",
       "      <th>842</th>\n",
       "      <td>12831</td>\n",
       "      <td>Xbox(Xseries)</td>\n",
       "      <td>Negative</td>\n",
       "      <td>@XboxP3 delay the Xbox Series X whatâs the p...</td>\n",
       "    </tr>\n",
       "  </tbody>\n",
       "</table>\n",
       "<p>999 rows × 4 columns</p>\n",
       "</div>"
      ],
      "text/plain": [
       "      3364                           Facebook Irrelevant  \\\n",
       "827   1857          CallOfDutyBlackopsColdWar   Negative   \n",
       "33    6650                           Fortnite   Negative   \n",
       "648  10391  PlayerUnknownsBattlegrounds(PUBG)   Positive   \n",
       "740   1579                        Battlefield   Negative   \n",
       "385   9864                  PlayStation5(PS5)    Neutral   \n",
       "..     ...                                ...        ...   \n",
       "936   9496                          Overwatch   Positive   \n",
       "428   6494                           Fortnite   Negative   \n",
       "512   7782                          MaddenNFL   Negative   \n",
       "298   8719                              NBA2K   Negative   \n",
       "842  12831                      Xbox(Xseries)   Negative   \n",
       "\n",
       "    I mentioned on Facebook that I was struggling for motivation to go for a run the other day, which has been translated by Tomâs great auntie as âHayley canât get out of bedâ and told to his grandma, who now thinks Iâm a lazy, terrible person ð¤£  \n",
       "827  Score Streaks are the worst thing to happen in...                                                                                                                                                                                                               \n",
       "33   Fortnite is running like ass.. fps drops every...                                                                                                                                                                                                               \n",
       "648  3 years ago this week. ð­\\n\\nSuch a good tim...                                                                                                                                                                                                               \n",
       "740  Update: I did not do this\\n\\nI played battlefi...                                                                                                                                                                                                               \n",
       "385  I don't know what you people have been doing o...                                                                                                                                                                                                               \n",
       "..                                                 ...                                                                                                                                                                                                               \n",
       "936  Donât tweet much but hereâs what Iâve be...                                                                                                                                                                                                               \n",
       "428  Looking at pc specs: yeah this will run fortni...                                                                                                                                                                                                               \n",
       "512                         @EAMaddenNFL servers down?                                                                                                                                                                                                               \n",
       "298  @NBA2K you guys gotta fix the shooting bugs bc...                                                                                                                                                                                                               \n",
       "842  @XboxP3 delay the Xbox Series X whatâs the p...                                                                                                                                                                                                               \n",
       "\n",
       "[999 rows x 4 columns]"
      ]
     },
     "execution_count": 2,
     "metadata": {},
     "output_type": "execute_result"
    }
   ],
   "source": [
    "# Load the first dataset and shuffle the rows\n",
    "dataframe1 = pd.read_csv('twitter_validation.csv', encoding='latin1')\n",
    "dataframe1 = dataframe1.sample(frac=1)\n",
    "dataframe1"
   ]
  },
  {
   "cell_type": "markdown",
   "id": "e020b6e6",
   "metadata": {},
   "source": [
    "# **Exploratory Data Analysis**"
   ]
  },
  {
   "cell_type": "code",
   "execution_count": 3,
   "id": "3e92329a",
   "metadata": {},
   "outputs": [
    {
     "name": "stdout",
     "output_type": "stream",
     "text": [
      "I mentioned on Facebook that I was struggling for motivation to go for a run the other day, which has been translated by Tomâs great auntie as âHayley canât get out of bedâ and told to his grandma, who now thinks Iâm a lazy, terrible person ð¤£\n"
     ]
    }
   ],
   "source": [
    "print(dataframe1.columns[-1])"
   ]
  },
  {
   "cell_type": "code",
   "execution_count": 4,
   "id": "273a525b",
   "metadata": {},
   "outputs": [
    {
     "data": {
      "text/html": [
       "<div>\n",
       "<style scoped>\n",
       "    .dataframe tbody tr th:only-of-type {\n",
       "        vertical-align: middle;\n",
       "    }\n",
       "\n",
       "    .dataframe tbody tr th {\n",
       "        vertical-align: top;\n",
       "    }\n",
       "\n",
       "    .dataframe thead th {\n",
       "        text-align: right;\n",
       "    }\n",
       "</style>\n",
       "<table border=\"1\" class=\"dataframe\">\n",
       "  <thead>\n",
       "    <tr style=\"text-align: right;\">\n",
       "      <th></th>\n",
       "      <th>3364</th>\n",
       "      <th>Facebook</th>\n",
       "      <th>Irrelevant</th>\n",
       "      <th>text</th>\n",
       "    </tr>\n",
       "  </thead>\n",
       "  <tbody>\n",
       "    <tr>\n",
       "      <th>827</th>\n",
       "      <td>1857</td>\n",
       "      <td>CallOfDutyBlackopsColdWar</td>\n",
       "      <td>Negative</td>\n",
       "      <td>Score Streaks are the worst thing to happen in...</td>\n",
       "    </tr>\n",
       "    <tr>\n",
       "      <th>33</th>\n",
       "      <td>6650</td>\n",
       "      <td>Fortnite</td>\n",
       "      <td>Negative</td>\n",
       "      <td>Fortnite is running like ass.. fps drops every...</td>\n",
       "    </tr>\n",
       "    <tr>\n",
       "      <th>648</th>\n",
       "      <td>10391</td>\n",
       "      <td>PlayerUnknownsBattlegrounds(PUBG)</td>\n",
       "      <td>Positive</td>\n",
       "      <td>3 years ago this week. ð­\\n\\nSuch a good tim...</td>\n",
       "    </tr>\n",
       "    <tr>\n",
       "      <th>740</th>\n",
       "      <td>1579</td>\n",
       "      <td>Battlefield</td>\n",
       "      <td>Negative</td>\n",
       "      <td>Update: I did not do this\\n\\nI played battlefi...</td>\n",
       "    </tr>\n",
       "    <tr>\n",
       "      <th>385</th>\n",
       "      <td>9864</td>\n",
       "      <td>PlayStation5(PS5)</td>\n",
       "      <td>Neutral</td>\n",
       "      <td>I don't know what you people have been doing o...</td>\n",
       "    </tr>\n",
       "    <tr>\n",
       "      <th>...</th>\n",
       "      <td>...</td>\n",
       "      <td>...</td>\n",
       "      <td>...</td>\n",
       "      <td>...</td>\n",
       "    </tr>\n",
       "    <tr>\n",
       "      <th>936</th>\n",
       "      <td>9496</td>\n",
       "      <td>Overwatch</td>\n",
       "      <td>Positive</td>\n",
       "      <td>Donât tweet much but hereâs what Iâve be...</td>\n",
       "    </tr>\n",
       "    <tr>\n",
       "      <th>428</th>\n",
       "      <td>6494</td>\n",
       "      <td>Fortnite</td>\n",
       "      <td>Negative</td>\n",
       "      <td>Looking at pc specs: yeah this will run fortni...</td>\n",
       "    </tr>\n",
       "    <tr>\n",
       "      <th>512</th>\n",
       "      <td>7782</td>\n",
       "      <td>MaddenNFL</td>\n",
       "      <td>Negative</td>\n",
       "      <td>@EAMaddenNFL servers down?</td>\n",
       "    </tr>\n",
       "    <tr>\n",
       "      <th>298</th>\n",
       "      <td>8719</td>\n",
       "      <td>NBA2K</td>\n",
       "      <td>Negative</td>\n",
       "      <td>@NBA2K you guys gotta fix the shooting bugs bc...</td>\n",
       "    </tr>\n",
       "    <tr>\n",
       "      <th>842</th>\n",
       "      <td>12831</td>\n",
       "      <td>Xbox(Xseries)</td>\n",
       "      <td>Negative</td>\n",
       "      <td>@XboxP3 delay the Xbox Series X whatâs the p...</td>\n",
       "    </tr>\n",
       "  </tbody>\n",
       "</table>\n",
       "<p>999 rows × 4 columns</p>\n",
       "</div>"
      ],
      "text/plain": [
       "      3364                           Facebook Irrelevant  \\\n",
       "827   1857          CallOfDutyBlackopsColdWar   Negative   \n",
       "33    6650                           Fortnite   Negative   \n",
       "648  10391  PlayerUnknownsBattlegrounds(PUBG)   Positive   \n",
       "740   1579                        Battlefield   Negative   \n",
       "385   9864                  PlayStation5(PS5)    Neutral   \n",
       "..     ...                                ...        ...   \n",
       "936   9496                          Overwatch   Positive   \n",
       "428   6494                           Fortnite   Negative   \n",
       "512   7782                          MaddenNFL   Negative   \n",
       "298   8719                              NBA2K   Negative   \n",
       "842  12831                      Xbox(Xseries)   Negative   \n",
       "\n",
       "                                                  text  \n",
       "827  Score Streaks are the worst thing to happen in...  \n",
       "33   Fortnite is running like ass.. fps drops every...  \n",
       "648  3 years ago this week. ð­\\n\\nSuch a good tim...  \n",
       "740  Update: I did not do this\\n\\nI played battlefi...  \n",
       "385  I don't know what you people have been doing o...  \n",
       "..                                                 ...  \n",
       "936  Donât tweet much but hereâs what Iâve be...  \n",
       "428  Looking at pc specs: yeah this will run fortni...  \n",
       "512                         @EAMaddenNFL servers down?  \n",
       "298  @NBA2K you guys gotta fix the shooting bugs bc...  \n",
       "842  @XboxP3 delay the Xbox Series X whatâs the p...  \n",
       "\n",
       "[999 rows x 4 columns]"
      ]
     },
     "execution_count": 4,
     "metadata": {},
     "output_type": "execute_result"
    }
   ],
   "source": [
    "dataframe1 = dataframe1.rename(columns={'I mentioned on Facebook that I was struggling for motivation to go for a run the other day, which has been translated by Tomâs great auntie as âHayley canât get out of bedâ and told to his grandma, who now thinks Iâm a lazy, terrible person ð¤£':'text'})\n",
    "dataframe1"
   ]
  },
  {
   "cell_type": "code",
   "execution_count": 5,
   "id": "3223e04f",
   "metadata": {},
   "outputs": [
    {
     "data": {
      "text/plain": [
       "(999, 4)"
      ]
     },
     "execution_count": 5,
     "metadata": {},
     "output_type": "execute_result"
    }
   ],
   "source": [
    "dataframe1.shape"
   ]
  },
  {
   "cell_type": "code",
   "execution_count": 6,
   "id": "c077b489",
   "metadata": {},
   "outputs": [
    {
     "data": {
      "text/html": [
       "<div>\n",
       "<style scoped>\n",
       "    .dataframe tbody tr th:only-of-type {\n",
       "        vertical-align: middle;\n",
       "    }\n",
       "\n",
       "    .dataframe tbody tr th {\n",
       "        vertical-align: top;\n",
       "    }\n",
       "\n",
       "    .dataframe thead th {\n",
       "        text-align: right;\n",
       "    }\n",
       "</style>\n",
       "<table border=\"1\" class=\"dataframe\">\n",
       "  <thead>\n",
       "    <tr style=\"text-align: right;\">\n",
       "      <th></th>\n",
       "      <th>3364</th>\n",
       "      <th>Facebook</th>\n",
       "      <th>Irrelevant</th>\n",
       "      <th>text</th>\n",
       "    </tr>\n",
       "  </thead>\n",
       "  <tbody>\n",
       "    <tr>\n",
       "      <th>827</th>\n",
       "      <td>False</td>\n",
       "      <td>False</td>\n",
       "      <td>False</td>\n",
       "      <td>False</td>\n",
       "    </tr>\n",
       "    <tr>\n",
       "      <th>33</th>\n",
       "      <td>False</td>\n",
       "      <td>False</td>\n",
       "      <td>False</td>\n",
       "      <td>False</td>\n",
       "    </tr>\n",
       "    <tr>\n",
       "      <th>648</th>\n",
       "      <td>False</td>\n",
       "      <td>False</td>\n",
       "      <td>False</td>\n",
       "      <td>False</td>\n",
       "    </tr>\n",
       "    <tr>\n",
       "      <th>740</th>\n",
       "      <td>False</td>\n",
       "      <td>False</td>\n",
       "      <td>False</td>\n",
       "      <td>False</td>\n",
       "    </tr>\n",
       "    <tr>\n",
       "      <th>385</th>\n",
       "      <td>False</td>\n",
       "      <td>False</td>\n",
       "      <td>False</td>\n",
       "      <td>False</td>\n",
       "    </tr>\n",
       "    <tr>\n",
       "      <th>...</th>\n",
       "      <td>...</td>\n",
       "      <td>...</td>\n",
       "      <td>...</td>\n",
       "      <td>...</td>\n",
       "    </tr>\n",
       "    <tr>\n",
       "      <th>936</th>\n",
       "      <td>False</td>\n",
       "      <td>False</td>\n",
       "      <td>False</td>\n",
       "      <td>False</td>\n",
       "    </tr>\n",
       "    <tr>\n",
       "      <th>428</th>\n",
       "      <td>False</td>\n",
       "      <td>False</td>\n",
       "      <td>False</td>\n",
       "      <td>False</td>\n",
       "    </tr>\n",
       "    <tr>\n",
       "      <th>512</th>\n",
       "      <td>False</td>\n",
       "      <td>False</td>\n",
       "      <td>False</td>\n",
       "      <td>False</td>\n",
       "    </tr>\n",
       "    <tr>\n",
       "      <th>298</th>\n",
       "      <td>False</td>\n",
       "      <td>False</td>\n",
       "      <td>False</td>\n",
       "      <td>False</td>\n",
       "    </tr>\n",
       "    <tr>\n",
       "      <th>842</th>\n",
       "      <td>False</td>\n",
       "      <td>False</td>\n",
       "      <td>False</td>\n",
       "      <td>False</td>\n",
       "    </tr>\n",
       "  </tbody>\n",
       "</table>\n",
       "<p>999 rows × 4 columns</p>\n",
       "</div>"
      ],
      "text/plain": [
       "      3364  Facebook  Irrelevant   text\n",
       "827  False     False       False  False\n",
       "33   False     False       False  False\n",
       "648  False     False       False  False\n",
       "740  False     False       False  False\n",
       "385  False     False       False  False\n",
       "..     ...       ...         ...    ...\n",
       "936  False     False       False  False\n",
       "428  False     False       False  False\n",
       "512  False     False       False  False\n",
       "298  False     False       False  False\n",
       "842  False     False       False  False\n",
       "\n",
       "[999 rows x 4 columns]"
      ]
     },
     "execution_count": 6,
     "metadata": {},
     "output_type": "execute_result"
    }
   ],
   "source": [
    "dataframe1.isna()"
   ]
  },
  {
   "cell_type": "code",
   "execution_count": 7,
   "id": "5d644499",
   "metadata": {},
   "outputs": [
    {
     "data": {
      "text/plain": [
       "3364          0\n",
       "Facebook      0\n",
       "Irrelevant    0\n",
       "text          0\n",
       "dtype: int64"
      ]
     },
     "execution_count": 7,
     "metadata": {},
     "output_type": "execute_result"
    }
   ],
   "source": [
    "dataframe1.isna().sum()"
   ]
  },
  {
   "cell_type": "code",
   "execution_count": 8,
   "id": "7d0aa2b9",
   "metadata": {},
   "outputs": [
    {
     "data": {
      "image/png": "[encoded data removed]",
      "text/plain": [
       "<Figure size 1000x600 with 1 Axes>"
      ]
     },
     "metadata": {},
     "output_type": "display_data"
    }
   ],
   "source": [
    "# Create a heatmap of missing values\n",
    "plt.figure(figsize=(10, 6))\n",
    "custom_cmap = sns.color_palette([\"#FF1493\", \"#D3D3D3\"])\n",
    "sns.heatmap(dataframe1.isnull(), cmap=custom_cmap, cbar=False, yticklabels=False)\n",
    "plt.title('Missing Values Heatmap')\n",
    "plt.show()"
   ]
  },
  {
   "cell_type": "code",
   "execution_count": 9,
   "id": "87db041a",
   "metadata": {},
   "outputs": [
    {
     "name": "stdout",
     "output_type": "stream",
     "text": [
      "Facebook\n",
      "RedDeadRedemption(RDR)               40\n",
      "johnson&johnson                      39\n",
      "PlayerUnknownsBattlegrounds(PUBG)    38\n",
      "FIFA                                 38\n",
      "LeagueOfLegends                      37\n",
      "ApexLegends                          36\n",
      "Nvidia                               35\n",
      "GrandTheftAuto(GTA)                  35\n",
      "TomClancysRainbowSix                 35\n",
      "Fortnite                             34\n",
      "Amazon                               34\n",
      "Borderlands                          33\n",
      "AssassinsCreed                       33\n",
      "PlayStation5(PS5)                    33\n",
      "Facebook                             32\n",
      "Verizon                              32\n",
      "CS-GO                                32\n",
      "Overwatch                            32\n",
      "Hearthstone                          32\n",
      "CallOfDuty                           31\n",
      "WorldOfCraft                         30\n",
      "Cyberpunk2077                        30\n",
      "MaddenNFL                            29\n",
      "Microsoft                            28\n",
      "Dota2                                27\n",
      "CallOfDutyBlackopsColdWar            27\n",
      "Xbox(Xseries)                        26\n",
      "Battlefield                          26\n",
      "Google                               24\n",
      "TomClancysGhostRecon                 22\n",
      "NBA2K                                21\n",
      "HomeDepot                            18\n",
      "Name: count, dtype: int64\n"
     ]
    }
   ],
   "source": [
    "class_distribution_Facebook = dataframe1['Facebook'].value_counts()\n",
    "print(class_distribution_Facebook)"
   ]
  },
  {
   "cell_type": "code",
   "execution_count": 10,
   "id": "d75f9e62",
   "metadata": {},
   "outputs": [
    {
     "name": "stdout",
     "output_type": "stream",
     "text": [
      "Ratio between majority and minority classes: 1.0256410256410255\n"
     ]
    }
   ],
   "source": [
    "# Assuming binary classification\n",
    "ratio_majority_minority_Facebook = class_distribution_Facebook[0] / class_distribution_Facebook[1]\n",
    "print(f\"Ratio between majority and minority classes: {ratio_majority_minority_Facebook}\")"
   ]
  },
  {
   "cell_type": "code",
   "execution_count": 11,
   "id": "1cee228f",
   "metadata": {},
   "outputs": [
    {
     "data": {
      "image/png": "[encoded data removed]",
      "text/plain": [
       "<Figure size 640x480 with 1 Axes>"
      ]
     },
     "metadata": {},
     "output_type": "display_data"
    }
   ],
   "source": [
    "import matplotlib.pyplot as plt\n",
    "\n",
    "# Plot class distribution\n",
    "class_distribution_Facebook.plot(kind='bar', title='Class Distribution')\n",
    "plt.xlabel('Class')\n",
    "plt.ylabel('Count')\n",
    "plt.show()"
   ]
  },
  {
   "cell_type": "code",
   "execution_count": 12,
   "id": "d08d6a52",
   "metadata": {},
   "outputs": [
    {
     "name": "stdout",
     "output_type": "stream",
     "text": [
      "Irrelevant\n",
      "Neutral       285\n",
      "Positive      277\n",
      "Negative      266\n",
      "Irrelevant    171\n",
      "Name: count, dtype: int64\n"
     ]
    }
   ],
   "source": [
    " class_distribution_Irrelevant = dataframe1['Irrelevant'].value_counts()\n",
    "print(class_distribution_Irrelevant)"
   ]
  },
  {
   "cell_type": "code",
   "execution_count": 13,
   "id": "912f13b2",
   "metadata": {},
   "outputs": [
    {
     "name": "stdout",
     "output_type": "stream",
     "text": [
      "Ratio between majority and minority classes: 1.0288808664259927\n"
     ]
    }
   ],
   "source": [
    "# Assuming binary classification\n",
    "ratio_majority_minority_Irrelevant = class_distribution_Irrelevant[0] / class_distribution_Irrelevant[1]\n",
    "print(f\"Ratio between majority and minority classes: {ratio_majority_minority_Irrelevant}\")"
   ]
  },
  {
   "cell_type": "code",
   "execution_count": 14,
   "id": "0000c24e",
   "metadata": {},
   "outputs": [
    {
     "data": {
      "image/png": "[encoded data removed]",
      "text/plain": [
       "<Figure size 640x480 with 1 Axes>"
      ]
     },
     "metadata": {},
     "output_type": "display_data"
    }
   ],
   "source": [
    "import matplotlib.pyplot as plt\n",
    "\n",
    "# Plot class distribution\n",
    "class_distribution_Irrelevant.plot(kind='bar', title='Class Distribution')\n",
    "plt.xlabel('Class')\n",
    "plt.ylabel('Count')\n",
    "plt.show()"
   ]
  },
  {
   "cell_type": "code",
   "execution_count": 15,
   "id": "176de844",
   "metadata": {},
   "outputs": [
    {
     "data": {
      "text/plain": [
       "{'Amazon',\n",
       " 'ApexLegends',\n",
       " 'AssassinsCreed',\n",
       " 'Battlefield',\n",
       " 'Borderlands',\n",
       " 'CS-GO',\n",
       " 'CallOfDuty',\n",
       " 'CallOfDutyBlackopsColdWar',\n",
       " 'Cyberpunk2077',\n",
       " 'Dota2',\n",
       " 'FIFA',\n",
       " 'Facebook',\n",
       " 'Fortnite',\n",
       " 'Google',\n",
       " 'GrandTheftAuto(GTA)',\n",
       " 'Hearthstone',\n",
       " 'HomeDepot',\n",
       " 'LeagueOfLegends',\n",
       " 'MaddenNFL',\n",
       " 'Microsoft',\n",
       " 'NBA2K',\n",
       " 'Nvidia',\n",
       " 'Overwatch',\n",
       " 'PlayStation5(PS5)',\n",
       " 'PlayerUnknownsBattlegrounds(PUBG)',\n",
       " 'RedDeadRedemption(RDR)',\n",
       " 'TomClancysGhostRecon',\n",
       " 'TomClancysRainbowSix',\n",
       " 'Verizon',\n",
       " 'WorldOfCraft',\n",
       " 'Xbox(Xseries)',\n",
       " 'johnson&johnson'}"
      ]
     },
     "execution_count": 15,
     "metadata": {},
     "output_type": "execute_result"
    }
   ],
   "source": [
    "set(dataframe1[['Facebook']].values.ravel()) # set() fetch the unique data only"
   ]
  },
  {
   "cell_type": "code",
   "execution_count": 16,
   "id": "251b7880",
   "metadata": {},
   "outputs": [
    {
     "data": {
      "text/plain": [
       "Facebook\n",
       "Amazon                               34\n",
       "ApexLegends                          36\n",
       "AssassinsCreed                       33\n",
       "Battlefield                          26\n",
       "Borderlands                          33\n",
       "CS-GO                                32\n",
       "CallOfDuty                           31\n",
       "CallOfDutyBlackopsColdWar            27\n",
       "Cyberpunk2077                        30\n",
       "Dota2                                27\n",
       "FIFA                                 38\n",
       "Facebook                             32\n",
       "Fortnite                             34\n",
       "Google                               24\n",
       "GrandTheftAuto(GTA)                  35\n",
       "Hearthstone                          32\n",
       "HomeDepot                            18\n",
       "LeagueOfLegends                      37\n",
       "MaddenNFL                            29\n",
       "Microsoft                            28\n",
       "NBA2K                                21\n",
       "Nvidia                               35\n",
       "Overwatch                            32\n",
       "PlayStation5(PS5)                    33\n",
       "PlayerUnknownsBattlegrounds(PUBG)    38\n",
       "RedDeadRedemption(RDR)               40\n",
       "TomClancysGhostRecon                 22\n",
       "TomClancysRainbowSix                 35\n",
       "Verizon                              32\n",
       "WorldOfCraft                         30\n",
       "Xbox(Xseries)                        26\n",
       "johnson&johnson                      39\n",
       "Name: Facebook, dtype: int64"
      ]
     },
     "execution_count": 16,
     "metadata": {},
     "output_type": "execute_result"
    }
   ],
   "source": [
    "dataframe1.groupby('Facebook').Facebook.count()"
   ]
  },
  {
   "cell_type": "code",
   "execution_count": 17,
   "id": "a82634ed",
   "metadata": {},
   "outputs": [
    {
     "data": {
      "text/plain": [
       "{'Irrelevant', 'Negative', 'Neutral', 'Positive'}"
      ]
     },
     "execution_count": 17,
     "metadata": {},
     "output_type": "execute_result"
    }
   ],
   "source": [
    "set(dataframe1['Irrelevant'].unique()) # set() fetch the unique data only"
   ]
  },
  {
   "cell_type": "code",
   "execution_count": 18,
   "id": "46b810b1",
   "metadata": {},
   "outputs": [
    {
     "data": {
      "text/plain": [
       "Irrelevant\n",
       "Irrelevant    171\n",
       "Negative      266\n",
       "Neutral       285\n",
       "Positive      277\n",
       "Name: Irrelevant, dtype: int64"
      ]
     },
     "execution_count": 18,
     "metadata": {},
     "output_type": "execute_result"
    }
   ],
   "source": [
    "dataframe1.groupby('Irrelevant').Irrelevant.count()"
   ]
  },
  {
   "cell_type": "code",
   "execution_count": 19,
   "id": "3e4273f5",
   "metadata": {},
   "outputs": [
    {
     "data": {
      "image/png": "[encoded data removed]",
      "text/plain": [
       "<Figure size 640x480 with 1 Axes>"
      ]
     },
     "metadata": {},
     "output_type": "display_data"
    }
   ],
   "source": [
    "#Analyzing data\n",
    "dataframe1.groupby('Facebook').Facebook.count().plot.bar()\n",
    "plt.show()"
   ]
  },
  {
   "cell_type": "code",
   "execution_count": 20,
   "id": "3d151ed0",
   "metadata": {},
   "outputs": [
    {
     "data": {
      "image/png": "[encoded data removed]",
      "text/plain": [
       "<Figure size 640x480 with 1 Axes>"
      ]
     },
     "metadata": {},
     "output_type": "display_data"
    }
   ],
   "source": [
    "#Analyzing data\n",
    "dataframe1.groupby('Irrelevant').Irrelevant.count().plot.bar()\n",
    "plt.show()"
   ]
  },
  {
   "cell_type": "code",
   "execution_count": 21,
   "id": "94957ece",
   "metadata": {},
   "outputs": [
    {
     "data": {
      "text/html": [
       "<div>\n",
       "<style scoped>\n",
       "    .dataframe tbody tr th:only-of-type {\n",
       "        vertical-align: middle;\n",
       "    }\n",
       "\n",
       "    .dataframe tbody tr th {\n",
       "        vertical-align: top;\n",
       "    }\n",
       "\n",
       "    .dataframe thead th {\n",
       "        text-align: right;\n",
       "    }\n",
       "</style>\n",
       "<table border=\"1\" class=\"dataframe\">\n",
       "  <thead>\n",
       "    <tr style=\"text-align: right;\">\n",
       "      <th>Irrelevant</th>\n",
       "      <th>Irrelevant</th>\n",
       "      <th>Negative</th>\n",
       "      <th>Neutral</th>\n",
       "      <th>Positive</th>\n",
       "    </tr>\n",
       "    <tr>\n",
       "      <th>Facebook</th>\n",
       "      <th></th>\n",
       "      <th></th>\n",
       "      <th></th>\n",
       "      <th></th>\n",
       "    </tr>\n",
       "  </thead>\n",
       "  <tbody>\n",
       "    <tr>\n",
       "      <th>Amazon</th>\n",
       "      <td>3.0</td>\n",
       "      <td>6.0</td>\n",
       "      <td>18.0</td>\n",
       "      <td>7.0</td>\n",
       "    </tr>\n",
       "    <tr>\n",
       "      <th>ApexLegends</th>\n",
       "      <td>3.0</td>\n",
       "      <td>6.0</td>\n",
       "      <td>17.0</td>\n",
       "      <td>10.0</td>\n",
       "    </tr>\n",
       "    <tr>\n",
       "      <th>AssassinsCreed</th>\n",
       "      <td>1.0</td>\n",
       "      <td>4.0</td>\n",
       "      <td>4.0</td>\n",
       "      <td>24.0</td>\n",
       "    </tr>\n",
       "    <tr>\n",
       "      <th>Battlefield</th>\n",
       "      <td>12.0</td>\n",
       "      <td>7.0</td>\n",
       "      <td>4.0</td>\n",
       "      <td>3.0</td>\n",
       "    </tr>\n",
       "    <tr>\n",
       "      <th>Borderlands</th>\n",
       "      <td>2.0</td>\n",
       "      <td>5.0</td>\n",
       "      <td>12.0</td>\n",
       "      <td>14.0</td>\n",
       "    </tr>\n",
       "    <tr>\n",
       "      <th>CS-GO</th>\n",
       "      <td>8.0</td>\n",
       "      <td>2.0</td>\n",
       "      <td>13.0</td>\n",
       "      <td>9.0</td>\n",
       "    </tr>\n",
       "    <tr>\n",
       "      <th>CallOfDuty</th>\n",
       "      <td>11.0</td>\n",
       "      <td>8.0</td>\n",
       "      <td>7.0</td>\n",
       "      <td>5.0</td>\n",
       "    </tr>\n",
       "    <tr>\n",
       "      <th>CallOfDutyBlackopsColdWar</th>\n",
       "      <td>8.0</td>\n",
       "      <td>3.0</td>\n",
       "      <td>6.0</td>\n",
       "      <td>10.0</td>\n",
       "    </tr>\n",
       "    <tr>\n",
       "      <th>Cyberpunk2077</th>\n",
       "      <td>8.0</td>\n",
       "      <td>1.0</td>\n",
       "      <td>4.0</td>\n",
       "      <td>17.0</td>\n",
       "    </tr>\n",
       "    <tr>\n",
       "      <th>Dota2</th>\n",
       "      <td>1.0</td>\n",
       "      <td>8.0</td>\n",
       "      <td>11.0</td>\n",
       "      <td>7.0</td>\n",
       "    </tr>\n",
       "    <tr>\n",
       "      <th>FIFA</th>\n",
       "      <td>10.0</td>\n",
       "      <td>16.0</td>\n",
       "      <td>4.0</td>\n",
       "      <td>8.0</td>\n",
       "    </tr>\n",
       "    <tr>\n",
       "      <th>Facebook</th>\n",
       "      <td>8.0</td>\n",
       "      <td>8.0</td>\n",
       "      <td>13.0</td>\n",
       "      <td>3.0</td>\n",
       "    </tr>\n",
       "    <tr>\n",
       "      <th>Fortnite</th>\n",
       "      <td>15.0</td>\n",
       "      <td>13.0</td>\n",
       "      <td>1.0</td>\n",
       "      <td>5.0</td>\n",
       "    </tr>\n",
       "    <tr>\n",
       "      <th>Google</th>\n",
       "      <td>5.0</td>\n",
       "      <td>8.0</td>\n",
       "      <td>8.0</td>\n",
       "      <td>3.0</td>\n",
       "    </tr>\n",
       "    <tr>\n",
       "      <th>GrandTheftAuto(GTA)</th>\n",
       "      <td>9.0</td>\n",
       "      <td>9.0</td>\n",
       "      <td>6.0</td>\n",
       "      <td>11.0</td>\n",
       "    </tr>\n",
       "    <tr>\n",
       "      <th>Hearthstone</th>\n",
       "      <td>2.0</td>\n",
       "      <td>10.0</td>\n",
       "      <td>10.0</td>\n",
       "      <td>10.0</td>\n",
       "    </tr>\n",
       "    <tr>\n",
       "      <th>HomeDepot</th>\n",
       "      <td>2.0</td>\n",
       "      <td>8.0</td>\n",
       "      <td>5.0</td>\n",
       "      <td>3.0</td>\n",
       "    </tr>\n",
       "    <tr>\n",
       "      <th>LeagueOfLegends</th>\n",
       "      <td>6.0</td>\n",
       "      <td>8.0</td>\n",
       "      <td>14.0</td>\n",
       "      <td>9.0</td>\n",
       "    </tr>\n",
       "    <tr>\n",
       "      <th>MaddenNFL</th>\n",
       "      <td>1.0</td>\n",
       "      <td>18.0</td>\n",
       "      <td>2.0</td>\n",
       "      <td>8.0</td>\n",
       "    </tr>\n",
       "    <tr>\n",
       "      <th>Microsoft</th>\n",
       "      <td>1.0</td>\n",
       "      <td>7.0</td>\n",
       "      <td>6.0</td>\n",
       "      <td>14.0</td>\n",
       "    </tr>\n",
       "    <tr>\n",
       "      <th>NBA2K</th>\n",
       "      <td>NaN</td>\n",
       "      <td>17.0</td>\n",
       "      <td>3.0</td>\n",
       "      <td>1.0</td>\n",
       "    </tr>\n",
       "    <tr>\n",
       "      <th>Nvidia</th>\n",
       "      <td>2.0</td>\n",
       "      <td>8.0</td>\n",
       "      <td>15.0</td>\n",
       "      <td>10.0</td>\n",
       "    </tr>\n",
       "    <tr>\n",
       "      <th>Overwatch</th>\n",
       "      <td>9.0</td>\n",
       "      <td>12.0</td>\n",
       "      <td>4.0</td>\n",
       "      <td>7.0</td>\n",
       "    </tr>\n",
       "    <tr>\n",
       "      <th>PlayStation5(PS5)</th>\n",
       "      <td>2.0</td>\n",
       "      <td>7.0</td>\n",
       "      <td>9.0</td>\n",
       "      <td>15.0</td>\n",
       "    </tr>\n",
       "    <tr>\n",
       "      <th>PlayerUnknownsBattlegrounds(PUBG)</th>\n",
       "      <td>15.0</td>\n",
       "      <td>10.0</td>\n",
       "      <td>4.0</td>\n",
       "      <td>9.0</td>\n",
       "    </tr>\n",
       "    <tr>\n",
       "      <th>RedDeadRedemption(RDR)</th>\n",
       "      <td>2.0</td>\n",
       "      <td>5.0</td>\n",
       "      <td>18.0</td>\n",
       "      <td>15.0</td>\n",
       "    </tr>\n",
       "    <tr>\n",
       "      <th>TomClancysGhostRecon</th>\n",
       "      <td>NaN</td>\n",
       "      <td>12.0</td>\n",
       "      <td>7.0</td>\n",
       "      <td>3.0</td>\n",
       "    </tr>\n",
       "    <tr>\n",
       "      <th>TomClancysRainbowSix</th>\n",
       "      <td>1.0</td>\n",
       "      <td>9.0</td>\n",
       "      <td>13.0</td>\n",
       "      <td>12.0</td>\n",
       "    </tr>\n",
       "    <tr>\n",
       "      <th>Verizon</th>\n",
       "      <td>2.0</td>\n",
       "      <td>13.0</td>\n",
       "      <td>10.0</td>\n",
       "      <td>7.0</td>\n",
       "    </tr>\n",
       "    <tr>\n",
       "      <th>WorldOfCraft</th>\n",
       "      <td>7.0</td>\n",
       "      <td>1.0</td>\n",
       "      <td>15.0</td>\n",
       "      <td>7.0</td>\n",
       "    </tr>\n",
       "    <tr>\n",
       "      <th>Xbox(Xseries)</th>\n",
       "      <td>12.0</td>\n",
       "      <td>4.0</td>\n",
       "      <td>3.0</td>\n",
       "      <td>7.0</td>\n",
       "    </tr>\n",
       "    <tr>\n",
       "      <th>johnson&amp;johnson</th>\n",
       "      <td>3.0</td>\n",
       "      <td>13.0</td>\n",
       "      <td>19.0</td>\n",
       "      <td>4.0</td>\n",
       "    </tr>\n",
       "  </tbody>\n",
       "</table>\n",
       "</div>"
      ],
      "text/plain": [
       "Irrelevant                         Irrelevant  Negative  Neutral  Positive\n",
       "Facebook                                                                  \n",
       "Amazon                                    3.0       6.0     18.0       7.0\n",
       "ApexLegends                               3.0       6.0     17.0      10.0\n",
       "AssassinsCreed                            1.0       4.0      4.0      24.0\n",
       "Battlefield                              12.0       7.0      4.0       3.0\n",
       "Borderlands                               2.0       5.0     12.0      14.0\n",
       "CS-GO                                     8.0       2.0     13.0       9.0\n",
       "CallOfDuty                               11.0       8.0      7.0       5.0\n",
       "CallOfDutyBlackopsColdWar                 8.0       3.0      6.0      10.0\n",
       "Cyberpunk2077                             8.0       1.0      4.0      17.0\n",
       "Dota2                                     1.0       8.0     11.0       7.0\n",
       "FIFA                                     10.0      16.0      4.0       8.0\n",
       "Facebook                                  8.0       8.0     13.0       3.0\n",
       "Fortnite                                 15.0      13.0      1.0       5.0\n",
       "Google                                    5.0       8.0      8.0       3.0\n",
       "GrandTheftAuto(GTA)                       9.0       9.0      6.0      11.0\n",
       "Hearthstone                               2.0      10.0     10.0      10.0\n",
       "HomeDepot                                 2.0       8.0      5.0       3.0\n",
       "LeagueOfLegends                           6.0       8.0     14.0       9.0\n",
       "MaddenNFL                                 1.0      18.0      2.0       8.0\n",
       "Microsoft                                 1.0       7.0      6.0      14.0\n",
       "NBA2K                                     NaN      17.0      3.0       1.0\n",
       "Nvidia                                    2.0       8.0     15.0      10.0\n",
       "Overwatch                                 9.0      12.0      4.0       7.0\n",
       "PlayStation5(PS5)                         2.0       7.0      9.0      15.0\n",
       "PlayerUnknownsBattlegrounds(PUBG)        15.0      10.0      4.0       9.0\n",
       "RedDeadRedemption(RDR)                    2.0       5.0     18.0      15.0\n",
       "TomClancysGhostRecon                      NaN      12.0      7.0       3.0\n",
       "TomClancysRainbowSix                      1.0       9.0     13.0      12.0\n",
       "Verizon                                   2.0      13.0     10.0       7.0\n",
       "WorldOfCraft                              7.0       1.0     15.0       7.0\n",
       "Xbox(Xseries)                            12.0       4.0      3.0       7.0\n",
       "johnson&johnson                           3.0      13.0     19.0       4.0"
      ]
     },
     "execution_count": 21,
     "metadata": {},
     "output_type": "execute_result"
    }
   ],
   "source": [
    "# Group by 'Borderlands' and 'Positive' columns and count occurrences\n",
    "grouped_data = dataframe1.groupby(['Facebook', 'Irrelevant']).size().unstack()\n",
    "grouped_data"
   ]
  },
  {
   "cell_type": "code",
   "execution_count": 22,
   "id": "952cf176",
   "metadata": {},
   "outputs": [
    {
     "data": {
      "image/png": "[encoded data removed]",
      "text/plain": [
       "<Figure size 640x480 with 1 Axes>"
      ]
     },
     "metadata": {},
     "output_type": "display_data"
    }
   ],
   "source": [
    "# Group by 'Borderlands' and 'Positive' columns and count occurrences\n",
    "grouped_data = dataframe1.groupby(['Facebook', 'Irrelevant']).size().unstack()\n",
    "\n",
    "# Plotting\n",
    "grouped_data.plot(kind='bar', stacked=True)\n",
    "plt.show()"
   ]
  },
  {
   "cell_type": "markdown",
   "id": "5f616f51",
   "metadata": {},
   "source": [
    "Let's make a new column to detect how long the text messages are"
   ]
  },
  {
   "cell_type": "code",
   "execution_count": 23,
   "id": "91b28b41",
   "metadata": {},
   "outputs": [
    {
     "data": {
      "text/html": [
       "<div>\n",
       "<style scoped>\n",
       "    .dataframe tbody tr th:only-of-type {\n",
       "        vertical-align: middle;\n",
       "    }\n",
       "\n",
       "    .dataframe tbody tr th {\n",
       "        vertical-align: top;\n",
       "    }\n",
       "\n",
       "    .dataframe thead th {\n",
       "        text-align: right;\n",
       "    }\n",
       "</style>\n",
       "<table border=\"1\" class=\"dataframe\">\n",
       "  <thead>\n",
       "    <tr style=\"text-align: right;\">\n",
       "      <th></th>\n",
       "      <th>3364</th>\n",
       "      <th>Facebook</th>\n",
       "      <th>Irrelevant</th>\n",
       "      <th>text</th>\n",
       "      <th>Length</th>\n",
       "    </tr>\n",
       "  </thead>\n",
       "  <tbody>\n",
       "    <tr>\n",
       "      <th>827</th>\n",
       "      <td>1857</td>\n",
       "      <td>CallOfDutyBlackopsColdWar</td>\n",
       "      <td>Negative</td>\n",
       "      <td>Score Streaks are the worst thing to happen in...</td>\n",
       "      <td>74</td>\n",
       "    </tr>\n",
       "    <tr>\n",
       "      <th>33</th>\n",
       "      <td>6650</td>\n",
       "      <td>Fortnite</td>\n",
       "      <td>Negative</td>\n",
       "      <td>Fortnite is running like ass.. fps drops every...</td>\n",
       "      <td>56</td>\n",
       "    </tr>\n",
       "    <tr>\n",
       "      <th>648</th>\n",
       "      <td>10391</td>\n",
       "      <td>PlayerUnknownsBattlegrounds(PUBG)</td>\n",
       "      <td>Positive</td>\n",
       "      <td>3 years ago this week. ð­\\n\\nSuch a good tim...</td>\n",
       "      <td>240</td>\n",
       "    </tr>\n",
       "    <tr>\n",
       "      <th>740</th>\n",
       "      <td>1579</td>\n",
       "      <td>Battlefield</td>\n",
       "      <td>Negative</td>\n",
       "      <td>Update: I did not do this\\n\\nI played battlefi...</td>\n",
       "      <td>79</td>\n",
       "    </tr>\n",
       "    <tr>\n",
       "      <th>385</th>\n",
       "      <td>9864</td>\n",
       "      <td>PlayStation5(PS5)</td>\n",
       "      <td>Neutral</td>\n",
       "      <td>I don't know what you people have been doing o...</td>\n",
       "      <td>126</td>\n",
       "    </tr>\n",
       "    <tr>\n",
       "      <th>...</th>\n",
       "      <td>...</td>\n",
       "      <td>...</td>\n",
       "      <td>...</td>\n",
       "      <td>...</td>\n",
       "      <td>...</td>\n",
       "    </tr>\n",
       "    <tr>\n",
       "      <th>936</th>\n",
       "      <td>9496</td>\n",
       "      <td>Overwatch</td>\n",
       "      <td>Positive</td>\n",
       "      <td>Donât tweet much but hereâs what Iâve be...</td>\n",
       "      <td>223</td>\n",
       "    </tr>\n",
       "    <tr>\n",
       "      <th>428</th>\n",
       "      <td>6494</td>\n",
       "      <td>Fortnite</td>\n",
       "      <td>Negative</td>\n",
       "      <td>Looking at pc specs: yeah this will run fortni...</td>\n",
       "      <td>101</td>\n",
       "    </tr>\n",
       "    <tr>\n",
       "      <th>512</th>\n",
       "      <td>7782</td>\n",
       "      <td>MaddenNFL</td>\n",
       "      <td>Negative</td>\n",
       "      <td>@EAMaddenNFL servers down?</td>\n",
       "      <td>26</td>\n",
       "    </tr>\n",
       "    <tr>\n",
       "      <th>298</th>\n",
       "      <td>8719</td>\n",
       "      <td>NBA2K</td>\n",
       "      <td>Negative</td>\n",
       "      <td>@NBA2K you guys gotta fix the shooting bugs bc...</td>\n",
       "      <td>194</td>\n",
       "    </tr>\n",
       "    <tr>\n",
       "      <th>842</th>\n",
       "      <td>12831</td>\n",
       "      <td>Xbox(Xseries)</td>\n",
       "      <td>Negative</td>\n",
       "      <td>@XboxP3 delay the Xbox Series X whatâs the p...</td>\n",
       "      <td>82</td>\n",
       "    </tr>\n",
       "  </tbody>\n",
       "</table>\n",
       "<p>999 rows × 5 columns</p>\n",
       "</div>"
      ],
      "text/plain": [
       "      3364                           Facebook Irrelevant  \\\n",
       "827   1857          CallOfDutyBlackopsColdWar   Negative   \n",
       "33    6650                           Fortnite   Negative   \n",
       "648  10391  PlayerUnknownsBattlegrounds(PUBG)   Positive   \n",
       "740   1579                        Battlefield   Negative   \n",
       "385   9864                  PlayStation5(PS5)    Neutral   \n",
       "..     ...                                ...        ...   \n",
       "936   9496                          Overwatch   Positive   \n",
       "428   6494                           Fortnite   Negative   \n",
       "512   7782                          MaddenNFL   Negative   \n",
       "298   8719                              NBA2K   Negative   \n",
       "842  12831                      Xbox(Xseries)   Negative   \n",
       "\n",
       "                                                  text  Length  \n",
       "827  Score Streaks are the worst thing to happen in...      74  \n",
       "33   Fortnite is running like ass.. fps drops every...      56  \n",
       "648  3 years ago this week. ð­\\n\\nSuch a good tim...     240  \n",
       "740  Update: I did not do this\\n\\nI played battlefi...      79  \n",
       "385  I don't know what you people have been doing o...     126  \n",
       "..                                                 ...     ...  \n",
       "936  Donât tweet much but hereâs what Iâve be...     223  \n",
       "428  Looking at pc specs: yeah this will run fortni...     101  \n",
       "512                         @EAMaddenNFL servers down?      26  \n",
       "298  @NBA2K you guys gotta fix the shooting bugs bc...     194  \n",
       "842  @XboxP3 delay the Xbox Series X whatâs the p...      82  \n",
       "\n",
       "[999 rows x 5 columns]"
      ]
     },
     "execution_count": 23,
     "metadata": {},
     "output_type": "execute_result"
    }
   ],
   "source": [
    "dataframe1['Length'] = dataframe1['text'].apply(len)\n",
    "dataframe1"
   ]
  },
  {
   "cell_type": "markdown",
   "id": "e77c23b3",
   "metadata": {},
   "source": [
    "Let's see the percentage of ham and spam in our dataset"
   ]
  },
  {
   "cell_type": "code",
   "execution_count": 24,
   "id": "4050037d",
   "metadata": {},
   "outputs": [
    {
     "data": {
      "text/plain": [
       "count    999.000000\n",
       "mean     133.767768\n",
       "std       82.605942\n",
       "min        3.000000\n",
       "25%       69.000000\n",
       "50%      116.000000\n",
       "75%      191.500000\n",
       "max      352.000000\n",
       "Name: Length, dtype: float64"
      ]
     },
     "execution_count": 24,
     "metadata": {},
     "output_type": "execute_result"
    }
   ],
   "source": [
    "dataframe1['Length'].describe()"
   ]
  },
  {
   "cell_type": "markdown",
   "id": "0579937c",
   "metadata": {},
   "source": [
    "# **Text Cleaning**\n",
    "\n",
    "Let’s clean the text for the messages in our dataset with NLP."
   ]
  },
  {
   "cell_type": "code",
   "execution_count": 25,
   "id": "6a0fb32e",
   "metadata": {},
   "outputs": [
    {
     "data": {
      "text/plain": [
       "'!\"#$%&\\'()*+,-./:;<=>?@[\\\\]^_`{|}~'"
      ]
     },
     "execution_count": 25,
     "metadata": {},
     "output_type": "execute_result"
    }
   ],
   "source": [
    "import string\n",
    "from nltk.corpus import stopwords\n",
    "string.punctuation"
   ]
  },
  {
   "cell_type": "code",
   "execution_count": 26,
   "id": "22073dcc",
   "metadata": {},
   "outputs": [],
   "source": [
    "mess = '''For me / @the love should start with attraction.i should feel that I need her every time around me.she should be the first thing which comes in my thoughts.I would start the day and end it with her.she should be there every time I dream.love will be then when my every breath has her name.my life should happen around her.my life will be named to her.I would cry for her.will give all my happiness and take all her sorrows.I will be ready to fight with anyone for her.I will be in love when I will be doing the craziest things for her.love will be when I don't have to proove anyone that my girl is the most beautiful lady on the whole planet.I will always be singing praises for her.love will be when I start up making chicken curry and end up makiing sambar.life will be the most beautiful then.will get every morning and thank god for the day because she is with me.I would like to say a lot..will tell later..'''"
   ]
  },
  {
   "cell_type": "code",
   "execution_count": 27,
   "id": "800924eb",
   "metadata": {},
   "outputs": [
    {
     "name": "stdout",
     "output_type": "stream",
     "text": [
      "For me  the love should start with attractioni should feel that I need her every time around meshe should be the first thing which comes in my thoughtsI would start the day and end it with hershe should be there every time I dreamlove will be then when my every breath has her namemy life should happen around hermy life will be named to herI would cry for herwill give all my happiness and take all her sorrowsI will be ready to fight with anyone for herI will be in love when I will be doing the craziest things for herlove will be when I dont have to proove anyone that my girl is the most beautiful lady on the whole planetI will always be singing praises for herlove will be when I start up making chicken curry and end up makiing sambarlife will be the most beautiful thenwill get every morning and thank god for the day because she is with meI would like to say a lotwill tell later\n"
     ]
    }
   ],
   "source": [
    "nopunc = ''.join([char for char in mess if char not in string.punctuation])\n",
    "print(nopunc)"
   ]
  },
  {
   "cell_type": "code",
   "execution_count": 28,
   "id": "d4a7b6dd",
   "metadata": {},
   "outputs": [
    {
     "name": "stderr",
     "output_type": "stream",
     "text": [
      "[nltk_data] Downloading package stopwords to /home/kali/nltk_data...\n",
      "[nltk_data]   Package stopwords is already up-to-date!\n"
     ]
    },
    {
     "data": {
      "text/plain": [
       "['i',\n",
       " 'me',\n",
       " 'my',\n",
       " 'myself',\n",
       " 'we',\n",
       " 'our',\n",
       " 'ours',\n",
       " 'ourselves',\n",
       " 'you',\n",
       " \"you're\",\n",
       " \"you've\",\n",
       " \"you'll\",\n",
       " \"you'd\",\n",
       " 'your',\n",
       " 'yours',\n",
       " 'yourself',\n",
       " 'yourselves',\n",
       " 'he',\n",
       " 'him',\n",
       " 'his',\n",
       " 'himself',\n",
       " 'she',\n",
       " \"she's\",\n",
       " 'her',\n",
       " 'hers',\n",
       " 'herself',\n",
       " 'it',\n",
       " \"it's\",\n",
       " 'its',\n",
       " 'itself',\n",
       " 'they',\n",
       " 'them',\n",
       " 'their',\n",
       " 'theirs',\n",
       " 'themselves',\n",
       " 'what',\n",
       " 'which',\n",
       " 'who',\n",
       " 'whom',\n",
       " 'this',\n",
       " 'that',\n",
       " \"that'll\",\n",
       " 'these',\n",
       " 'those',\n",
       " 'am',\n",
       " 'is',\n",
       " 'are',\n",
       " 'was',\n",
       " 'were',\n",
       " 'be',\n",
       " 'been',\n",
       " 'being',\n",
       " 'have',\n",
       " 'has',\n",
       " 'had',\n",
       " 'having',\n",
       " 'do',\n",
       " 'does',\n",
       " 'did',\n",
       " 'doing',\n",
       " 'a',\n",
       " 'an',\n",
       " 'the',\n",
       " 'and',\n",
       " 'but',\n",
       " 'if',\n",
       " 'or',\n",
       " 'because',\n",
       " 'as',\n",
       " 'until',\n",
       " 'while',\n",
       " 'of',\n",
       " 'at',\n",
       " 'by',\n",
       " 'for',\n",
       " 'with',\n",
       " 'about',\n",
       " 'against',\n",
       " 'between',\n",
       " 'into',\n",
       " 'through',\n",
       " 'during',\n",
       " 'before',\n",
       " 'after',\n",
       " 'above',\n",
       " 'below',\n",
       " 'to',\n",
       " 'from',\n",
       " 'up',\n",
       " 'down',\n",
       " 'in',\n",
       " 'out',\n",
       " 'on',\n",
       " 'off',\n",
       " 'over',\n",
       " 'under',\n",
       " 'again',\n",
       " 'further',\n",
       " 'then',\n",
       " 'once',\n",
       " 'here',\n",
       " 'there',\n",
       " 'when',\n",
       " 'where',\n",
       " 'why',\n",
       " 'how',\n",
       " 'all',\n",
       " 'any',\n",
       " 'both',\n",
       " 'each',\n",
       " 'few',\n",
       " 'more',\n",
       " 'most',\n",
       " 'other',\n",
       " 'some',\n",
       " 'such',\n",
       " 'no',\n",
       " 'nor',\n",
       " 'not',\n",
       " 'only',\n",
       " 'own',\n",
       " 'same',\n",
       " 'so',\n",
       " 'than',\n",
       " 'too',\n",
       " 'very',\n",
       " 's',\n",
       " 't',\n",
       " 'can',\n",
       " 'will',\n",
       " 'just',\n",
       " 'don',\n",
       " \"don't\",\n",
       " 'should',\n",
       " \"should've\",\n",
       " 'now',\n",
       " 'd',\n",
       " 'll',\n",
       " 'm',\n",
       " 'o',\n",
       " 're',\n",
       " 've',\n",
       " 'y',\n",
       " 'ain',\n",
       " 'aren',\n",
       " \"aren't\",\n",
       " 'couldn',\n",
       " \"couldn't\",\n",
       " 'didn',\n",
       " \"didn't\",\n",
       " 'doesn',\n",
       " \"doesn't\",\n",
       " 'hadn',\n",
       " \"hadn't\",\n",
       " 'hasn',\n",
       " \"hasn't\",\n",
       " 'haven',\n",
       " \"haven't\",\n",
       " 'isn',\n",
       " \"isn't\",\n",
       " 'ma',\n",
       " 'mightn',\n",
       " \"mightn't\",\n",
       " 'mustn',\n",
       " \"mustn't\",\n",
       " 'needn',\n",
       " \"needn't\",\n",
       " 'shan',\n",
       " \"shan't\",\n",
       " 'shouldn',\n",
       " \"shouldn't\",\n",
       " 'wasn',\n",
       " \"wasn't\",\n",
       " 'weren',\n",
       " \"weren't\",\n",
       " 'won',\n",
       " \"won't\",\n",
       " 'wouldn',\n",
       " \"wouldn't\"]"
      ]
     },
     "execution_count": 28,
     "metadata": {},
     "output_type": "execute_result"
    }
   ],
   "source": [
    "import nltk\n",
    "from nltk.corpus import stopwords\n",
    "nltk.download('stopwords')\n",
    "stopwords.words('english')"
   ]
  },
  {
   "cell_type": "markdown",
   "id": "4a07bd84",
   "metadata": {},
   "source": [
    "Let's create the function to remove all punctuation, remove all stopwords and returns a list of the cleaned text"
   ]
  },
  {
   "cell_type": "code",
   "execution_count": 29,
   "id": "c4ff1a28",
   "metadata": {},
   "outputs": [],
   "source": [
    "def text_process(message):\n",
    "    \"\"\"\n",
    "    Takes in a string of text, then performs the following:\n",
    "    1. Remove all punctuation\n",
    "    2. Remove all stopwords\n",
    "    3. Returns a list of the cleaned text\n",
    "    \"\"\"\n",
    "    # Check characters to see if they are in punctuation\n",
    "    nopunc = [char for char in message if char not in string.punctuation]\n",
    "\n",
    "    # Join the characters again to form the string.\n",
    "    nopunc = ''.join(nopunc)\n",
    "    # Now just remove any stopwords\n",
    "    # split() convert data into list\n",
    "    return [word for word in nopunc.split() if word.lower() not in stopwords.words('english')] "
   ]
  },
  {
   "cell_type": "markdown",
   "id": "8e74350e",
   "metadata": {},
   "source": [
    "**Vectorization**\n",
    "\n",
    "***CountVectorizer :*** CountVectorizer is a feature extraction technique used to convert a collection of text documents to a matrix of token counts.\n",
    "\n",
    "Now we have the messages as lists and we need to convert each of those messages into a vector that SciKit Learn's algorithm models can work with."
   ]
  },
  {
   "cell_type": "code",
   "execution_count": 1,
   "id": "a2955f25",
   "metadata": {},
   "outputs": [
    {
     "ename": "NameError",
     "evalue": "name 'text_process' is not defined",
     "output_type": "error",
     "traceback": [
      "\u001b[1;31m---------------------------------------------------------------------------\u001b[0m",
      "\u001b[1;31mNameError\u001b[0m                                 Traceback (most recent call last)",
      "Cell \u001b[1;32mIn[1], line 3\u001b[0m\n\u001b[0;32m      1\u001b[0m \u001b[38;5;28;01mfrom\u001b[39;00m \u001b[38;5;21;01msklearn\u001b[39;00m\u001b[38;5;21;01m.\u001b[39;00m\u001b[38;5;21;01mfeature_extraction\u001b[39;00m\u001b[38;5;21;01m.\u001b[39;00m\u001b[38;5;21;01mtext\u001b[39;00m \u001b[38;5;28;01mimport\u001b[39;00m CountVectorizer\n\u001b[0;32m      2\u001b[0m \u001b[38;5;66;03m## text_process function is calling by passing parameter dataframe1['text']\u001b[39;00m\n\u001b[1;32m----> 3\u001b[0m bow_transformer \u001b[38;5;241m=\u001b[39m CountVectorizer(analyzer\u001b[38;5;241m=\u001b[39mtext_process)\u001b[38;5;241m.\u001b[39mfit(dataframe1[\u001b[38;5;124m'\u001b[39m\u001b[38;5;124mtext\u001b[39m\u001b[38;5;124m'\u001b[39m])\n\u001b[0;32m      4\u001b[0m bow_transformer\n",
      "\u001b[1;31mNameError\u001b[0m: name 'text_process' is not defined"
     ]
    }
   ],
   "source": [
    "\n",
    "from sklearn.feature_extraction.text import CountVectorizer\n",
    "## text_process function is calling by passing parameter dataframe1['text']\n",
    "bow_transformer = CountVectorizer(analyzer=text_process).fit(dataframe1['text'])\n",
    "bow_transformer"
   ]
  },
  {
   "cell_type": "code",
   "execution_count": null,
   "id": "a7a41851",
   "metadata": {},
   "outputs": [],
   "source": [
    "# bow_transformer.vocabulary_"
   ]
  },
  {
   "cell_type": "code",
   "execution_count": 32,
   "id": "2149af7f",
   "metadata": {},
   "outputs": [
    {
     "name": "stdout",
     "output_type": "stream",
     "text": [
      "6366\n"
     ]
    }
   ],
   "source": [
    "print(len(bow_transformer.vocabulary_))"
   ]
  },
  {
   "cell_type": "code",
   "execution_count": 33,
   "id": "9458fc18",
   "metadata": {},
   "outputs": [
    {
     "name": "stdout",
     "output_type": "stream",
     "text": [
      "Now the President is slapping Americans in the face that he really did commit an unlawful act after his  acquittal! From Discover on Google vanityfair.com/news/2020/02/tâ¦\n"
     ]
    }
   ],
   "source": [
    "message4 = dataframe1['text'][3]\n",
    "print(message4)"
   ]
  },
  {
   "cell_type": "markdown",
   "id": "0bde41c5",
   "metadata": {},
   "source": [
    "Now let's transform the entire DataFrame of messages and create sparse matrix"
   ]
  },
  {
   "cell_type": "code",
   "execution_count": 34,
   "id": "e781d1cb",
   "metadata": {},
   "outputs": [
    {
     "data": {
      "text/plain": [
       "<999x6366 sparse matrix of type '<class 'numpy.int64'>'\n",
       "\twith 12772 stored elements in Compressed Sparse Row format>"
      ]
     },
     "execution_count": 34,
     "metadata": {},
     "output_type": "execute_result"
    }
   ],
   "source": [
    "messages_bow = bow_transformer.transform(dataframe1['text'])\n",
    "messages_bow"
   ]
  },
  {
   "cell_type": "code",
   "execution_count": 35,
   "id": "f1c528d1",
   "metadata": {},
   "outputs": [
    {
     "name": "stdout",
     "output_type": "stream",
     "text": [
      "Shape of Sparse Matrix:  (999, 6366)\n"
     ]
    }
   ],
   "source": [
    "print('Shape of Sparse Matrix: ', messages_bow.shape)"
   ]
  },
  {
   "cell_type": "markdown",
   "id": "27b71e64",
   "metadata": {},
   "source": [
    "# **TF-IDF**\n",
    "\n",
    "Now let's compute term weighting and do normalisation with TF-IDF"
   ]
  },
  {
   "cell_type": "code",
   "execution_count": 36,
   "id": "15b08c7c",
   "metadata": {},
   "outputs": [
    {
     "name": "stdout",
     "output_type": "stream",
     "text": [
      "  (0, 6319)\t0.36059446941776324\n",
      "  (0, 6110)\t0.3147971973019245\n",
      "  (0, 5715)\t0.2566615725537905\n",
      "  (0, 3720)\t0.32595017046310565\n",
      "  (0, 2222)\t0.2979799251808277\n",
      "  (0, 1956)\t0.36059446941776324\n",
      "  (0, 1817)\t0.36059446941776324\n",
      "  (0, 1455)\t0.28541893895861\n",
      "  (0, 534)\t0.3147971973019245\n",
      "  (0, 373)\t0.2633356262261702\n",
      "  (1, 6123)\t0.33394943887719114\n",
      "  (1, 5244)\t0.3885409616328563\n",
      "  (1, 4220)\t0.21887166778709424\n",
      "  (1, 3518)\t0.3885409616328563\n",
      "  (1, 3352)\t0.3885409616328563\n",
      "  (1, 3250)\t0.4298378543812601\n",
      "  (1, 2527)\t0.32308693523033283\n",
      "  (1, 824)\t0.31390281925834373\n",
      "  (2, 6320)\t0.2054638098136889\n",
      "  (2, 6293)\t0.17948888355678894\n",
      "  (2, 6231)\t0.24237113829450452\n",
      "  (2, 6137)\t0.17948888355678894\n",
      "  (2, 6029)\t0.172513343304359\n",
      "  (2, 5751)\t0.1452705496694914\n",
      "  (2, 5697)\t0.19579927496774086\n",
      "  :\t:\n",
      "  (997, 4220)\t0.11224090756647277\n",
      "  (997, 4112)\t0.20803959113121873\n",
      "  (997, 4111)\t0.20803959113121873\n",
      "  (997, 3700)\t0.144506460937342\n",
      "  (997, 3672)\t0.44085551474033935\n",
      "  (997, 3656)\t0.17807233724091856\n",
      "  (997, 3592)\t0.1992500473055441\n",
      "  (997, 3480)\t0.22042775737016967\n",
      "  (997, 3473)\t0.156894627176293\n",
      "  (997, 3027)\t0.17447371482764218\n",
      "  (997, 2743)\t0.22042775737016967\n",
      "  (997, 2603)\t0.3985000946110882\n",
      "  (997, 2468)\t0.22042775737016967\n",
      "  (997, 2437)\t0.16323862797237845\n",
      "  (997, 1354)\t0.1532960047630166\n",
      "  (997, 697)\t0.22042775737016967\n",
      "  (998, 6049)\t0.36489444054907166\n",
      "  (998, 4930)\t0.2863150591005016\n",
      "  (998, 3115)\t0.32774944990511357\n",
      "  (998, 3114)\t0.3866228671654253\n",
      "  (998, 2300)\t0.3866228671654253\n",
      "  (998, 2296)\t0.2451987042073677\n",
      "  (998, 2288)\t0.2906044592611554\n",
      "  (998, 1841)\t0.2906044592611554\n",
      "  (998, 957)\t0.3866228671654253\n"
     ]
    }
   ],
   "source": [
    "from sklearn.feature_extraction.text import TfidfTransformer\n",
    "tfidf_transformer = TfidfTransformer().fit(messages_bow)\n",
    "tfidf4 = tfidf_transformer.transform(messages_bow)\n",
    "print(tfidf4)"
   ]
  },
  {
   "cell_type": "code",
   "execution_count": 37,
   "id": "f9797d4a",
   "metadata": {},
   "outputs": [
    {
     "name": "stdout",
     "output_type": "stream",
     "text": [
      "(999, 6366)\n"
     ]
    }
   ],
   "source": [
    "print(tfidf4.shape)"
   ]
  },
  {
   "cell_type": "code",
   "execution_count": 38,
   "id": "aa28ab38",
   "metadata": {},
   "outputs": [],
   "source": [
    "# from sklearn.svm import SVC\n",
    "# from datetime import datetime\n",
    "# start_time = datetime.now()\n",
    "\n",
    "# model = SVC()\n",
    "# model.fit(x_train,y_train)\n",
    "\n",
    "# end_time = datetime.now()\n",
    "# process_time = round(end_time-start_time,2)\n",
    "# print(\"Fitting SVC took {} seconds\".format(process_time))"
   ]
  },
  {
   "cell_type": "markdown",
   "id": "6e974c4e",
   "metadata": {},
   "source": [
    "**Train Test Split**"
   ]
  },
  {
   "cell_type": "code",
   "execution_count": 39,
   "id": "4fbf2ada",
   "metadata": {},
   "outputs": [],
   "source": [
    "from sklearn.model_selection import train_test_split\n",
    "\n",
    "text_train, text_test, label_train, label_test = train_test_split(dataframe1['text'], dataframe1['Irrelevant'], test_size=0.2,shuffle=True)\n",
    "\n"
   ]
  },
  {
   "cell_type": "markdown",
   "id": "30e08f53",
   "metadata": {},
   "source": [
    "**Creating a Data Pipeline**\n",
    "\n",
    "Let's run our model again and then predict the test set. We will create and use a pipeline for this purpose"
   ]
  },
  {
   "cell_type": "code",
   "execution_count": 40,
   "id": "0076a72a",
   "metadata": {},
   "outputs": [],
   "source": [
    "# from imblearn.ensemble import BalancedRandomForestClassifier\n",
    "from sklearn.pipeline import Pipeline\n",
    "from sklearn.svm import SVC\n",
    "pipeline = Pipeline([\n",
    "    ('bow', CountVectorizer()),  # strings to token integer counts\n",
    "    ('tfidf', TfidfTransformer()),  # integer counts to weighted TF-IDF scores\n",
    "    ('classifier', SVC()),  # train on TF-IDF vectors w/ SVM      # accuracy = 0.54\n",
    "#     ('clf', BalancedRandomForestClassifier(n_estimators=100, random_state=42)) # Accuracy: 0.475\n",
    "])"
   ]
  },
  {
   "cell_type": "code",
   "execution_count": 41,
   "id": "c389bea5",
   "metadata": {},
   "outputs": [
    {
     "data": {
      "text/html": [
       "<style>#sk-container-id-2 {color: black;}#sk-container-id-2 pre{padding: 0;}#sk-container-id-2 div.sk-toggleable {background-color: white;}#sk-container-id-2 label.sk-toggleable__label {cursor: pointer;display: block;width: 100%;margin-bottom: 0;padding: 0.3em;box-sizing: border-box;text-align: center;}#sk-container-id-2 label.sk-toggleable__label-arrow:before {content: \"▸\";float: left;margin-right: 0.25em;color: #696969;}#sk-container-id-2 label.sk-toggleable__label-arrow:hover:before {color: black;}#sk-container-id-2 div.sk-estimator:hover label.sk-toggleable__label-arrow:before {color: black;}#sk-container-id-2 div.sk-toggleable__content {max-height: 0;max-width: 0;overflow: hidden;text-align: left;background-color: #f0f8ff;}#sk-container-id-2 div.sk-toggleable__content pre {margin: 0.2em;color: black;border-radius: 0.25em;background-color: #f0f8ff;}#sk-container-id-2 input.sk-toggleable__control:checked~div.sk-toggleable__content {max-height: 200px;max-width: 100%;overflow: auto;}#sk-container-id-2 input.sk-toggleable__control:checked~label.sk-toggleable__label-arrow:before {content: \"▾\";}#sk-container-id-2 div.sk-estimator input.sk-toggleable__control:checked~label.sk-toggleable__label {background-color: #d4ebff;}#sk-container-id-2 div.sk-label input.sk-toggleable__control:checked~label.sk-toggleable__label {background-color: #d4ebff;}#sk-container-id-2 input.sk-hidden--visually {border: 0;clip: rect(1px 1px 1px 1px);clip: rect(1px, 1px, 1px, 1px);height: 1px;margin: -1px;overflow: hidden;padding: 0;position: absolute;width: 1px;}#sk-container-id-2 div.sk-estimator {font-family: monospace;background-color: #f0f8ff;border: 1px dotted black;border-radius: 0.25em;box-sizing: border-box;margin-bottom: 0.5em;}#sk-container-id-2 div.sk-estimator:hover {background-color: #d4ebff;}#sk-container-id-2 div.sk-parallel-item::after {content: \"\";width: 100%;border-bottom: 1px solid gray;flex-grow: 1;}#sk-container-id-2 div.sk-label:hover label.sk-toggleable__label {background-color: #d4ebff;}#sk-container-id-2 div.sk-serial::before {content: \"\";position: absolute;border-left: 1px solid gray;box-sizing: border-box;top: 0;bottom: 0;left: 50%;z-index: 0;}#sk-container-id-2 div.sk-serial {display: flex;flex-direction: column;align-items: center;background-color: white;padding-right: 0.2em;padding-left: 0.2em;position: relative;}#sk-container-id-2 div.sk-item {position: relative;z-index: 1;}#sk-container-id-2 div.sk-parallel {display: flex;align-items: stretch;justify-content: center;background-color: white;position: relative;}#sk-container-id-2 div.sk-item::before, #sk-container-id-2 div.sk-parallel-item::before {content: \"\";position: absolute;border-left: 1px solid gray;box-sizing: border-box;top: 0;bottom: 0;left: 50%;z-index: -1;}#sk-container-id-2 div.sk-parallel-item {display: flex;flex-direction: column;z-index: 1;position: relative;background-color: white;}#sk-container-id-2 div.sk-parallel-item:first-child::after {align-self: flex-end;width: 50%;}#sk-container-id-2 div.sk-parallel-item:last-child::after {align-self: flex-start;width: 50%;}#sk-container-id-2 div.sk-parallel-item:only-child::after {width: 0;}#sk-container-id-2 div.sk-dashed-wrapped {border: 1px dashed gray;margin: 0 0.4em 0.5em 0.4em;box-sizing: border-box;padding-bottom: 0.4em;background-color: white;}#sk-container-id-2 div.sk-label label {font-family: monospace;font-weight: bold;display: inline-block;line-height: 1.2em;}#sk-container-id-2 div.sk-label-container {text-align: center;}#sk-container-id-2 div.sk-container {/* jupyter's `normalize.less` sets `[hidden] { display: none; }` but bootstrap.min.css set `[hidden] { display: none !important; }` so we also need the `!important` here to be able to override the default hidden behavior on the sphinx rendered scikit-learn.org. See: https://github.com/scikit-learn/scikit-learn/issues/21755 */display: inline-block !important;position: relative;}#sk-container-id-2 div.sk-text-repr-fallback {display: none;}</style><div id=\"sk-container-id-2\" class=\"sk-top-container\"><div class=\"sk-text-repr-fallback\"><pre>Pipeline(steps=[(&#x27;bow&#x27;, CountVectorizer()), (&#x27;tfidf&#x27;, TfidfTransformer()),\n",
       "                (&#x27;classifier&#x27;, SVC())])</pre><b>In a Jupyter environment, please rerun this cell to show the HTML representation or trust the notebook. <br />On GitHub, the HTML representation is unable to render, please try loading this page with nbviewer.org.</b></div><div class=\"sk-container\" hidden><div class=\"sk-item sk-dashed-wrapped\"><div class=\"sk-label-container\"><div class=\"sk-label sk-toggleable\"><input class=\"sk-toggleable__control sk-hidden--visually\" id=\"sk-estimator-id-2\" type=\"checkbox\" ><label for=\"sk-estimator-id-2\" class=\"sk-toggleable__label sk-toggleable__label-arrow\">Pipeline</label><div class=\"sk-toggleable__content\"><pre>Pipeline(steps=[(&#x27;bow&#x27;, CountVectorizer()), (&#x27;tfidf&#x27;, TfidfTransformer()),\n",
       "                (&#x27;classifier&#x27;, SVC())])</pre></div></div></div><div class=\"sk-serial\"><div class=\"sk-item\"><div class=\"sk-estimator sk-toggleable\"><input class=\"sk-toggleable__control sk-hidden--visually\" id=\"sk-estimator-id-3\" type=\"checkbox\" ><label for=\"sk-estimator-id-3\" class=\"sk-toggleable__label sk-toggleable__label-arrow\">CountVectorizer</label><div class=\"sk-toggleable__content\"><pre>CountVectorizer()</pre></div></div></div><div class=\"sk-item\"><div class=\"sk-estimator sk-toggleable\"><input class=\"sk-toggleable__control sk-hidden--visually\" id=\"sk-estimator-id-4\" type=\"checkbox\" ><label for=\"sk-estimator-id-4\" class=\"sk-toggleable__label sk-toggleable__label-arrow\">TfidfTransformer</label><div class=\"sk-toggleable__content\"><pre>TfidfTransformer()</pre></div></div></div><div class=\"sk-item\"><div class=\"sk-estimator sk-toggleable\"><input class=\"sk-toggleable__control sk-hidden--visually\" id=\"sk-estimator-id-5\" type=\"checkbox\" ><label for=\"sk-estimator-id-5\" class=\"sk-toggleable__label sk-toggleable__label-arrow\">SVC</label><div class=\"sk-toggleable__content\"><pre>SVC()</pre></div></div></div></div></div></div></div>"
      ],
      "text/plain": [
       "Pipeline(steps=[('bow', CountVectorizer()), ('tfidf', TfidfTransformer()),\n",
       "                ('classifier', SVC())])"
      ]
     },
     "execution_count": 41,
     "metadata": {},
     "output_type": "execute_result"
    }
   ],
   "source": [
    "pipeline.fit(text_train,label_train)"
   ]
  },
  {
   "cell_type": "code",
   "execution_count": 42,
   "id": "e25945b0",
   "metadata": {},
   "outputs": [
    {
     "data": {
      "text/plain": [
       "array(['First Community ban with 13/11 K/D after killing someone via shooting his exposed legs. I wonder that me who struggled getting 1+ K/D would be suspected hacking, why that 30/0 K/D guy was not the first one, or is this the complement for my skill? #BattlefieldV #CommunityGames pic.twitter.com/jFbEfGFNV7'],\n",
       "      dtype=object)"
      ]
     },
     "execution_count": 42,
     "metadata": {},
     "output_type": "execute_result"
    }
   ],
   "source": [
    "text_test.iloc[1:2].values"
   ]
  },
  {
   "cell_type": "code",
   "execution_count": 43,
   "id": "d6fe73de",
   "metadata": {},
   "outputs": [
    {
     "data": {
      "text/plain": [
       "array(['Neutral', 'Negative', 'Neutral', 'Neutral', 'Neutral', 'Neutral',\n",
       "       'Neutral', 'Negative', 'Negative', 'Positive', 'Negative',\n",
       "       'Positive', 'Neutral', 'Neutral', 'Neutral', 'Neutral', 'Positive',\n",
       "       'Positive', 'Positive', 'Neutral', 'Neutral', 'Negative',\n",
       "       'Negative', 'Neutral', 'Positive', 'Neutral', 'Neutral',\n",
       "       'Positive', 'Negative', 'Neutral', 'Neutral', 'Neutral',\n",
       "       'Positive', 'Neutral', 'Negative', 'Positive', 'Negative',\n",
       "       'Negative', 'Positive', 'Neutral', 'Positive', 'Neutral',\n",
       "       'Positive', 'Neutral', 'Neutral', 'Neutral', 'Neutral', 'Neutral',\n",
       "       'Positive', 'Negative', 'Neutral', 'Negative', 'Positive',\n",
       "       'Negative', 'Negative', 'Neutral', 'Positive', 'Positive',\n",
       "       'Positive', 'Neutral', 'Positive', 'Positive', 'Negative',\n",
       "       'Neutral', 'Negative', 'Negative', 'Neutral', 'Neutral',\n",
       "       'Positive', 'Negative', 'Positive', 'Positive', 'Positive',\n",
       "       'Positive', 'Negative', 'Positive', 'Neutral', 'Positive',\n",
       "       'Neutral', 'Negative', 'Negative', 'Positive', 'Neutral',\n",
       "       'Neutral', 'Neutral', 'Negative', 'Negative', 'Positive',\n",
       "       'Neutral', 'Positive', 'Neutral', 'Positive', 'Negative',\n",
       "       'Positive', 'Positive', 'Neutral', 'Positive', 'Positive',\n",
       "       'Negative', 'Positive', 'Positive', 'Neutral', 'Neutral',\n",
       "       'Neutral', 'Neutral', 'Positive', 'Positive', 'Neutral',\n",
       "       'Negative', 'Positive', 'Neutral', 'Positive', 'Neutral',\n",
       "       'Positive', 'Positive', 'Negative', 'Negative', 'Neutral',\n",
       "       'Positive', 'Negative', 'Negative', 'Neutral', 'Neutral',\n",
       "       'Negative', 'Positive', 'Positive', 'Positive', 'Positive',\n",
       "       'Negative', 'Positive', 'Positive', 'Positive', 'Negative',\n",
       "       'Neutral', 'Neutral', 'Negative', 'Neutral', 'Positive', 'Neutral',\n",
       "       'Neutral', 'Positive', 'Negative', 'Neutral', 'Negative',\n",
       "       'Positive', 'Neutral', 'Negative', 'Neutral', 'Negative',\n",
       "       'Neutral', 'Negative', 'Neutral', 'Negative', 'Neutral', 'Neutral',\n",
       "       'Positive', 'Negative', 'Neutral', 'Negative', 'Positive',\n",
       "       'Neutral', 'Positive', 'Negative', 'Positive', 'Negative',\n",
       "       'Negative', 'Positive', 'Neutral', 'Negative', 'Negative',\n",
       "       'Positive', 'Negative', 'Positive', 'Positive', 'Negative',\n",
       "       'Positive', 'Negative', 'Neutral', 'Neutral', 'Positive',\n",
       "       'Negative', 'Neutral', 'Negative', 'Neutral', 'Positive',\n",
       "       'Positive', 'Neutral', 'Positive', 'Negative', 'Neutral',\n",
       "       'Neutral', 'Negative', 'Negative', 'Positive', 'Positive',\n",
       "       'Negative', 'Positive', 'Negative', 'Positive', 'Neutral'],\n",
       "      dtype=object)"
      ]
     },
     "execution_count": 43,
     "metadata": {},
     "output_type": "execute_result"
    }
   ],
   "source": [
    "predictions = pipeline.predict(text_test)\n",
    "predictions"
   ]
  },
  {
   "cell_type": "code",
   "execution_count": 44,
   "id": "a8dbe464",
   "metadata": {},
   "outputs": [],
   "source": [
    "class_names = np.array(['Irrelevant', 'Negative', 'Neutral', 'Positive'])"
   ]
  },
  {
   "cell_type": "markdown",
   "id": "57944214",
   "metadata": {},
   "source": [
    "# **Making Confusion Matrix**\n",
    "\n",
    "Confusion Matrix is going to contain the correct predictions that our model made on the set as well as the incorrect predictions."
   ]
  },
  {
   "cell_type": "code",
   "execution_count": 45,
   "id": "6deec541",
   "metadata": {},
   "outputs": [
    {
     "name": "stdout",
     "output_type": "stream",
     "text": [
      "[[ 0 12 10 15]\n",
      " [ 0 34 10  8]\n",
      " [ 0  2 44 13]\n",
      " [ 0  9  9 34]]\n"
     ]
    }
   ],
   "source": [
    "from sklearn.metrics import confusion_matrix,classification_report\n",
    "cm = confusion_matrix(label_test,predictions)\n",
    "print(cm)"
   ]
  },
  {
   "cell_type": "code",
   "execution_count": 46,
   "id": "a864b714",
   "metadata": {},
   "outputs": [
    {
     "name": "stdout",
     "output_type": "stream",
     "text": [
      "              precision    recall  f1-score   support\n",
      "\n",
      "  Irrelevant       0.00      0.00      0.00         0\n",
      "    Negative       0.65      0.60      0.62        57\n",
      "     Neutral       0.75      0.60      0.67        73\n",
      "    Positive       0.65      0.49      0.56        70\n",
      "\n",
      "    accuracy                           0.56       200\n",
      "   macro avg       0.51      0.42      0.46       200\n",
      "weighted avg       0.69      0.56      0.62       200\n",
      "\n"
     ]
    },
    {
     "name": "stderr",
     "output_type": "stream",
     "text": [
      "/home/kali/anaconda3/lib/python3.11/site-packages/sklearn/metrics/_classification.py:1471: UndefinedMetricWarning: Recall and F-score are ill-defined and being set to 0.0 in labels with no true samples. Use `zero_division` parameter to control this behavior.\n",
      "  _warn_prf(average, modifier, msg_start, len(result))\n",
      "/home/kali/anaconda3/lib/python3.11/site-packages/sklearn/metrics/_classification.py:1471: UndefinedMetricWarning: Recall and F-score are ill-defined and being set to 0.0 in labels with no true samples. Use `zero_division` parameter to control this behavior.\n",
      "  _warn_prf(average, modifier, msg_start, len(result))\n",
      "/home/kali/anaconda3/lib/python3.11/site-packages/sklearn/metrics/_classification.py:1471: UndefinedMetricWarning: Recall and F-score are ill-defined and being set to 0.0 in labels with no true samples. Use `zero_division` parameter to control this behavior.\n",
      "  _warn_prf(average, modifier, msg_start, len(result))\n"
     ]
    }
   ],
   "source": [
    "# confusion matrix and classification report(precision, recall, F1-score)\n",
    "# ytest = np.array(label_test)\n",
    "print(classification_report(pipeline.predict(text_test),label_test))"
   ]
  },
  {
   "cell_type": "code",
   "execution_count": 47,
   "id": "1263bb6a",
   "metadata": {},
   "outputs": [
    {
     "data": {
      "image/png": "[encoded data removed]",
      "text/plain": [
       "<Figure size 800x800 with 2 Axes>"
      ]
     },
     "metadata": {},
     "output_type": "display_data"
    }
   ],
   "source": [
    "import matplotlib.pyplot as plt\n",
    "from sklearn.metrics import ConfusionMatrixDisplay\n",
    "class_names =['Irrelevant', 'Negative', 'Neutral', 'Positive']\n",
    "# Change figure size and increase dpi for better resolution\n",
    "# and get reference to axes object\n",
    "fig, ax = plt.subplots(figsize=(8,8), dpi=100)\n",
    "\n",
    "# initialize using the raw 2D confusion matrix\n",
    "# and output labels (in our case, it's 0 and 1)\n",
    "display = ConfusionMatrixDisplay(cm, display_labels=class_names)\n",
    "\n",
    "# set the plot title using the axes object\n",
    "ax.set(title='Confusion Matrix for the Diabetes Detection Model')\n",
    "\n",
    "# show the plot.\n",
    "# Pass the parameter ax to show customizations (ex. title)\n",
    "display.plot(ax=ax);"
   ]
  },
  {
   "cell_type": "code",
   "execution_count": 48,
   "id": "78d16f37",
   "metadata": {},
   "outputs": [
    {
     "name": "stdout",
     "output_type": "stream",
     "text": [
      "Accuracy: 0.56\n"
     ]
    }
   ],
   "source": [
    "from sklearn import metrics\n",
    "print(\"Accuracy:\",metrics.accuracy_score(predictions,label_test))"
   ]
  },
  {
   "cell_type": "code",
   "execution_count": 49,
   "id": "af905ea9",
   "metadata": {},
   "outputs": [
    {
     "name": "stdout",
     "output_type": "stream",
     "text": [
      "Enter sentiment = sdf rdafvert ddg b[]\\\n",
      "Predicted news category =  Neutral\n"
     ]
    }
   ],
   "source": [
    "# file = open('/content/news.txt','r')\n",
    "# news = file.read()\n",
    "# file.close()\n",
    "\n",
    "sentiment = input(\"Enter sentiment = \")\n",
    "sentiment_data = {'predict_sentiment':[sentiment]}\n",
    "sentiment_data_df = pd.DataFrame(sentiment_data)\n",
    "\n",
    "predict_sentiment_cat = pipeline.predict(sentiment_data_df['predict_sentiment'])\n",
    "print(\"Predicted news category = \",predict_sentiment_cat[0])"
   ]
  },
  {
   "cell_type": "code",
   "execution_count": null,
   "id": "7a38b383",
   "metadata": {},
   "outputs": [],
   "source": []
  }
 ],
 "metadata": {
  "kernelspec": {
   "display_name": "Python 3 (ipykernel)",
   "language": "python",
   "name": "python3"
  },
  "language_info": {
   "codemirror_mode": {
    "name": "ipython",
    "version": 3
   },
   "file_extension": ".py",
   "mimetype": "text/x-python",
   "name": "python",
   "nbconvert_exporter": "python",
   "pygments_lexer": "ipython3",
   "version": "3.11.5"
  }
 },
 "nbformat": 4,
 "nbformat_minor": 5
}
