{
 "cells": [
  {
   "cell_type": "code",
   "execution_count": 1,
   "id": "19ee46ee",
   "metadata": {},
   "outputs": [
    {
     "name": "stderr",
     "output_type": "stream",
     "text": [
      "[nltk_data] Downloading package stopwords to /home/kali/nltk_data...\n",
      "[nltk_data]   Package stopwords is already up-to-date!\n",
      "[nltk_data] Downloading package wordnet to /home/kali/nltk_data...\n",
      "[nltk_data]   Package wordnet is already up-to-date!\n"
     ]
    }
   ],
   "source": [
    "import numpy as np\n",
    "import pandas as pd\n",
    "import re,string\n",
    "import matplotlib.pyplot as plt\n",
    "from nltk.corpus import stopwords\n",
    "from nltk.stem import PorterStemmer\n",
    "from sklearn.feature_extraction.text import TfidfVectorizer\n",
    "from sklearn.pipeline import Pipeline\n",
    "from sklearn.metrics import classification_report, confusion_matrix\n",
    "from sklearn.model_selection import train_test_split\n",
    "from sklearn.feature_selection import SelectKBest, chi2\n",
    "# from sklearn.ensemble import RandomForestClassifier\n",
    "# !pip install nltk\n",
    "import nltk\n",
    "import pickle\n",
    "nltk.download('stopwords')\n",
    "nltk.download('wordnet')\n",
    "%matplotlib inline"
   ]
  },
  {
   "cell_type": "code",
   "execution_count": 2,
   "id": "a5f4c545",
   "metadata": {},
   "outputs": [
    {
     "data": {
      "text/html": [
       "<div>\n",
       "<style scoped>\n",
       "    .dataframe tbody tr th:only-of-type {\n",
       "        vertical-align: middle;\n",
       "    }\n",
       "\n",
       "    .dataframe tbody tr th {\n",
       "        vertical-align: top;\n",
       "    }\n",
       "\n",
       "    .dataframe thead th {\n",
       "        text-align: right;\n",
       "    }\n",
       "</style>\n",
       "<table border=\"1\" class=\"dataframe\">\n",
       "  <thead>\n",
       "    <tr style=\"text-align: right;\">\n",
       "      <th></th>\n",
       "      <th>category</th>\n",
       "      <th>text</th>\n",
       "    </tr>\n",
       "  </thead>\n",
       "  <tbody>\n",
       "    <tr>\n",
       "      <th>27</th>\n",
       "      <td>tech</td>\n",
       "      <td>mobile gig aims to rock 3g forget about going ...</td>\n",
       "    </tr>\n",
       "    <tr>\n",
       "      <th>95</th>\n",
       "      <td>sport</td>\n",
       "      <td>dent continues adelaide progress american tayl...</td>\n",
       "    </tr>\n",
       "    <tr>\n",
       "      <th>1026</th>\n",
       "      <td>sport</td>\n",
       "      <td>newcastle 27-27 gloucester newcastle centre ma...</td>\n",
       "    </tr>\n",
       "    <tr>\n",
       "      <th>1597</th>\n",
       "      <td>business</td>\n",
       "      <td>survey confirms property slowdown government f...</td>\n",
       "    </tr>\n",
       "    <tr>\n",
       "      <th>914</th>\n",
       "      <td>business</td>\n",
       "      <td>us economy shows solid gdp growth the us econo...</td>\n",
       "    </tr>\n",
       "    <tr>\n",
       "      <th>...</th>\n",
       "      <td>...</td>\n",
       "      <td>...</td>\n",
       "    </tr>\n",
       "    <tr>\n",
       "      <th>1909</th>\n",
       "      <td>sport</td>\n",
       "      <td>sculthorpe wants lions captaincy paul sculthor...</td>\n",
       "    </tr>\n",
       "    <tr>\n",
       "      <th>1127</th>\n",
       "      <td>entertainment</td>\n",
       "      <td>my memories of marley...  to mark the 60th ann...</td>\n",
       "    </tr>\n",
       "    <tr>\n",
       "      <th>602</th>\n",
       "      <td>business</td>\n",
       "      <td>pension hitch for long-living men male life ex...</td>\n",
       "    </tr>\n",
       "    <tr>\n",
       "      <th>1616</th>\n",
       "      <td>sport</td>\n",
       "      <td>ferguson urges henry punishment sir alex fergu...</td>\n",
       "    </tr>\n",
       "    <tr>\n",
       "      <th>2011</th>\n",
       "      <td>business</td>\n",
       "      <td>fiat mulls ferrari market listing ferrari coul...</td>\n",
       "    </tr>\n",
       "  </tbody>\n",
       "</table>\n",
       "<p>2225 rows × 2 columns</p>\n",
       "</div>"
      ],
      "text/plain": [
       "           category                                               text\n",
       "27             tech  mobile gig aims to rock 3g forget about going ...\n",
       "95            sport  dent continues adelaide progress american tayl...\n",
       "1026          sport  newcastle 27-27 gloucester newcastle centre ma...\n",
       "1597       business  survey confirms property slowdown government f...\n",
       "914        business  us economy shows solid gdp growth the us econo...\n",
       "...             ...                                                ...\n",
       "1909          sport  sculthorpe wants lions captaincy paul sculthor...\n",
       "1127  entertainment  my memories of marley...  to mark the 60th ann...\n",
       "602        business  pension hitch for long-living men male life ex...\n",
       "1616          sport  ferguson urges henry punishment sir alex fergu...\n",
       "2011       business  fiat mulls ferrari market listing ferrari coul...\n",
       "\n",
       "[2225 rows x 2 columns]"
      ]
     },
     "execution_count": 2,
     "metadata": {},
     "output_type": "execute_result"
    }
   ],
   "source": [
    "df = pd.read_csv('bbc-text.csv', encoding = 'latin1')\n",
    "df = df.sample(frac = 1)\n",
    "df"
   ]
  },
  {
   "cell_type": "code",
   "execution_count": 3,
   "id": "d0e02292",
   "metadata": {},
   "outputs": [
    {
     "data": {
      "text/plain": [
       "{'business', 'entertainment', 'politics', 'sport', 'tech'}"
      ]
     },
     "execution_count": 3,
     "metadata": {},
     "output_type": "execute_result"
    }
   ],
   "source": [
    "#No of a categories\n",
    "set(df['category']) # set() fetch the unique data only\n",
    "# df['category']"
   ]
  },
  {
   "cell_type": "code",
   "execution_count": 4,
   "id": "9d106938",
   "metadata": {},
   "outputs": [
    {
     "data": {
      "text/plain": [
       "5"
      ]
     },
     "execution_count": 4,
     "metadata": {},
     "output_type": "execute_result"
    }
   ],
   "source": [
    "#No of a categories\n",
    "len(set(df['category']))\n",
    "# df['category']"
   ]
  },
  {
   "cell_type": "code",
   "execution_count": 5,
   "id": "9fb1f0b2",
   "metadata": {},
   "outputs": [
    {
     "data": {
      "text/plain": [
       "category\n",
       "business         510\n",
       "entertainment    386\n",
       "politics         417\n",
       "sport            511\n",
       "tech             401\n",
       "Name: category, dtype: int64"
      ]
     },
     "execution_count": 5,
     "metadata": {},
     "output_type": "execute_result"
    }
   ],
   "source": [
    "df.groupby('category').category.count()"
   ]
  },
  {
   "cell_type": "code",
   "execution_count": 6,
   "id": "8914f4b7",
   "metadata": {},
   "outputs": [
    {
     "data": {
      "image/png": "[encoded data removed]",
      "text/plain": [
       "<Figure size 640x480 with 1 Axes>"
      ]
     },
     "metadata": {},
     "output_type": "display_data"
    }
   ],
   "source": [
    "#Analyzing data\n",
    "df.groupby('category').category.count().plot.bar()\n",
    "plt.show()"
   ]
  },
  {
   "cell_type": "code",
   "execution_count": 7,
   "id": "7075a5dd",
   "metadata": {},
   "outputs": [],
   "source": [
    "#Data Preprocessing"
   ]
  },
  {
   "cell_type": "code",
   "execution_count": 8,
   "id": "31baeaa9",
   "metadata": {},
   "outputs": [],
   "source": [
    "# df['text'] = [re.sub(\"[^a-zA-Z]\", \" \", i).lower() for i in df['text']]"
   ]
  },
  {
   "cell_type": "code",
   "execution_count": 9,
   "id": "ac66c386",
   "metadata": {},
   "outputs": [
    {
     "name": "stdout",
     "output_type": "stream",
     "text": [
      "['i', 'me', 'my', 'myself', 'we', 'our', 'ours', 'ourselves', 'you', \"you're\", \"you've\", \"you'll\", \"you'd\", 'your', 'yours', 'yourself', 'yourselves', 'he', 'him', 'his', 'himself', 'she', \"she's\", 'her', 'hers', 'herself', 'it', \"it's\", 'its', 'itself', 'they', 'them', 'their', 'theirs', 'themselves', 'what', 'which', 'who', 'whom', 'this', 'that', \"that'll\", 'these', 'those', 'am', 'is', 'are', 'was', 'were', 'be', 'been', 'being', 'have', 'has', 'had', 'having', 'do', 'does', 'did', 'doing', 'a', 'an', 'the', 'and', 'but', 'if', 'or', 'because', 'as', 'until', 'while', 'of', 'at', 'by', 'for', 'with', 'about', 'against', 'between', 'into', 'through', 'during', 'before', 'after', 'above', 'below', 'to', 'from', 'up', 'down', 'in', 'out', 'on', 'off', 'over', 'under', 'again', 'further', 'then', 'once', 'here', 'there', 'when', 'where', 'why', 'how', 'all', 'any', 'both', 'each', 'few', 'more', 'most', 'other', 'some', 'such', 'no', 'nor', 'not', 'only', 'own', 'same', 'so', 'than', 'too', 'very', 's', 't', 'can', 'will', 'just', 'don', \"don't\", 'should', \"should've\", 'now', 'd', 'll', 'm', 'o', 're', 've', 'y', 'ain', 'aren', \"aren't\", 'couldn', \"couldn't\", 'didn', \"didn't\", 'doesn', \"doesn't\", 'hadn', \"hadn't\", 'hasn', \"hasn't\", 'haven', \"haven't\", 'isn', \"isn't\", 'ma', 'mightn', \"mightn't\", 'mustn', \"mustn't\", 'needn', \"needn't\", 'shan', \"shan't\", 'shouldn', \"shouldn't\", 'wasn', \"wasn't\", 'weren', \"weren't\", 'won', \"won't\", 'wouldn', \"wouldn't\"]\n"
     ]
    },
    {
     "name": "stderr",
     "output_type": "stream",
     "text": [
      "[nltk_data] Downloading package stopwords to /home/kali/nltk_data...\n",
      "[nltk_data]   Package stopwords is already up-to-date!\n"
     ]
    }
   ],
   "source": [
    "#stop words\n",
    "nltk.download('stopwords')\n",
    "stop_word = stopwords.words(\"english\")\n",
    "print(stop_word)"
   ]
  },
  {
   "cell_type": "code",
   "execution_count": 10,
   "id": "ebdd2703",
   "metadata": {},
   "outputs": [
    {
     "name": "stdout",
     "output_type": "stream",
     "text": [
      "['छ', 'र', 'पनि', 'छन्', 'लागि', 'भएको', 'गरेको', 'भने', 'गर्न', 'गर्ने', 'हो', 'तथा', 'यो', 'रहेको', 'उनले', 'थियो', 'हुने', 'गरेका', 'थिए', 'गर्दै', 'तर', 'नै', 'को', 'मा', 'हुन्', 'भन्ने', 'हुन', 'गरी', 'त', 'हुन्छ', 'अब', 'के', 'रहेका', 'गरेर', 'छैन', 'दिए', 'भए', 'यस', 'ले', 'गर्नु', 'औं', 'सो', 'त्यो', 'कि', 'जुन', 'यी', 'का', 'गरि', 'ती', 'न', 'छु', 'छौं', 'लाई', 'नि', 'उप', 'अक्सर', 'आदि', 'कसरी', 'क्रमशः', 'चाले', 'अगाडी', 'अझै', 'अनुसार', 'अन्तर्गत', 'अन्य', 'अन्यत्र', 'अन्यथा', 'अरु', 'अरुलाई', 'अर्को', 'अर्थात', 'अर्थात्', 'अलग', 'आए', 'आजको', 'ओठ', 'आत्म', 'आफू', 'आफूलाई', 'आफ्नै', 'आफ्नो', 'आयो', 'उदाहरण', 'उनको', 'उहालाई', 'एउटै', 'एक', 'एकदम', 'कतै', 'कम से कम', 'कसै', 'कसैले', 'कहाँबाट', 'कहिलेकाहीं', 'का', 'किन', 'किनभने', 'कुनै', 'कुरा', 'कृपया', 'केही', 'कोही', 'गए', 'गरौं', 'गर्छ', 'गर्छु', 'गर्नुपर्छ', 'गयौ', 'गैर', 'चार', 'चाहनुहुन्छ', 'चाहन्छु', 'चाहिए', 'छू', 'जताततै', 'जब', 'जबकि', 'जसको', 'जसबाट', 'जसमा', 'जसलाई', 'जसले', 'जस्तै', 'जस्तो', 'जस्तोसुकै', 'जहाँ', 'जान', 'जाहिर', 'जे', 'जो', 'ठीक', 'तत्काल', 'तदनुसार', 'तपाईको', 'तपाई', 'पर्याप्त', 'पहिले', 'पहिलो', 'पहिल्यै', 'पाँच', 'पाँचौं', 'तल', 'तापनी', 'तिनी', 'तिनीहरू', 'तिनीहरुको', 'तिनिहरुलाई', 'तिमी', 'तिर', 'तीन', 'तुरुन्तै', 'तेस्रो', 'तेस्कारण', 'पूर्व', 'प्रति', 'प्रतेक', 'प्लस', 'फेरी', 'बने', 'त्सपछि', 'त्सैले', 'त्यहाँ', 'थिएन', 'दिनुभएको', 'दिनुहुन्छ', 'दुई', 'देखि', 'बरु', 'बारे', 'बाहिर', 'देखिन्छ', 'देखियो', 'देखे', 'देखेको', 'देखेर', 'दोस्रो', 'धेरै', 'नजिकै', 'नत्र', 'नयाँ', 'निम्ति', 'बाहेक', 'बीच', 'बीचमा', 'भन', 'निम्न', 'निम्नानुसार', 'निर्दिष्ट', 'नौ', 'पक्का', 'पक्कै', 'पछि', 'पछिल्लो', 'पटक', 'पर्छ', 'पर्थ्यो', 'भन्छन्', 'भन्', 'भन्छु', 'भन्दा', 'भन्नुभयो', 'भर', 'भित्र', 'भित्री', 'म', 'मलाई', 'मात्र', 'माथि', 'मुख्य', 'मेरो', 'यति', 'यथोचित', 'यदि', 'यद्यपि', 'यसको', 'यसपछि', 'यसबाहेक', 'यसरी', 'यसो', 'यस्तो', 'यहाँ', 'यहाँसम्म', 'या', 'रही', 'राखे', 'राख्छ', 'राम्रो', 'रूप', 'लगभग', 'वरीपरी', 'वास्तवमा', 'बिरुद्ध', 'बिशेष', 'सायद', 'शायद', 'संग', 'संगै', 'सक्छ', 'सट्टा', 'सधै', 'सबै', 'सबैलाई', 'समय', 'सम्भव', 'सम्म', 'सही', 'साँच्चै', 'सात', 'साथ', 'साथै', 'सारा', 'सोही', 'स्पष्ट', 'हरे', 'हरेक']\n"
     ]
    },
    {
     "name": "stderr",
     "output_type": "stream",
     "text": [
      "[nltk_data] Downloading package stopwords to /home/kali/nltk_data...\n",
      "[nltk_data]   Package stopwords is already up-to-date!\n"
     ]
    }
   ],
   "source": [
    "#stop words\n",
    "nltk.download('stopwords')\n",
    "nepali_words = stopwords.words(\"nepali\")\n",
    "print(nepali_words)"
   ]
  },
  {
   "cell_type": "code",
   "execution_count": 11,
   "id": "81f85733",
   "metadata": {},
   "outputs": [
    {
     "name": "stdout",
     "output_type": "stream",
     "text": [
      "['I', 'am', 'loving', 'computing']\n"
     ]
    }
   ],
   "source": [
    "# Data Cleaning using stemmer\n",
    "\n",
    "stemmer = PorterStemmer()# finding root word only i.e loving root word only love, computing root word comput only.\n",
    "data = \"I am loving computing\".split() # split() convert data into list\n",
    "print(data)"
   ]
  },
  {
   "cell_type": "code",
   "execution_count": 12,
   "id": "2f543391",
   "metadata": {},
   "outputs": [
    {
     "data": {
      "text/plain": [
       "'i am love comput'"
      ]
     },
     "execution_count": 12,
     "metadata": {},
     "output_type": "execute_result"
    }
   ],
   "source": [
    "# Data Cleaning using stemmer\n",
    "\n",
    "stemmer = PorterStemmer()# finding root word only i.e loving root word only love, computing root word comput only.\n",
    "data = \"I am loving computing\".split() \n",
    "\" \".join([stemmer.stem(i) for i in data])"
   ]
  },
  {
   "cell_type": "code",
   "execution_count": 13,
   "id": "2c429d4f",
   "metadata": {},
   "outputs": [
    {
     "data": {
      "text/plain": [
       "['i', 'am', 'love', 'comput']"
      ]
     },
     "execution_count": 13,
     "metadata": {},
     "output_type": "execute_result"
    }
   ],
   "source": [
    "# Data Cleaning using stemmer\n",
    "\n",
    "stemmer = PorterStemmer()# finding root word only i.e loving root word only love, computing root word comput only.\n",
    "data = \"I am loving computing\".split() \n",
    "([stemmer.stem(i) for i in data])\n",
    "# print(stemmer.stem(i))\n",
    "# print(i)"
   ]
  },
  {
   "cell_type": "code",
   "execution_count": 14,
   "id": "3b2f3ae5",
   "metadata": {},
   "outputs": [
    {
     "data": {
      "text/plain": [
       "'i am love comput'"
      ]
     },
     "execution_count": 14,
     "metadata": {},
     "output_type": "execute_result"
    }
   ],
   "source": [
    "# Data Cleaning using stemmer\n",
    "\n",
    "stemmer = PorterStemmer()# finding root word only i.e loving root word only love, computing root word comput only.\n",
    "data = \"I am loving computing\".split()\n",
    "\" \".join([stemmer.stem(i) for i in data])"
   ]
  },
  {
   "cell_type": "code",
   "execution_count": 15,
   "id": "f6c1e246",
   "metadata": {},
   "outputs": [
    {
     "data": {
      "text/plain": [
       "'i am love comput'"
      ]
     },
     "execution_count": 15,
     "metadata": {},
     "output_type": "execute_result"
    }
   ],
   "source": [
    "# Data Cleaning using stemmer\n",
    "\n",
    "stemmer = PorterStemmer()# finding root word only i.e loving root word only love, computing root word comput only.\n",
    "data = \"I am loving computing\".split()\n",
    "\" \".join([stemmer.stem(i) for i in data])\n",
    "# stemmer.stem(\"\")"
   ]
  },
  {
   "cell_type": "code",
   "execution_count": 16,
   "id": "e6f60b93",
   "metadata": {},
   "outputs": [
    {
     "data": {
      "text/plain": [
       "'i am love comput'"
      ]
     },
     "execution_count": 16,
     "metadata": {},
     "output_type": "execute_result"
    }
   ],
   "source": [
    "# Data Cleaning using stemmer\n",
    "\n",
    "stemmer = PorterStemmer()# finding root word only i.e loving root word only love, computing root word comput only.\n",
    "data = \"I am loving computing\".split()\n",
    "\" \".join([stemmer.stem(i) for i in data])\n",
    "# stemmer.stem(\"\")"
   ]
  },
  {
   "cell_type": "code",
   "execution_count": 17,
   "id": "535de781",
   "metadata": {},
   "outputs": [
    {
     "data": {
      "text/plain": [
       "'i am love comput'"
      ]
     },
     "execution_count": 17,
     "metadata": {},
     "output_type": "execute_result"
    }
   ],
   "source": [
    "data = \"I am Loving Computing\".split()\n",
    "\" \".join([stemmer.stem(i) for i in data])\n",
    "# stemmer.stem(\"I am loving computing\")"
   ]
  },
  {
   "cell_type": "code",
   "execution_count": 18,
   "id": "f76d76dc",
   "metadata": {},
   "outputs": [],
   "source": [
    "# Data Cleaning removing stopwords"
   ]
  },
  {
   "cell_type": "code",
   "execution_count": 19,
   "id": "073cc219",
   "metadata": {},
   "outputs": [
    {
     "data": {
      "text/plain": [
       "'love comput '"
      ]
     },
     "execution_count": 19,
     "metadata": {},
     "output_type": "execute_result"
    }
   ],
   "source": [
    "# Create an empty string for the filtered news\n",
    "news = ''\n",
    "\n",
    "# Create a stemmer\n",
    "stemmer = PorterStemmer()\n",
    "\n",
    "# Split the input data into words\n",
    "data = \"I am Loving Computing\".split()\n",
    "\n",
    "# Iterate through each word in data\n",
    "for word in data:\n",
    "    # Convert the word to lowercase for case-insensitive comparison\n",
    "    if stemmer.stem(word.lower()) not in stop_word:\n",
    "        # If the lowercase version of the word is not in the list, add it to news\n",
    "        news += stemmer.stem(word.lower()) + \" \" \n",
    "#         news += \" \" + word # this is also correct\n",
    "news"
   ]
  },
  {
   "cell_type": "code",
   "execution_count": 33,
   "id": "19e9f228",
   "metadata": {},
   "outputs": [
    {
     "data": {
      "text/plain": [
       "27      mobile gig aims rock g forget going crowded ba...\n",
       "95      dent continues adelaide progress american tayl...\n",
       "1026    newcastle gloucester newcastle centre mathew t...\n",
       "1597    survey confirms property slowdown government f...\n",
       "914     us economy shows solid gdp growth us economy g...\n",
       "                              ...                        \n",
       "1909    sculthorpe wants lions captaincy paul sculthor...\n",
       "1127    memories marley mark th anniversary birth regg...\n",
       "602     pension hitch long living men male life expect...\n",
       "1616    ferguson urges henry punishment sir alex fergu...\n",
       "2011    fiat mulls ferrari market listing ferrari coul...\n",
       "Name: text, Length: 2225, dtype: object"
      ]
     },
     "execution_count": 33,
     "metadata": {},
     "output_type": "execute_result"
    }
   ],
   "source": [
    "df['text']"
   ]
  },
  {
   "cell_type": "code",
   "execution_count": 25,
   "id": "41e08fc5",
   "metadata": {},
   "outputs": [
    {
     "data": {
      "text/plain": [
       "'tv future in the hands of viewers with home theatre systems  plasma high-definition tvs  and digital video recorders moving into the living room  the way people watch tv will be radically different in five years  time.  that is according to an expert panel which gathered at the annual consumer electronics show in las vegas to discuss how these new technologies will impact one of our favourite pastimes. with the us leading the trend  programmes and other content will be delivered to viewers via home networks  through cable  satellite  telecoms companies  and broadband service providers to front rooms and portable devices.  one of the most talked-about technologies of ces has been digital and personal video recorders (dvr and pvr). these set-top boxes  like the us s tivo and the uk s sky+ system  allow people to record  store  play  pause and forward wind tv programmes when they want.  essentially  the technology allows for much more personalised tv. they are also being built-in to high-definition tv sets  which are big business in japan and the us  but slower to take off in europe because of the lack of high-definition programming. not only can people forward wind through adverts  they can also forget about abiding by network and channel schedules  putting together their own a-la-carte entertainment. but some us networks and cable and satellite companies are worried about what it means for them in terms of advertising revenues as well as  brand identity  and viewer loyalty to channels. although the us leads in this technology at the moment  it is also a concern that is being raised in europe  particularly with the growing uptake of services like sky+.  what happens here today  we will see in nine months to a years  time in the uk   adam hume  the bbc broadcast s futurologist told the bbc news website. for the likes of the bbc  there are no issues of lost advertising revenue yet. it is a more pressing issue at the moment for commercial uk broadcasters  but brand loyalty is important for everyone.  we will be talking more about content brands rather than network brands   said tim hanlon  from brand communications firm starcom mediavest.  the reality is that with broadband connections  anybody can be the producer of content.  he added:  the challenge now is that it is hard to promote a programme with so much choice.   what this means  said stacey jolna  senior vice president of tv guide tv group  is that the way people find the content they want to watch has to be simplified for tv viewers. it means that networks  in us terms  or channels could take a leaf out of google s book and be the search engine of the future  instead of the scheduler to help people find what they want to watch. this kind of channel model might work for the younger ipod generation which is used to taking control of their gadgets and what they play on them. but it might not suit everyone  the panel recognised. older generations are more comfortable with familiar schedules and channel brands because they know what they are getting. they perhaps do not want so much of the choice put into their hands  mr hanlon suggested.  on the other end  you have the kids just out of diapers who are pushing buttons already - everything is possible and available to them   said mr hanlon.  ultimately  the consumer will tell the market they want.   of the 50 000 new gadgets and technologies being showcased at ces  many of them are about enhancing the tv-watching experience. high-definition tv sets are everywhere and many new models of lcd (liquid crystal display) tvs have been launched with dvr capability built into them  instead of being external boxes. one such example launched at the show is humax s 26-inch lcd tv with an 80-hour tivo dvr and dvd recorder. one of the us s biggest satellite tv companies  directtv  has even launched its own branded dvr at the show with 100-hours of recording capability  instant replay  and a search function. the set can pause and rewind tv for up to 90 hours. and microsoft chief bill gates announced in his pre-show keynote speech a partnership with tivo  called tivotogo  which means people can play recorded programmes on windows pcs and mobile devices. all these reflect the increasing trend of freeing up multimedia so that people can watch what they want  when they want.'"
      ]
     },
     "execution_count": 25,
     "metadata": {},
     "output_type": "execute_result"
    }
   ],
   "source": [
    "df['text'][0]"
   ]
  },
  {
   "cell_type": "markdown",
   "id": "435848ce",
   "metadata": {},
   "source": [
    "## need to remember this below code templete\n",
    "\n",
    "=> df['text'] = list(map(lambda x: \" \".join([i for i in x.lower().split() if i not in stopwords]), df['text']))\n",
    "\n",
    "lambda x: ...: This defines an anonymous (lambda) function that takes an argument x.\n",
    "\n",
    "x.lower().split(): For each value of x, this converts the text to lowercase and then splits it into a list of words. It is assuming that x is a string containing words.\n",
    "\n",
    "[i for i in x.lower().split() if i not in stopwords]: This is a list comprehension that iterates over each word (i) in the list created by x.lower().split() and includes only those words that are not in the stopwords list. Stopwords are common words (e.g., \"the\", \"and\", \"is\") that are often removed in text processing because they don't contribute much to the meaning.\n",
    "\n",
    "\" \".join(...): This joins the list of filtered words back into a string, with space as the separator. So, it reconstructs the cleaned text without the stopwords.\n",
    "\n",
    "list(map(..., df['text'])): This applies the lambda function to each element (x) in the 'text' column of the DataFrame (df). The result is a list of processed text strings.\n",
    "\n",
    "df['text'] = ...: This assigns the list of processed text strings back to the 'text' column in the DataFrame, effectively replacing the original 'text' column with the cleaned text.\n",
    "\n",
    "\n",
    "\n",
    "lambda arguments: expression\n",
    "\n",
    "add = lambda x, y: x + y\n",
    "result = add(3, 4)\n",
    "print(result)\n",
    "\n",
    "\n",
    "\n",
    "\n",
    " Doing all cleaning process using regex, stemmer, stopwords for all data\n",
    " re.sub(\"[^a-zA-Z]\", \" \", i) # letters from a-z and A-Z will remain and other will be replace by space. \n",
    " The map() function applies the specified function to each element of the iterable, and the result is an iterable \n",
    "map object.\n",
    "\n",
    " # example of map() function \n",
    " Define a function that squares a number\n",
    " def square(x):\n",
    "     return x ** 2\n",
    " Create a list of numbers\n",
    " numbers = [1, 2, 3, 4, 5]\n",
    " Use map to apply the square function to each element in the list\n",
    " squared_numbers = map(square, numbers)\n",
    " Convert the map object to a list to see the results\n",
    " result_list = list(squared_numbers)\n",
    " print(result_list)\n"
   ]
  },
  {
   "cell_type": "code",
   "execution_count": 26,
   "id": "3bc1cd27",
   "metadata": {},
   "outputs": [
    {
     "data": {
      "text/html": [
       "<div>\n",
       "<style scoped>\n",
       "    .dataframe tbody tr th:only-of-type {\n",
       "        vertical-align: middle;\n",
       "    }\n",
       "\n",
       "    .dataframe tbody tr th {\n",
       "        vertical-align: top;\n",
       "    }\n",
       "\n",
       "    .dataframe thead th {\n",
       "        text-align: right;\n",
       "    }\n",
       "</style>\n",
       "<table border=\"1\" class=\"dataframe\">\n",
       "  <thead>\n",
       "    <tr style=\"text-align: right;\">\n",
       "      <th></th>\n",
       "      <th>category</th>\n",
       "      <th>text</th>\n",
       "    </tr>\n",
       "  </thead>\n",
       "  <tbody>\n",
       "    <tr>\n",
       "      <th>27</th>\n",
       "      <td>tech</td>\n",
       "      <td>mobile gig aims rock g forget going crowded ba...</td>\n",
       "    </tr>\n",
       "    <tr>\n",
       "      <th>95</th>\n",
       "      <td>sport</td>\n",
       "      <td>dent continues adelaide progress american tayl...</td>\n",
       "    </tr>\n",
       "    <tr>\n",
       "      <th>1026</th>\n",
       "      <td>sport</td>\n",
       "      <td>newcastle gloucester newcastle centre mathew t...</td>\n",
       "    </tr>\n",
       "    <tr>\n",
       "      <th>1597</th>\n",
       "      <td>business</td>\n",
       "      <td>survey confirms property slowdown government f...</td>\n",
       "    </tr>\n",
       "    <tr>\n",
       "      <th>914</th>\n",
       "      <td>business</td>\n",
       "      <td>us economy shows solid gdp growth us economy g...</td>\n",
       "    </tr>\n",
       "    <tr>\n",
       "      <th>...</th>\n",
       "      <td>...</td>\n",
       "      <td>...</td>\n",
       "    </tr>\n",
       "    <tr>\n",
       "      <th>1909</th>\n",
       "      <td>sport</td>\n",
       "      <td>sculthorpe wants lions captaincy paul sculthor...</td>\n",
       "    </tr>\n",
       "    <tr>\n",
       "      <th>1127</th>\n",
       "      <td>entertainment</td>\n",
       "      <td>memories marley mark th anniversary birth regg...</td>\n",
       "    </tr>\n",
       "    <tr>\n",
       "      <th>602</th>\n",
       "      <td>business</td>\n",
       "      <td>pension hitch long living men male life expect...</td>\n",
       "    </tr>\n",
       "    <tr>\n",
       "      <th>1616</th>\n",
       "      <td>sport</td>\n",
       "      <td>ferguson urges henry punishment sir alex fergu...</td>\n",
       "    </tr>\n",
       "    <tr>\n",
       "      <th>2011</th>\n",
       "      <td>business</td>\n",
       "      <td>fiat mulls ferrari market listing ferrari coul...</td>\n",
       "    </tr>\n",
       "  </tbody>\n",
       "</table>\n",
       "<p>2225 rows × 2 columns</p>\n",
       "</div>"
      ],
      "text/plain": [
       "           category                                               text\n",
       "27             tech  mobile gig aims rock g forget going crowded ba...\n",
       "95            sport  dent continues adelaide progress american tayl...\n",
       "1026          sport  newcastle gloucester newcastle centre mathew t...\n",
       "1597       business  survey confirms property slowdown government f...\n",
       "914        business  us economy shows solid gdp growth us economy g...\n",
       "...             ...                                                ...\n",
       "1909          sport  sculthorpe wants lions captaincy paul sculthor...\n",
       "1127  entertainment  memories marley mark th anniversary birth regg...\n",
       "602        business  pension hitch long living men male life expect...\n",
       "1616          sport  ferguson urges henry punishment sir alex fergu...\n",
       "2011       business  fiat mulls ferrari market listing ferrari coul...\n",
       "\n",
       "[2225 rows x 2 columns]"
      ]
     },
     "execution_count": 26,
     "metadata": {},
     "output_type": "execute_result"
    }
   ],
   "source": [
    "# Doing all cleaning process using regex, stemmer, stopwords for all data\n",
    "df['text'] = [re.sub(\"[^a-zA-Z]\", \" \", i).lower() for i in df['text']]\n",
    "df['text'] = list(map(lambda x: \" \".join([i for i in x.lower().split() if i not in stop_word]), df['text']))\n",
    "# df['text'] = [\" \".join(word.split() for word in df['text'] if word.lower() not in stopwords.words('english'))]\n",
    "df"
   ]
  },
  {
   "cell_type": "code",
   "execution_count": 27,
   "id": "3bc2fd19",
   "metadata": {},
   "outputs": [],
   "source": [
    "df.to_csv('cleaned_bbc_data.csv')"
   ]
  },
  {
   "cell_type": "code",
   "execution_count": 28,
   "id": "a9bd97a4",
   "metadata": {},
   "outputs": [
    {
     "data": {
      "text/plain": [
       "'/media/sf_New_Volume_D/DataScience/Machine_Learning_Data_Science_Project/Broadway'"
      ]
     },
     "execution_count": 28,
     "metadata": {},
     "output_type": "execute_result"
    }
   ],
   "source": [
    "pwd"
   ]
  },
  {
   "cell_type": "code",
   "execution_count": 29,
   "id": "0e2e9dda",
   "metadata": {},
   "outputs": [],
   "source": [
    "# df['cleaned'] = df['text'].apply(lambda x: \" \".join([stemmer.stem(i) for i in re.sub(\"[^a-zA-Z]\", \" \", x).split() ]).lower())\n",
    "# df"
   ]
  },
  {
   "cell_type": "code",
   "execution_count": 30,
   "id": "78c83434",
   "metadata": {},
   "outputs": [],
   "source": [
    "# print(stop_word)"
   ]
  },
  {
   "cell_type": "code",
   "execution_count": 31,
   "id": "ce40490d",
   "metadata": {},
   "outputs": [],
   "source": [
    "# words = stopwords.words(\"nepali\")\n",
    "# words"
   ]
  },
  {
   "cell_type": "code",
   "execution_count": 32,
   "id": "cb5571f8",
   "metadata": {},
   "outputs": [],
   "source": [
    "# df['cleaned'] = df['text'].apply(lambda x: \" \".join([stemmer.stem(i) for i in re.sub(\"[^a-zA-Z]\", \" \", x).split() if i not in words]).lower())\n",
    "# df"
   ]
  },
  {
   "cell_type": "code",
   "execution_count": 34,
   "id": "72b86178",
   "metadata": {},
   "outputs": [],
   "source": [
    "# Training model\n",
    "from sklearn.linear_model import LogisticRegression\n",
    "log_regression = LogisticRegression()\n",
    "\n",
    "vectorizer = TfidfVectorizer()\n",
    "X = df['text']\n",
    "Y = df['category']\n",
    "\n",
    "X_train, X_test, y_train, y_test = train_test_split(X, Y, test_size=0.15) #Splitting dataset\n",
    "\n",
    "# #Creating Pipeline\n",
    "pipeline = Pipeline([('vect', vectorizer),\n",
    "                     ('chi',  SelectKBest(chi2, k=2000)),\n",
    "                     ('clf', LogisticRegression(random_state=1))])\n",
    "\n",
    "\n",
    "# #Training model\n",
    "model = pipeline.fit(X_train, y_train)\n",
    "\n",
    "# #Creating pickle file\n",
    "# with open('LogisticRegression.pickle', 'wb') as f:\n",
    "#     pickle.dump(model, f)"
   ]
  },
  {
   "cell_type": "code",
   "execution_count": 35,
   "id": "939689af",
   "metadata": {},
   "outputs": [
    {
     "data": {
      "text/plain": [
       "661     vibe awards back despite violence us vibe awar...\n",
       "1981    minister hits yukos sale russia renationalisat...\n",
       "1369    anelka eyes man city departure striker nicolas...\n",
       "880     roundabout continues nostalgia trip new big sc...\n",
       "1012    galloway targets new labour mp george galloway...\n",
       "                              ...                        \n",
       "1617    uganda bans vagina monologues uganda authoriti...\n",
       "1420    hoffman hits modern film hollywood legend dust...\n",
       "2143    camera phones must haves four times mobiles ca...\n",
       "1352    india russia energy talks india russia work to...\n",
       "877     nintendo handheld given euro date nintendo new...\n",
       "Name: text, Length: 334, dtype: object"
      ]
     },
     "execution_count": 35,
     "metadata": {},
     "output_type": "execute_result"
    }
   ],
   "source": [
    "X_test"
   ]
  },
  {
   "cell_type": "code",
   "execution_count": 36,
   "id": "76c0552b",
   "metadata": {},
   "outputs": [
    {
     "data": {
      "text/plain": [
       "661     entertainment\n",
       "1981         business\n",
       "1369            sport\n",
       "880     entertainment\n",
       "1012         politics\n",
       "            ...      \n",
       "1617    entertainment\n",
       "1420    entertainment\n",
       "2143             tech\n",
       "1352         business\n",
       "877              tech\n",
       "Name: category, Length: 334, dtype: object"
      ]
     },
     "execution_count": 36,
     "metadata": {},
     "output_type": "execute_result"
    }
   ],
   "source": [
    "y_test"
   ]
  },
  {
   "cell_type": "code",
   "execution_count": 40,
   "id": "663c7056",
   "metadata": {},
   "outputs": [
    {
     "name": "stdout",
     "output_type": "stream",
     "text": [
      "0.9730538922155688\n"
     ]
    }
   ],
   "source": [
    "#Accuracy\n",
    "from sklearn.metrics import accuracy_score\n",
    "predict_news_cat = model.predict(X_test)\n",
    "print(accuracy_score(y_test,predict_news_cat))\n",
    "# print('\\n')\n",
    "# print(predict_news_cat)"
   ]
  },
  {
   "cell_type": "code",
   "execution_count": 47,
   "id": "6f61a4f7",
   "metadata": {},
   "outputs": [
    {
     "name": "stdout",
     "output_type": "stream",
     "text": [
      "Enter news = Policy Changes Aimed at Promoting Social Equity and Inclusion\n",
      "Predicted news category =  business\n"
     ]
    }
   ],
   "source": [
    "# file = open('/content/news.txt','r')\n",
    "# news = file.read()\n",
    "# file.close()\n",
    "\n",
    "news = input(\"Enter news = \")\n",
    "news_data = {'predict_news':[news]}\n",
    "news_data_df = pd.DataFrame(news_data)\n",
    "# news_data_df\n",
    "predict_news_cat = model.predict(news_data_df['predict_news'])\n",
    "print(\"Predicted news category = \",predict_news_cat[0])"
   ]
  },
  {
   "cell_type": "code",
   "execution_count": 49,
   "id": "54780d89",
   "metadata": {},
   "outputs": [
    {
     "name": "stdout",
     "output_type": "stream",
     "text": [
      "               precision    recall  f1-score   support\n",
      "\n",
      "     business       0.95      0.96      0.96        78\n",
      "entertainment       0.95      1.00      0.97        53\n",
      "     politics       0.97      0.93      0.95        60\n",
      "        sport       1.00      0.99      0.99        78\n",
      "         tech       1.00      0.98      0.99        65\n",
      "\n",
      "     accuracy                           0.97       334\n",
      "    macro avg       0.97      0.97      0.97       334\n",
      " weighted avg       0.97      0.97      0.97       334\n",
      "\n",
      "[[75  1  2  0  0]\n",
      " [ 0 53  0  0  0]\n",
      " [ 2  2 56  0  0]\n",
      " [ 1  0  0 77  0]\n",
      " [ 1  0  0  0 64]]\n"
     ]
    }
   ],
   "source": [
    "# confusion matrix and classification report(precision, recall, F1-score)\n",
    "ytest = np.array(y_test)\n",
    "print(classification_report(model.predict(X_test),ytest))\n",
    "print(confusion_matrix(model.predict(X_test),ytest))"
   ]
  },
  {
   "cell_type": "code",
   "execution_count": 50,
   "id": "3e1397d6",
   "metadata": {},
   "outputs": [
    {
     "data": {
      "image/png": "[encoded data removed]",
      "text/plain": [
       "<Figure size 800x800 with 2 Axes>"
      ]
     },
     "metadata": {},
     "output_type": "display_data"
    }
   ],
   "source": [
    "import matplotlib.pyplot as plt\n",
    "from sklearn.metrics import ConfusionMatrixDisplay\n",
    "cm = confusion_matrix(model.predict(X_test),ytest)\n",
    "# Change figure size and increase dpi for better resolution\n",
    "# and get reference to axes object\n",
    "fig, ax = plt.subplots(figsize=(8,8), dpi=100)\n",
    "class_names = ['business','entertainment','politics','sport','tech']\n",
    "# initialize using the raw 2D confusion matrix\n",
    "# and output labels (in our case, it's 0 and 1)\n",
    "display = ConfusionMatrixDisplay(cm, display_labels=class_names)\n",
    "\n",
    "# set the plot title using the axes object\n",
    "ax.set(title='Confusion Matrix for the  Text Classification Model')\n",
    "\n",
    "# show the plot.\n",
    "# Pass the parameter ax to show customizations (ex. title)\n",
    "display.plot(ax=ax);"
   ]
  },
  {
   "cell_type": "code",
   "execution_count": 64,
   "id": "27284d78",
   "metadata": {},
   "outputs": [],
   "source": [
    "# #stop words\n",
    "# nltk.download('stopwords')\n",
    "# words = stopwords.words(\"russian\")\n",
    "# print(words)"
   ]
  }
 ],
 "metadata": {
  "kernelspec": {
   "display_name": "Python 3 (ipykernel)",
   "language": "python",
   "name": "python3"
  },
  "language_info": {
   "codemirror_mode": {
    "name": "ipython",
    "version": 3
   },
   "file_extension": ".py",
   "mimetype": "text/x-python",
   "name": "python",
   "nbconvert_exporter": "python",
   "pygments_lexer": "ipython3",
   "version": "3.11.5"
  }
 },
 "nbformat": 4,
 "nbformat_minor": 5
}
