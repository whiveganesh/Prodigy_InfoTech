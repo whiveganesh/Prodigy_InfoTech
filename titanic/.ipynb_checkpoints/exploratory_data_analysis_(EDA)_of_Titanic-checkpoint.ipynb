{
 "cells": [
  {
   "cell_type": "markdown",
   "id": "fd8dae73-ea3b-4b55-afea-15e8d67fc845",
   "metadata": {},
   "source": [
    "##### PassengerId - Unique identifier for each passenger\n",
    "##### Survived - Survival status (0 = No, 1 = Yes)\n",
    "##### Pclass - Ticket class indicating socioeconomic status (1 = Upper, 2 = Middle, 3 = Lower)\n",
    "##### Sex - Gender of the passenger (Male or Female)\n",
    "##### Age - Age of the passenger\n",
    "##### SibSp - Number of siblings/spouses aboard\n",
    "##### Parch - Number of parents/children aboard\n",
    "##### Ticket - Ticket number\n",
    "##### Fare - Passenger fare\n",
    "##### Cabin - Cabin number\n",
    "##### Embarked - Port of embarkation (C = Cherbourg, Q = Queenstown, S = Southampton)"
   ]
  },
  {
   "cell_type": "code",
   "execution_count": 223,
   "id": "c053c364-559a-4428-95dd-3bca6261dc64",
   "metadata": {},
   "outputs": [],
   "source": [
    "import numpy as np \n",
    "import seaborn as sns\n",
    "import matplotlib.pyplot as plt\n",
    "import pandas as pd"
   ]
  },
  {
   "cell_type": "code",
   "execution_count": 224,
   "id": "012a6b7e-2817-4009-9611-57ad505ca9a9",
   "metadata": {},
   "outputs": [],
   "source": [
    "train = pd.read_csv('train.csv')\n",
    "test = pd.read_csv('test.csv')\n",
    "gender_s = pd.read_csv('gender_submission.csv')"
   ]
  },
  {
   "cell_type": "code",
   "execution_count": 225,
   "id": "885ed590-dc91-4d8e-8e5d-531a2aee2be1",
   "metadata": {},
   "outputs": [
    {
     "data": {
      "text/html": [
       "<div>\n",
       "<style scoped>\n",
       "    .dataframe tbody tr th:only-of-type {\n",
       "        vertical-align: middle;\n",
       "    }\n",
       "\n",
       "    .dataframe tbody tr th {\n",
       "        vertical-align: top;\n",
       "    }\n",
       "\n",
       "    .dataframe thead th {\n",
       "        text-align: right;\n",
       "    }\n",
       "</style>\n",
       "<table border=\"1\" class=\"dataframe\">\n",
       "  <thead>\n",
       "    <tr style=\"text-align: right;\">\n",
       "      <th></th>\n",
       "      <th>PassengerId</th>\n",
       "      <th>Survived</th>\n",
       "      <th>Pclass</th>\n",
       "      <th>Name</th>\n",
       "      <th>Sex</th>\n",
       "      <th>Age</th>\n",
       "      <th>SibSp</th>\n",
       "      <th>Parch</th>\n",
       "      <th>Ticket</th>\n",
       "      <th>Fare</th>\n",
       "      <th>Cabin</th>\n",
       "      <th>Embarked</th>\n",
       "    </tr>\n",
       "  </thead>\n",
       "  <tbody>\n",
       "    <tr>\n",
       "      <th>0</th>\n",
       "      <td>1</td>\n",
       "      <td>0.0</td>\n",
       "      <td>3</td>\n",
       "      <td>Braund, Mr. Owen Harris</td>\n",
       "      <td>male</td>\n",
       "      <td>22.0</td>\n",
       "      <td>1</td>\n",
       "      <td>0</td>\n",
       "      <td>A/5 21171</td>\n",
       "      <td>7.2500</td>\n",
       "      <td>NaN</td>\n",
       "      <td>S</td>\n",
       "    </tr>\n",
       "    <tr>\n",
       "      <th>1</th>\n",
       "      <td>2</td>\n",
       "      <td>1.0</td>\n",
       "      <td>1</td>\n",
       "      <td>Cumings, Mrs. John Bradley (Florence Briggs Th...</td>\n",
       "      <td>female</td>\n",
       "      <td>38.0</td>\n",
       "      <td>1</td>\n",
       "      <td>0</td>\n",
       "      <td>PC 17599</td>\n",
       "      <td>71.2833</td>\n",
       "      <td>C85</td>\n",
       "      <td>C</td>\n",
       "    </tr>\n",
       "    <tr>\n",
       "      <th>2</th>\n",
       "      <td>3</td>\n",
       "      <td>1.0</td>\n",
       "      <td>3</td>\n",
       "      <td>Heikkinen, Miss. Laina</td>\n",
       "      <td>female</td>\n",
       "      <td>26.0</td>\n",
       "      <td>0</td>\n",
       "      <td>0</td>\n",
       "      <td>STON/O2. 3101282</td>\n",
       "      <td>7.9250</td>\n",
       "      <td>NaN</td>\n",
       "      <td>S</td>\n",
       "    </tr>\n",
       "    <tr>\n",
       "      <th>3</th>\n",
       "      <td>4</td>\n",
       "      <td>1.0</td>\n",
       "      <td>1</td>\n",
       "      <td>Futrelle, Mrs. Jacques Heath (Lily May Peel)</td>\n",
       "      <td>female</td>\n",
       "      <td>35.0</td>\n",
       "      <td>1</td>\n",
       "      <td>0</td>\n",
       "      <td>113803</td>\n",
       "      <td>53.1000</td>\n",
       "      <td>C123</td>\n",
       "      <td>S</td>\n",
       "    </tr>\n",
       "    <tr>\n",
       "      <th>4</th>\n",
       "      <td>5</td>\n",
       "      <td>0.0</td>\n",
       "      <td>3</td>\n",
       "      <td>Allen, Mr. William Henry</td>\n",
       "      <td>male</td>\n",
       "      <td>35.0</td>\n",
       "      <td>0</td>\n",
       "      <td>0</td>\n",
       "      <td>373450</td>\n",
       "      <td>8.0500</td>\n",
       "      <td>NaN</td>\n",
       "      <td>S</td>\n",
       "    </tr>\n",
       "  </tbody>\n",
       "</table>\n",
       "</div>"
      ],
      "text/plain": [
       "   PassengerId  Survived  Pclass  \\\n",
       "0            1       0.0       3   \n",
       "1            2       1.0       1   \n",
       "2            3       1.0       3   \n",
       "3            4       1.0       1   \n",
       "4            5       0.0       3   \n",
       "\n",
       "                                                Name     Sex   Age  SibSp  \\\n",
       "0                            Braund, Mr. Owen Harris    male  22.0      1   \n",
       "1  Cumings, Mrs. John Bradley (Florence Briggs Th...  female  38.0      1   \n",
       "2                             Heikkinen, Miss. Laina  female  26.0      0   \n",
       "3       Futrelle, Mrs. Jacques Heath (Lily May Peel)  female  35.0      1   \n",
       "4                           Allen, Mr. William Henry    male  35.0      0   \n",
       "\n",
       "   Parch            Ticket     Fare Cabin Embarked  \n",
       "0      0         A/5 21171   7.2500   NaN        S  \n",
       "1      0          PC 17599  71.2833   C85        C  \n",
       "2      0  STON/O2. 3101282   7.9250   NaN        S  \n",
       "3      0            113803  53.1000  C123        S  \n",
       "4      0            373450   8.0500   NaN        S  "
      ]
     },
     "execution_count": 225,
     "metadata": {},
     "output_type": "execute_result"
    }
   ],
   "source": [
    "data = pd.concat([train,test])\n",
    "data.head()"
   ]
  },
  {
   "cell_type": "markdown",
   "id": "1ba96b73-2ddf-438e-9b2d-ffb2062d1a6a",
   "metadata": {},
   "source": [
    "### EDA - Exploratory Data Analysis"
   ]
  },
  {
   "cell_type": "code",
   "execution_count": 226,
   "id": "5185121c-f636-48e4-8e99-c1c076be7842",
   "metadata": {},
   "outputs": [
    {
     "data": {
      "text/plain": [
       "Index(['PassengerId', 'Survived', 'Pclass', 'Name', 'Sex', 'Age', 'SibSp',\n",
       "       'Parch', 'Ticket', 'Fare', 'Cabin', 'Embarked'],\n",
       "      dtype='object')"
      ]
     },
     "execution_count": 226,
     "metadata": {},
     "output_type": "execute_result"
    }
   ],
   "source": [
    "data.columns"
   ]
  },
  {
   "cell_type": "code",
   "execution_count": 227,
   "id": "aef72cbc-8613-40c2-9f22-d1237a58201c",
   "metadata": {},
   "outputs": [
    {
     "name": "stdout",
     "output_type": "stream",
     "text": [
      "<class 'pandas.core.frame.DataFrame'>\n",
      "Index: 1309 entries, 0 to 417\n",
      "Data columns (total 12 columns):\n",
      " #   Column       Non-Null Count  Dtype  \n",
      "---  ------       --------------  -----  \n",
      " 0   PassengerId  1309 non-null   int64  \n",
      " 1   Survived     891 non-null    float64\n",
      " 2   Pclass       1309 non-null   int64  \n",
      " 3   Name         1309 non-null   object \n",
      " 4   Sex          1309 non-null   object \n",
      " 5   Age          1046 non-null   float64\n",
      " 6   SibSp        1309 non-null   int64  \n",
      " 7   Parch        1309 non-null   int64  \n",
      " 8   Ticket       1309 non-null   object \n",
      " 9   Fare         1308 non-null   float64\n",
      " 10  Cabin        295 non-null    object \n",
      " 11  Embarked     1307 non-null   object \n",
      "dtypes: float64(3), int64(4), object(5)\n",
      "memory usage: 132.9+ KB\n"
     ]
    }
   ],
   "source": [
    "data.info()"
   ]
  },
  {
   "cell_type": "code",
   "execution_count": 228,
   "id": "8ee76856-8c79-4d03-a74c-2cb4ebca91ae",
   "metadata": {},
   "outputs": [
    {
     "data": {
      "text/html": [
       "<div>\n",
       "<style scoped>\n",
       "    .dataframe tbody tr th:only-of-type {\n",
       "        vertical-align: middle;\n",
       "    }\n",
       "\n",
       "    .dataframe tbody tr th {\n",
       "        vertical-align: top;\n",
       "    }\n",
       "\n",
       "    .dataframe thead th {\n",
       "        text-align: right;\n",
       "    }\n",
       "</style>\n",
       "<table border=\"1\" class=\"dataframe\">\n",
       "  <thead>\n",
       "    <tr style=\"text-align: right;\">\n",
       "      <th></th>\n",
       "      <th>PassengerId</th>\n",
       "      <th>Survived</th>\n",
       "      <th>Pclass</th>\n",
       "      <th>Age</th>\n",
       "      <th>SibSp</th>\n",
       "      <th>Parch</th>\n",
       "      <th>Fare</th>\n",
       "    </tr>\n",
       "  </thead>\n",
       "  <tbody>\n",
       "    <tr>\n",
       "      <th>count</th>\n",
       "      <td>1309.000000</td>\n",
       "      <td>891.000000</td>\n",
       "      <td>1309.000000</td>\n",
       "      <td>1046.000000</td>\n",
       "      <td>1309.000000</td>\n",
       "      <td>1309.000000</td>\n",
       "      <td>1308.000000</td>\n",
       "    </tr>\n",
       "    <tr>\n",
       "      <th>mean</th>\n",
       "      <td>655.000000</td>\n",
       "      <td>0.383838</td>\n",
       "      <td>2.294882</td>\n",
       "      <td>29.881138</td>\n",
       "      <td>0.498854</td>\n",
       "      <td>0.385027</td>\n",
       "      <td>33.295479</td>\n",
       "    </tr>\n",
       "    <tr>\n",
       "      <th>std</th>\n",
       "      <td>378.020061</td>\n",
       "      <td>0.486592</td>\n",
       "      <td>0.837836</td>\n",
       "      <td>14.413493</td>\n",
       "      <td>1.041658</td>\n",
       "      <td>0.865560</td>\n",
       "      <td>51.758668</td>\n",
       "    </tr>\n",
       "    <tr>\n",
       "      <th>min</th>\n",
       "      <td>1.000000</td>\n",
       "      <td>0.000000</td>\n",
       "      <td>1.000000</td>\n",
       "      <td>0.170000</td>\n",
       "      <td>0.000000</td>\n",
       "      <td>0.000000</td>\n",
       "      <td>0.000000</td>\n",
       "    </tr>\n",
       "    <tr>\n",
       "      <th>25%</th>\n",
       "      <td>328.000000</td>\n",
       "      <td>0.000000</td>\n",
       "      <td>2.000000</td>\n",
       "      <td>21.000000</td>\n",
       "      <td>0.000000</td>\n",
       "      <td>0.000000</td>\n",
       "      <td>7.895800</td>\n",
       "    </tr>\n",
       "    <tr>\n",
       "      <th>50%</th>\n",
       "      <td>655.000000</td>\n",
       "      <td>0.000000</td>\n",
       "      <td>3.000000</td>\n",
       "      <td>28.000000</td>\n",
       "      <td>0.000000</td>\n",
       "      <td>0.000000</td>\n",
       "      <td>14.454200</td>\n",
       "    </tr>\n",
       "    <tr>\n",
       "      <th>75%</th>\n",
       "      <td>982.000000</td>\n",
       "      <td>1.000000</td>\n",
       "      <td>3.000000</td>\n",
       "      <td>39.000000</td>\n",
       "      <td>1.000000</td>\n",
       "      <td>0.000000</td>\n",
       "      <td>31.275000</td>\n",
       "    </tr>\n",
       "    <tr>\n",
       "      <th>max</th>\n",
       "      <td>1309.000000</td>\n",
       "      <td>1.000000</td>\n",
       "      <td>3.000000</td>\n",
       "      <td>80.000000</td>\n",
       "      <td>8.000000</td>\n",
       "      <td>9.000000</td>\n",
       "      <td>512.329200</td>\n",
       "    </tr>\n",
       "  </tbody>\n",
       "</table>\n",
       "</div>"
      ],
      "text/plain": [
       "       PassengerId    Survived       Pclass          Age        SibSp  \\\n",
       "count  1309.000000  891.000000  1309.000000  1046.000000  1309.000000   \n",
       "mean    655.000000    0.383838     2.294882    29.881138     0.498854   \n",
       "std     378.020061    0.486592     0.837836    14.413493     1.041658   \n",
       "min       1.000000    0.000000     1.000000     0.170000     0.000000   \n",
       "25%     328.000000    0.000000     2.000000    21.000000     0.000000   \n",
       "50%     655.000000    0.000000     3.000000    28.000000     0.000000   \n",
       "75%     982.000000    1.000000     3.000000    39.000000     1.000000   \n",
       "max    1309.000000    1.000000     3.000000    80.000000     8.000000   \n",
       "\n",
       "             Parch         Fare  \n",
       "count  1309.000000  1308.000000  \n",
       "mean      0.385027    33.295479  \n",
       "std       0.865560    51.758668  \n",
       "min       0.000000     0.000000  \n",
       "25%       0.000000     7.895800  \n",
       "50%       0.000000    14.454200  \n",
       "75%       0.000000    31.275000  \n",
       "max       9.000000   512.329200  "
      ]
     },
     "execution_count": 228,
     "metadata": {},
     "output_type": "execute_result"
    }
   ],
   "source": [
    "# Statistical description of numerical variables\n",
    "data.describe()"
   ]
  },
  {
   "cell_type": "code",
   "execution_count": 229,
   "id": "5b329977-0170-461b-a182-e4ee78047ebc",
   "metadata": {},
   "outputs": [
    {
     "data": {
      "text/plain": [
       "PassengerId       0\n",
       "Survived        418\n",
       "Pclass            0\n",
       "Name              0\n",
       "Sex               0\n",
       "Age             263\n",
       "SibSp             0\n",
       "Parch             0\n",
       "Ticket            0\n",
       "Fare              1\n",
       "Cabin          1014\n",
       "Embarked          2\n",
       "dtype: int64"
      ]
     },
     "execution_count": 229,
     "metadata": {},
     "output_type": "execute_result"
    }
   ],
   "source": [
    "data.isna().sum()"
   ]
  },
  {
   "cell_type": "code",
   "execution_count": 230,
   "id": "32faa198-189d-41b1-b5e6-2e4496afabd8",
   "metadata": {},
   "outputs": [
    {
     "data": {
      "text/html": [
       "<div>\n",
       "<style scoped>\n",
       "    .dataframe tbody tr th:only-of-type {\n",
       "        vertical-align: middle;\n",
       "    }\n",
       "\n",
       "    .dataframe tbody tr th {\n",
       "        vertical-align: top;\n",
       "    }\n",
       "\n",
       "    .dataframe thead th {\n",
       "        text-align: right;\n",
       "    }\n",
       "</style>\n",
       "<table border=\"1\" class=\"dataframe\">\n",
       "  <thead>\n",
       "    <tr style=\"text-align: right;\">\n",
       "      <th></th>\n",
       "      <th>total_missing</th>\n",
       "      <th>perc_missing</th>\n",
       "    </tr>\n",
       "  </thead>\n",
       "  <tbody>\n",
       "    <tr>\n",
       "      <th>PassengerId</th>\n",
       "      <td>0</td>\n",
       "      <td>0.000000</td>\n",
       "    </tr>\n",
       "    <tr>\n",
       "      <th>Survived</th>\n",
       "      <td>418</td>\n",
       "      <td>0.319328</td>\n",
       "    </tr>\n",
       "    <tr>\n",
       "      <th>Pclass</th>\n",
       "      <td>0</td>\n",
       "      <td>0.000000</td>\n",
       "    </tr>\n",
       "    <tr>\n",
       "      <th>Name</th>\n",
       "      <td>0</td>\n",
       "      <td>0.000000</td>\n",
       "    </tr>\n",
       "    <tr>\n",
       "      <th>Sex</th>\n",
       "      <td>0</td>\n",
       "      <td>0.000000</td>\n",
       "    </tr>\n",
       "    <tr>\n",
       "      <th>Age</th>\n",
       "      <td>263</td>\n",
       "      <td>0.200917</td>\n",
       "    </tr>\n",
       "    <tr>\n",
       "      <th>SibSp</th>\n",
       "      <td>0</td>\n",
       "      <td>0.000000</td>\n",
       "    </tr>\n",
       "    <tr>\n",
       "      <th>Parch</th>\n",
       "      <td>0</td>\n",
       "      <td>0.000000</td>\n",
       "    </tr>\n",
       "    <tr>\n",
       "      <th>Ticket</th>\n",
       "      <td>0</td>\n",
       "      <td>0.000000</td>\n",
       "    </tr>\n",
       "    <tr>\n",
       "      <th>Fare</th>\n",
       "      <td>1</td>\n",
       "      <td>0.000764</td>\n",
       "    </tr>\n",
       "    <tr>\n",
       "      <th>Cabin</th>\n",
       "      <td>1014</td>\n",
       "      <td>0.774637</td>\n",
       "    </tr>\n",
       "    <tr>\n",
       "      <th>Embarked</th>\n",
       "      <td>2</td>\n",
       "      <td>0.001528</td>\n",
       "    </tr>\n",
       "  </tbody>\n",
       "</table>\n",
       "</div>"
      ],
      "text/plain": [
       "             total_missing  perc_missing\n",
       "PassengerId              0      0.000000\n",
       "Survived               418      0.319328\n",
       "Pclass                   0      0.000000\n",
       "Name                     0      0.000000\n",
       "Sex                      0      0.000000\n",
       "Age                    263      0.200917\n",
       "SibSp                    0      0.000000\n",
       "Parch                    0      0.000000\n",
       "Ticket                   0      0.000000\n",
       "Fare                     1      0.000764\n",
       "Cabin                 1014      0.774637\n",
       "Embarked                 2      0.001528"
      ]
     },
     "execution_count": 230,
     "metadata": {},
     "output_type": "execute_result"
    }
   ],
   "source": [
    "# None values on percentage\n",
    "missing_data = pd.DataFrame({'total_missing':data.isna().sum(),'perc_missing' : data.isna().sum()/data.shape[0]})\n",
    "missing_data"
   ]
  },
  {
   "cell_type": "markdown",
   "id": "33ad7465-3bf3-4f8d-aa12-b9ea2d2cb74d",
   "metadata": {},
   "source": [
    "### Data Cleaning"
   ]
  },
  {
   "cell_type": "code",
   "execution_count": 231,
   "id": "d1e0b55b-0bd3-4552-bc94-8bff5472429b",
   "metadata": {},
   "outputs": [],
   "source": [
    "data = data.dropna(subset = ['Fare','Embarked']).reset_index(drop=True)"
   ]
  },
  {
   "cell_type": "markdown",
   "id": "9c4df466-998f-4a04-876b-aa1ea7383209",
   "metadata": {},
   "source": [
    "### Handling missing values & Feature Engineering"
   ]
  },
  {
   "cell_type": "code",
   "execution_count": 232,
   "id": "5ff8a158-6afb-4751-91c4-469af93c7cdb",
   "metadata": {},
   "outputs": [],
   "source": [
    "data['Age'] = data['Age'].fillna(data['Age'].mean())\n",
    "data['Age'] = data['Age'].astype('int')"
   ]
  },
  {
   "cell_type": "code",
   "execution_count": 233,
   "id": "17280c05-5810-4fc2-88cf-675994a10a07",
   "metadata": {},
   "outputs": [
    {
     "data": {
      "text/plain": [
       "array([nan, 'C85', 'C123', 'E46', 'G6', 'C103', 'D56', 'A6',\n",
       "       'C23 C25 C27', 'B78', 'D33', 'B30', 'C52', 'C83', 'F33', 'F G73',\n",
       "       'E31', 'A5', 'D10 D12', 'D26', 'C110', 'B58 B60', 'E101', 'F E69',\n",
       "       'D47', 'B86', 'F2', 'C2', 'E33', 'B19', 'A7', 'C49', 'F4', 'A32',\n",
       "       'B4', 'B80', 'A31', 'D36', 'D15', 'C93', 'C78', 'D35', 'C87',\n",
       "       'B77', 'E67', 'B94', 'C125', 'C99', 'C118', 'D7', 'A19', 'B49',\n",
       "       'D', 'C22 C26', 'C106', 'C65', 'E36', 'C54', 'B57 B59 B63 B66',\n",
       "       'C7', 'E34', 'C32', 'B18', 'C124', 'C91', 'E40', 'T', 'C128',\n",
       "       'D37', 'B35', 'E50', 'C82', 'B96 B98', 'E10', 'E44', 'A34', 'C104',\n",
       "       'C111', 'C92', 'E38', 'D21', 'E12', 'E63', 'A14', 'B37', 'C30',\n",
       "       'D20', 'B79', 'E25', 'D46', 'B73', 'C95', 'B38', 'B39', 'B22',\n",
       "       'C86', 'C70', 'A16', 'C101', 'C68', 'A10', 'E68', 'B41', 'A20',\n",
       "       'D19', 'D50', 'D9', 'A23', 'B50', 'A26', 'D48', 'E58', 'C126',\n",
       "       'B71', 'B51 B53 B55', 'D49', 'B5', 'B20', 'F G63', 'C62 C64',\n",
       "       'E24', 'C90', 'C45', 'E8', 'B101', 'D45', 'C46', 'D30', 'E121',\n",
       "       'D11', 'E77', 'F38', 'B3', 'D6', 'B82 B84', 'D17', 'A36', 'B102',\n",
       "       'B69', 'E49', 'C47', 'D28', 'E17', 'A24', 'C50', 'B42', 'C148',\n",
       "       'B45', 'B36', 'A21', 'D34', 'A9', 'C31', 'B61', 'C53', 'D43',\n",
       "       'C130', 'C132', 'C55 C57', 'C116', 'F', 'A29', 'C6', 'C28', 'C51',\n",
       "       'C97', 'D22', 'B10', 'E45', 'E52', 'A11', 'B11', 'C80', 'C89',\n",
       "       'F E46', 'B26', 'F E57', 'A18', 'E60', 'E39 E41', 'B52 B54 B56',\n",
       "       'C39', 'B24', 'D40', 'D38', 'C105'], dtype=object)"
      ]
     },
     "execution_count": 233,
     "metadata": {},
     "output_type": "execute_result"
    }
   ],
   "source": [
    "data['Cabin'].unique()"
   ]
  },
  {
   "cell_type": "code",
   "execution_count": 234,
   "id": "52f1749a-fb62-44fd-b55b-e5071f09737d",
   "metadata": {},
   "outputs": [
    {
     "data": {
      "text/html": [
       "<div>\n",
       "<style scoped>\n",
       "    .dataframe tbody tr th:only-of-type {\n",
       "        vertical-align: middle;\n",
       "    }\n",
       "\n",
       "    .dataframe tbody tr th {\n",
       "        vertical-align: top;\n",
       "    }\n",
       "\n",
       "    .dataframe thead th {\n",
       "        text-align: right;\n",
       "    }\n",
       "</style>\n",
       "<table border=\"1\" class=\"dataframe\">\n",
       "  <thead>\n",
       "    <tr style=\"text-align: right;\">\n",
       "      <th></th>\n",
       "      <th>PassengerId</th>\n",
       "      <th>Survived</th>\n",
       "      <th>Pclass</th>\n",
       "      <th>Name</th>\n",
       "      <th>Sex</th>\n",
       "      <th>Age</th>\n",
       "      <th>SibSp</th>\n",
       "      <th>Parch</th>\n",
       "      <th>Ticket</th>\n",
       "      <th>Fare</th>\n",
       "      <th>Cabin</th>\n",
       "      <th>Embarked</th>\n",
       "      <th>deck</th>\n",
       "    </tr>\n",
       "  </thead>\n",
       "  <tbody>\n",
       "    <tr>\n",
       "      <th>0</th>\n",
       "      <td>1</td>\n",
       "      <td>0.0</td>\n",
       "      <td>3</td>\n",
       "      <td>Braund, Mr. Owen Harris</td>\n",
       "      <td>male</td>\n",
       "      <td>22</td>\n",
       "      <td>1</td>\n",
       "      <td>0</td>\n",
       "      <td>A/5 21171</td>\n",
       "      <td>7.2500</td>\n",
       "      <td>NaN</td>\n",
       "      <td>S</td>\n",
       "      <td>None</td>\n",
       "    </tr>\n",
       "    <tr>\n",
       "      <th>1</th>\n",
       "      <td>2</td>\n",
       "      <td>1.0</td>\n",
       "      <td>1</td>\n",
       "      <td>Cumings, Mrs. John Bradley (Florence Briggs Th...</td>\n",
       "      <td>female</td>\n",
       "      <td>38</td>\n",
       "      <td>1</td>\n",
       "      <td>0</td>\n",
       "      <td>PC 17599</td>\n",
       "      <td>71.2833</td>\n",
       "      <td>C85</td>\n",
       "      <td>C</td>\n",
       "      <td>None</td>\n",
       "    </tr>\n",
       "    <tr>\n",
       "      <th>2</th>\n",
       "      <td>3</td>\n",
       "      <td>1.0</td>\n",
       "      <td>3</td>\n",
       "      <td>Heikkinen, Miss. Laina</td>\n",
       "      <td>female</td>\n",
       "      <td>26</td>\n",
       "      <td>0</td>\n",
       "      <td>0</td>\n",
       "      <td>STON/O2. 3101282</td>\n",
       "      <td>7.9250</td>\n",
       "      <td>NaN</td>\n",
       "      <td>S</td>\n",
       "      <td>None</td>\n",
       "    </tr>\n",
       "    <tr>\n",
       "      <th>3</th>\n",
       "      <td>4</td>\n",
       "      <td>1.0</td>\n",
       "      <td>1</td>\n",
       "      <td>Futrelle, Mrs. Jacques Heath (Lily May Peel)</td>\n",
       "      <td>female</td>\n",
       "      <td>35</td>\n",
       "      <td>1</td>\n",
       "      <td>0</td>\n",
       "      <td>113803</td>\n",
       "      <td>53.1000</td>\n",
       "      <td>C123</td>\n",
       "      <td>S</td>\n",
       "      <td>None</td>\n",
       "    </tr>\n",
       "    <tr>\n",
       "      <th>4</th>\n",
       "      <td>5</td>\n",
       "      <td>0.0</td>\n",
       "      <td>3</td>\n",
       "      <td>Allen, Mr. William Henry</td>\n",
       "      <td>male</td>\n",
       "      <td>35</td>\n",
       "      <td>0</td>\n",
       "      <td>0</td>\n",
       "      <td>373450</td>\n",
       "      <td>8.0500</td>\n",
       "      <td>NaN</td>\n",
       "      <td>S</td>\n",
       "      <td>None</td>\n",
       "    </tr>\n",
       "    <tr>\n",
       "      <th>...</th>\n",
       "      <td>...</td>\n",
       "      <td>...</td>\n",
       "      <td>...</td>\n",
       "      <td>...</td>\n",
       "      <td>...</td>\n",
       "      <td>...</td>\n",
       "      <td>...</td>\n",
       "      <td>...</td>\n",
       "      <td>...</td>\n",
       "      <td>...</td>\n",
       "      <td>...</td>\n",
       "      <td>...</td>\n",
       "      <td>...</td>\n",
       "    </tr>\n",
       "    <tr>\n",
       "      <th>1301</th>\n",
       "      <td>1305</td>\n",
       "      <td>NaN</td>\n",
       "      <td>3</td>\n",
       "      <td>Spector, Mr. Woolf</td>\n",
       "      <td>male</td>\n",
       "      <td>29</td>\n",
       "      <td>0</td>\n",
       "      <td>0</td>\n",
       "      <td>A.5. 3236</td>\n",
       "      <td>8.0500</td>\n",
       "      <td>NaN</td>\n",
       "      <td>S</td>\n",
       "      <td>None</td>\n",
       "    </tr>\n",
       "    <tr>\n",
       "      <th>1302</th>\n",
       "      <td>1306</td>\n",
       "      <td>NaN</td>\n",
       "      <td>1</td>\n",
       "      <td>Oliva y Ocana, Dona. Fermina</td>\n",
       "      <td>female</td>\n",
       "      <td>39</td>\n",
       "      <td>0</td>\n",
       "      <td>0</td>\n",
       "      <td>PC 17758</td>\n",
       "      <td>108.9000</td>\n",
       "      <td>C105</td>\n",
       "      <td>C</td>\n",
       "      <td>None</td>\n",
       "    </tr>\n",
       "    <tr>\n",
       "      <th>1303</th>\n",
       "      <td>1307</td>\n",
       "      <td>NaN</td>\n",
       "      <td>3</td>\n",
       "      <td>Saether, Mr. Simon Sivertsen</td>\n",
       "      <td>male</td>\n",
       "      <td>38</td>\n",
       "      <td>0</td>\n",
       "      <td>0</td>\n",
       "      <td>SOTON/O.Q. 3101262</td>\n",
       "      <td>7.2500</td>\n",
       "      <td>NaN</td>\n",
       "      <td>S</td>\n",
       "      <td>None</td>\n",
       "    </tr>\n",
       "    <tr>\n",
       "      <th>1304</th>\n",
       "      <td>1308</td>\n",
       "      <td>NaN</td>\n",
       "      <td>3</td>\n",
       "      <td>Ware, Mr. Frederick</td>\n",
       "      <td>male</td>\n",
       "      <td>29</td>\n",
       "      <td>0</td>\n",
       "      <td>0</td>\n",
       "      <td>359309</td>\n",
       "      <td>8.0500</td>\n",
       "      <td>NaN</td>\n",
       "      <td>S</td>\n",
       "      <td>None</td>\n",
       "    </tr>\n",
       "    <tr>\n",
       "      <th>1305</th>\n",
       "      <td>1309</td>\n",
       "      <td>NaN</td>\n",
       "      <td>3</td>\n",
       "      <td>Peter, Master. Michael J</td>\n",
       "      <td>male</td>\n",
       "      <td>29</td>\n",
       "      <td>1</td>\n",
       "      <td>1</td>\n",
       "      <td>2668</td>\n",
       "      <td>22.3583</td>\n",
       "      <td>NaN</td>\n",
       "      <td>C</td>\n",
       "      <td>None</td>\n",
       "    </tr>\n",
       "  </tbody>\n",
       "</table>\n",
       "<p>1306 rows × 13 columns</p>\n",
       "</div>"
      ],
      "text/plain": [
       "      PassengerId  Survived  Pclass  \\\n",
       "0               1       0.0       3   \n",
       "1               2       1.0       1   \n",
       "2               3       1.0       3   \n",
       "3               4       1.0       1   \n",
       "4               5       0.0       3   \n",
       "...           ...       ...     ...   \n",
       "1301         1305       NaN       3   \n",
       "1302         1306       NaN       1   \n",
       "1303         1307       NaN       3   \n",
       "1304         1308       NaN       3   \n",
       "1305         1309       NaN       3   \n",
       "\n",
       "                                                   Name     Sex  Age  SibSp  \\\n",
       "0                               Braund, Mr. Owen Harris    male   22      1   \n",
       "1     Cumings, Mrs. John Bradley (Florence Briggs Th...  female   38      1   \n",
       "2                                Heikkinen, Miss. Laina  female   26      0   \n",
       "3          Futrelle, Mrs. Jacques Heath (Lily May Peel)  female   35      1   \n",
       "4                              Allen, Mr. William Henry    male   35      0   \n",
       "...                                                 ...     ...  ...    ...   \n",
       "1301                                 Spector, Mr. Woolf    male   29      0   \n",
       "1302                       Oliva y Ocana, Dona. Fermina  female   39      0   \n",
       "1303                       Saether, Mr. Simon Sivertsen    male   38      0   \n",
       "1304                                Ware, Mr. Frederick    male   29      0   \n",
       "1305                           Peter, Master. Michael J    male   29      1   \n",
       "\n",
       "      Parch              Ticket      Fare Cabin Embarked  deck  \n",
       "0         0           A/5 21171    7.2500   NaN        S  None  \n",
       "1         0            PC 17599   71.2833   C85        C  None  \n",
       "2         0    STON/O2. 3101282    7.9250   NaN        S  None  \n",
       "3         0              113803   53.1000  C123        S  None  \n",
       "4         0              373450    8.0500   NaN        S  None  \n",
       "...     ...                 ...       ...   ...      ...   ...  \n",
       "1301      0           A.5. 3236    8.0500   NaN        S  None  \n",
       "1302      0            PC 17758  108.9000  C105        C  None  \n",
       "1303      0  SOTON/O.Q. 3101262    7.2500   NaN        S  None  \n",
       "1304      0              359309    8.0500   NaN        S  None  \n",
       "1305      1                2668   22.3583   NaN        C  None  \n",
       "\n",
       "[1306 rows x 13 columns]"
      ]
     },
     "execution_count": 234,
     "metadata": {},
     "output_type": "execute_result"
    }
   ],
   "source": [
    "#  adds new column 'deck' and initializes it with None for each row with length of number of rows in the DataFrame.\n",
    "data['deck'] = [None]*data.shape[0] \n",
    "data"
   ]
  },
  {
   "cell_type": "code",
   "execution_count": 235,
   "id": "d536d205-2de6-4d38-9096-8a5160d51d2f",
   "metadata": {},
   "outputs": [
    {
     "data": {
      "text/plain": [
       "1       C\n",
       "3       C\n",
       "6       E\n",
       "10      G\n",
       "11      C\n",
       "       ..\n",
       "1292    D\n",
       "1293    D\n",
       "1295    C\n",
       "1299    C\n",
       "1302    C\n",
       "Name: Cabin, Length: 293, dtype: object"
      ]
     },
     "execution_count": 235,
     "metadata": {},
     "output_type": "execute_result"
    }
   ],
   "source": [
    "# creates pandas Series named 'decks' $ selects rows with 'Cabin' column not null, then extracts first character of 'Cabin' values using .str[0]\n",
    "data[data['Cabin'].notnull()]['Cabin'].str[0] "
   ]
  },
  {
   "cell_type": "code",
   "execution_count": 236,
   "id": "4b74f6f3-1a1c-4160-a036-adf8522d6449",
   "metadata": {},
   "outputs": [
    {
     "data": {
      "text/plain": [
       "0       False\n",
       "1        True\n",
       "2       False\n",
       "3        True\n",
       "4       False\n",
       "        ...  \n",
       "1301    False\n",
       "1302     True\n",
       "1303    False\n",
       "1304    False\n",
       "1305    False\n",
       "Name: Cabin, Length: 1306, dtype: bool"
      ]
     },
     "execution_count": 236,
     "metadata": {},
     "output_type": "execute_result"
    }
   ],
   "source": [
    "data['Cabin'].notnull()"
   ]
  },
  {
   "cell_type": "code",
   "execution_count": 237,
   "id": "ae547f67-58ce-4a90-a17d-4dbb8ae8d0b3",
   "metadata": {},
   "outputs": [
    {
     "data": {
      "text/plain": [
       "RangeIndex(start=0, stop=1306, step=1)"
      ]
     },
     "execution_count": 237,
     "metadata": {},
     "output_type": "execute_result"
    }
   ],
   "source": [
    "data['Cabin'].notnull().index #.index is  retriving the index of the not null"
   ]
  },
  {
   "cell_type": "code",
   "execution_count": 238,
   "id": "8d264060-0c8d-4220-ba6c-59ef9acd2dd3",
   "metadata": {},
   "outputs": [],
   "source": [
    "decks = decks = data[data['Cabin'].notnull()]['Cabin'].str[0]"
   ]
  },
  {
   "cell_type": "code",
   "execution_count": 239,
   "id": "97d399e5-9e57-4a94-8dab-27d3e3959d2e",
   "metadata": {},
   "outputs": [
    {
     "data": {
      "text/html": [
       "<div>\n",
       "<style scoped>\n",
       "    .dataframe tbody tr th:only-of-type {\n",
       "        vertical-align: middle;\n",
       "    }\n",
       "\n",
       "    .dataframe tbody tr th {\n",
       "        vertical-align: top;\n",
       "    }\n",
       "\n",
       "    .dataframe thead th {\n",
       "        text-align: right;\n",
       "    }\n",
       "</style>\n",
       "<table border=\"1\" class=\"dataframe\">\n",
       "  <thead>\n",
       "    <tr style=\"text-align: right;\">\n",
       "      <th></th>\n",
       "      <th>PassengerId</th>\n",
       "      <th>Survived</th>\n",
       "      <th>Pclass</th>\n",
       "      <th>Name</th>\n",
       "      <th>Sex</th>\n",
       "      <th>Age</th>\n",
       "      <th>SibSp</th>\n",
       "      <th>Parch</th>\n",
       "      <th>Ticket</th>\n",
       "      <th>Fare</th>\n",
       "      <th>Cabin</th>\n",
       "      <th>Embarked</th>\n",
       "      <th>deck</th>\n",
       "    </tr>\n",
       "  </thead>\n",
       "  <tbody>\n",
       "    <tr>\n",
       "      <th>0</th>\n",
       "      <td>1</td>\n",
       "      <td>0.0</td>\n",
       "      <td>3</td>\n",
       "      <td>Braund, Mr. Owen Harris</td>\n",
       "      <td>male</td>\n",
       "      <td>22</td>\n",
       "      <td>1</td>\n",
       "      <td>0</td>\n",
       "      <td>A/5 21171</td>\n",
       "      <td>7.2500</td>\n",
       "      <td>NaN</td>\n",
       "      <td>S</td>\n",
       "      <td>NaN</td>\n",
       "    </tr>\n",
       "    <tr>\n",
       "      <th>1</th>\n",
       "      <td>2</td>\n",
       "      <td>1.0</td>\n",
       "      <td>1</td>\n",
       "      <td>Cumings, Mrs. John Bradley (Florence Briggs Th...</td>\n",
       "      <td>female</td>\n",
       "      <td>38</td>\n",
       "      <td>1</td>\n",
       "      <td>0</td>\n",
       "      <td>PC 17599</td>\n",
       "      <td>71.2833</td>\n",
       "      <td>C85</td>\n",
       "      <td>C</td>\n",
       "      <td>C</td>\n",
       "    </tr>\n",
       "    <tr>\n",
       "      <th>2</th>\n",
       "      <td>3</td>\n",
       "      <td>1.0</td>\n",
       "      <td>3</td>\n",
       "      <td>Heikkinen, Miss. Laina</td>\n",
       "      <td>female</td>\n",
       "      <td>26</td>\n",
       "      <td>0</td>\n",
       "      <td>0</td>\n",
       "      <td>STON/O2. 3101282</td>\n",
       "      <td>7.9250</td>\n",
       "      <td>NaN</td>\n",
       "      <td>S</td>\n",
       "      <td>NaN</td>\n",
       "    </tr>\n",
       "    <tr>\n",
       "      <th>3</th>\n",
       "      <td>4</td>\n",
       "      <td>1.0</td>\n",
       "      <td>1</td>\n",
       "      <td>Futrelle, Mrs. Jacques Heath (Lily May Peel)</td>\n",
       "      <td>female</td>\n",
       "      <td>35</td>\n",
       "      <td>1</td>\n",
       "      <td>0</td>\n",
       "      <td>113803</td>\n",
       "      <td>53.1000</td>\n",
       "      <td>C123</td>\n",
       "      <td>S</td>\n",
       "      <td>C</td>\n",
       "    </tr>\n",
       "    <tr>\n",
       "      <th>4</th>\n",
       "      <td>5</td>\n",
       "      <td>0.0</td>\n",
       "      <td>3</td>\n",
       "      <td>Allen, Mr. William Henry</td>\n",
       "      <td>male</td>\n",
       "      <td>35</td>\n",
       "      <td>0</td>\n",
       "      <td>0</td>\n",
       "      <td>373450</td>\n",
       "      <td>8.0500</td>\n",
       "      <td>NaN</td>\n",
       "      <td>S</td>\n",
       "      <td>NaN</td>\n",
       "    </tr>\n",
       "    <tr>\n",
       "      <th>...</th>\n",
       "      <td>...</td>\n",
       "      <td>...</td>\n",
       "      <td>...</td>\n",
       "      <td>...</td>\n",
       "      <td>...</td>\n",
       "      <td>...</td>\n",
       "      <td>...</td>\n",
       "      <td>...</td>\n",
       "      <td>...</td>\n",
       "      <td>...</td>\n",
       "      <td>...</td>\n",
       "      <td>...</td>\n",
       "      <td>...</td>\n",
       "    </tr>\n",
       "    <tr>\n",
       "      <th>1301</th>\n",
       "      <td>1305</td>\n",
       "      <td>NaN</td>\n",
       "      <td>3</td>\n",
       "      <td>Spector, Mr. Woolf</td>\n",
       "      <td>male</td>\n",
       "      <td>29</td>\n",
       "      <td>0</td>\n",
       "      <td>0</td>\n",
       "      <td>A.5. 3236</td>\n",
       "      <td>8.0500</td>\n",
       "      <td>NaN</td>\n",
       "      <td>S</td>\n",
       "      <td>NaN</td>\n",
       "    </tr>\n",
       "    <tr>\n",
       "      <th>1302</th>\n",
       "      <td>1306</td>\n",
       "      <td>NaN</td>\n",
       "      <td>1</td>\n",
       "      <td>Oliva y Ocana, Dona. Fermina</td>\n",
       "      <td>female</td>\n",
       "      <td>39</td>\n",
       "      <td>0</td>\n",
       "      <td>0</td>\n",
       "      <td>PC 17758</td>\n",
       "      <td>108.9000</td>\n",
       "      <td>C105</td>\n",
       "      <td>C</td>\n",
       "      <td>C</td>\n",
       "    </tr>\n",
       "    <tr>\n",
       "      <th>1303</th>\n",
       "      <td>1307</td>\n",
       "      <td>NaN</td>\n",
       "      <td>3</td>\n",
       "      <td>Saether, Mr. Simon Sivertsen</td>\n",
       "      <td>male</td>\n",
       "      <td>38</td>\n",
       "      <td>0</td>\n",
       "      <td>0</td>\n",
       "      <td>SOTON/O.Q. 3101262</td>\n",
       "      <td>7.2500</td>\n",
       "      <td>NaN</td>\n",
       "      <td>S</td>\n",
       "      <td>NaN</td>\n",
       "    </tr>\n",
       "    <tr>\n",
       "      <th>1304</th>\n",
       "      <td>1308</td>\n",
       "      <td>NaN</td>\n",
       "      <td>3</td>\n",
       "      <td>Ware, Mr. Frederick</td>\n",
       "      <td>male</td>\n",
       "      <td>29</td>\n",
       "      <td>0</td>\n",
       "      <td>0</td>\n",
       "      <td>359309</td>\n",
       "      <td>8.0500</td>\n",
       "      <td>NaN</td>\n",
       "      <td>S</td>\n",
       "      <td>NaN</td>\n",
       "    </tr>\n",
       "    <tr>\n",
       "      <th>1305</th>\n",
       "      <td>1309</td>\n",
       "      <td>NaN</td>\n",
       "      <td>3</td>\n",
       "      <td>Peter, Master. Michael J</td>\n",
       "      <td>male</td>\n",
       "      <td>29</td>\n",
       "      <td>1</td>\n",
       "      <td>1</td>\n",
       "      <td>2668</td>\n",
       "      <td>22.3583</td>\n",
       "      <td>NaN</td>\n",
       "      <td>C</td>\n",
       "      <td>NaN</td>\n",
       "    </tr>\n",
       "  </tbody>\n",
       "</table>\n",
       "<p>1306 rows × 13 columns</p>\n",
       "</div>"
      ],
      "text/plain": [
       "      PassengerId  Survived  Pclass  \\\n",
       "0               1       0.0       3   \n",
       "1               2       1.0       1   \n",
       "2               3       1.0       3   \n",
       "3               4       1.0       1   \n",
       "4               5       0.0       3   \n",
       "...           ...       ...     ...   \n",
       "1301         1305       NaN       3   \n",
       "1302         1306       NaN       1   \n",
       "1303         1307       NaN       3   \n",
       "1304         1308       NaN       3   \n",
       "1305         1309       NaN       3   \n",
       "\n",
       "                                                   Name     Sex  Age  SibSp  \\\n",
       "0                               Braund, Mr. Owen Harris    male   22      1   \n",
       "1     Cumings, Mrs. John Bradley (Florence Briggs Th...  female   38      1   \n",
       "2                                Heikkinen, Miss. Laina  female   26      0   \n",
       "3          Futrelle, Mrs. Jacques Heath (Lily May Peel)  female   35      1   \n",
       "4                              Allen, Mr. William Henry    male   35      0   \n",
       "...                                                 ...     ...  ...    ...   \n",
       "1301                                 Spector, Mr. Woolf    male   29      0   \n",
       "1302                       Oliva y Ocana, Dona. Fermina  female   39      0   \n",
       "1303                       Saether, Mr. Simon Sivertsen    male   38      0   \n",
       "1304                                Ware, Mr. Frederick    male   29      0   \n",
       "1305                           Peter, Master. Michael J    male   29      1   \n",
       "\n",
       "      Parch              Ticket      Fare Cabin Embarked deck  \n",
       "0         0           A/5 21171    7.2500   NaN        S  NaN  \n",
       "1         0            PC 17599   71.2833   C85        C    C  \n",
       "2         0    STON/O2. 3101282    7.9250   NaN        S  NaN  \n",
       "3         0              113803   53.1000  C123        S    C  \n",
       "4         0              373450    8.0500   NaN        S  NaN  \n",
       "...     ...                 ...       ...   ...      ...  ...  \n",
       "1301      0           A.5. 3236    8.0500   NaN        S  NaN  \n",
       "1302      0            PC 17758  108.9000  C105        C    C  \n",
       "1303      0  SOTON/O.Q. 3101262    7.2500   NaN        S  NaN  \n",
       "1304      0              359309    8.0500   NaN        S  NaN  \n",
       "1305      1                2668   22.3583   NaN        C  NaN  \n",
       "\n",
       "[1306 rows x 13 columns]"
      ]
     },
     "execution_count": 239,
     "metadata": {},
     "output_type": "execute_result"
    }
   ],
   "source": [
    "# updates 'deck' column by taking values from 'decks' in data by using loc accessor to set values for 'deck' column in that index \n",
    "# where 'Cabin' column is not null. \n",
    "data.loc.__setitem__((data['Cabin'].notnull().index, ('deck')), decks) # data.loc[data['Cabin'].notnull(), 'deck'] = decks\n",
    "data"
   ]
  },
  {
   "cell_type": "code",
   "execution_count": 240,
   "id": "0850bbd7-bcc6-4d6b-a742-dc00a191bb1c",
   "metadata": {},
   "outputs": [
    {
     "data": {
      "text/html": [
       "<div>\n",
       "<style scoped>\n",
       "    .dataframe tbody tr th:only-of-type {\n",
       "        vertical-align: middle;\n",
       "    }\n",
       "\n",
       "    .dataframe tbody tr th {\n",
       "        vertical-align: top;\n",
       "    }\n",
       "\n",
       "    .dataframe thead th {\n",
       "        text-align: right;\n",
       "    }\n",
       "</style>\n",
       "<table border=\"1\" class=\"dataframe\">\n",
       "  <thead>\n",
       "    <tr style=\"text-align: right;\">\n",
       "      <th></th>\n",
       "      <th>PassengerId</th>\n",
       "      <th>Survived</th>\n",
       "      <th>Pclass</th>\n",
       "      <th>Name</th>\n",
       "      <th>Sex</th>\n",
       "      <th>Age</th>\n",
       "      <th>SibSp</th>\n",
       "      <th>Parch</th>\n",
       "      <th>Ticket</th>\n",
       "      <th>Fare</th>\n",
       "      <th>Cabin</th>\n",
       "      <th>Embarked</th>\n",
       "      <th>deck</th>\n",
       "    </tr>\n",
       "  </thead>\n",
       "  <tbody>\n",
       "    <tr>\n",
       "      <th>0</th>\n",
       "      <td>1</td>\n",
       "      <td>0.0</td>\n",
       "      <td>3</td>\n",
       "      <td>Braund, Mr. Owen Harris</td>\n",
       "      <td>male</td>\n",
       "      <td>22</td>\n",
       "      <td>1</td>\n",
       "      <td>0</td>\n",
       "      <td>A/5 21171</td>\n",
       "      <td>7.2500</td>\n",
       "      <td>NaN</td>\n",
       "      <td>S</td>\n",
       "      <td>NaN</td>\n",
       "    </tr>\n",
       "    <tr>\n",
       "      <th>1</th>\n",
       "      <td>2</td>\n",
       "      <td>1.0</td>\n",
       "      <td>1</td>\n",
       "      <td>Cumings, Mrs. John Bradley (Florence Briggs Th...</td>\n",
       "      <td>female</td>\n",
       "      <td>38</td>\n",
       "      <td>1</td>\n",
       "      <td>0</td>\n",
       "      <td>PC 17599</td>\n",
       "      <td>71.2833</td>\n",
       "      <td>C85</td>\n",
       "      <td>C</td>\n",
       "      <td>C</td>\n",
       "    </tr>\n",
       "    <tr>\n",
       "      <th>2</th>\n",
       "      <td>3</td>\n",
       "      <td>1.0</td>\n",
       "      <td>3</td>\n",
       "      <td>Heikkinen, Miss. Laina</td>\n",
       "      <td>female</td>\n",
       "      <td>26</td>\n",
       "      <td>0</td>\n",
       "      <td>0</td>\n",
       "      <td>STON/O2. 3101282</td>\n",
       "      <td>7.9250</td>\n",
       "      <td>NaN</td>\n",
       "      <td>S</td>\n",
       "      <td>NaN</td>\n",
       "    </tr>\n",
       "    <tr>\n",
       "      <th>3</th>\n",
       "      <td>4</td>\n",
       "      <td>1.0</td>\n",
       "      <td>1</td>\n",
       "      <td>Futrelle, Mrs. Jacques Heath (Lily May Peel)</td>\n",
       "      <td>female</td>\n",
       "      <td>35</td>\n",
       "      <td>1</td>\n",
       "      <td>0</td>\n",
       "      <td>113803</td>\n",
       "      <td>53.1000</td>\n",
       "      <td>C123</td>\n",
       "      <td>S</td>\n",
       "      <td>C</td>\n",
       "    </tr>\n",
       "    <tr>\n",
       "      <th>4</th>\n",
       "      <td>5</td>\n",
       "      <td>0.0</td>\n",
       "      <td>3</td>\n",
       "      <td>Allen, Mr. William Henry</td>\n",
       "      <td>male</td>\n",
       "      <td>35</td>\n",
       "      <td>0</td>\n",
       "      <td>0</td>\n",
       "      <td>373450</td>\n",
       "      <td>8.0500</td>\n",
       "      <td>NaN</td>\n",
       "      <td>S</td>\n",
       "      <td>NaN</td>\n",
       "    </tr>\n",
       "    <tr>\n",
       "      <th>...</th>\n",
       "      <td>...</td>\n",
       "      <td>...</td>\n",
       "      <td>...</td>\n",
       "      <td>...</td>\n",
       "      <td>...</td>\n",
       "      <td>...</td>\n",
       "      <td>...</td>\n",
       "      <td>...</td>\n",
       "      <td>...</td>\n",
       "      <td>...</td>\n",
       "      <td>...</td>\n",
       "      <td>...</td>\n",
       "      <td>...</td>\n",
       "    </tr>\n",
       "    <tr>\n",
       "      <th>1301</th>\n",
       "      <td>1305</td>\n",
       "      <td>NaN</td>\n",
       "      <td>3</td>\n",
       "      <td>Spector, Mr. Woolf</td>\n",
       "      <td>male</td>\n",
       "      <td>29</td>\n",
       "      <td>0</td>\n",
       "      <td>0</td>\n",
       "      <td>A.5. 3236</td>\n",
       "      <td>8.0500</td>\n",
       "      <td>NaN</td>\n",
       "      <td>S</td>\n",
       "      <td>NaN</td>\n",
       "    </tr>\n",
       "    <tr>\n",
       "      <th>1302</th>\n",
       "      <td>1306</td>\n",
       "      <td>NaN</td>\n",
       "      <td>1</td>\n",
       "      <td>Oliva y Ocana, Dona. Fermina</td>\n",
       "      <td>female</td>\n",
       "      <td>39</td>\n",
       "      <td>0</td>\n",
       "      <td>0</td>\n",
       "      <td>PC 17758</td>\n",
       "      <td>108.9000</td>\n",
       "      <td>C105</td>\n",
       "      <td>C</td>\n",
       "      <td>C</td>\n",
       "    </tr>\n",
       "    <tr>\n",
       "      <th>1303</th>\n",
       "      <td>1307</td>\n",
       "      <td>NaN</td>\n",
       "      <td>3</td>\n",
       "      <td>Saether, Mr. Simon Sivertsen</td>\n",
       "      <td>male</td>\n",
       "      <td>38</td>\n",
       "      <td>0</td>\n",
       "      <td>0</td>\n",
       "      <td>SOTON/O.Q. 3101262</td>\n",
       "      <td>7.2500</td>\n",
       "      <td>NaN</td>\n",
       "      <td>S</td>\n",
       "      <td>NaN</td>\n",
       "    </tr>\n",
       "    <tr>\n",
       "      <th>1304</th>\n",
       "      <td>1308</td>\n",
       "      <td>NaN</td>\n",
       "      <td>3</td>\n",
       "      <td>Ware, Mr. Frederick</td>\n",
       "      <td>male</td>\n",
       "      <td>29</td>\n",
       "      <td>0</td>\n",
       "      <td>0</td>\n",
       "      <td>359309</td>\n",
       "      <td>8.0500</td>\n",
       "      <td>NaN</td>\n",
       "      <td>S</td>\n",
       "      <td>NaN</td>\n",
       "    </tr>\n",
       "    <tr>\n",
       "      <th>1305</th>\n",
       "      <td>1309</td>\n",
       "      <td>NaN</td>\n",
       "      <td>3</td>\n",
       "      <td>Peter, Master. Michael J</td>\n",
       "      <td>male</td>\n",
       "      <td>29</td>\n",
       "      <td>1</td>\n",
       "      <td>1</td>\n",
       "      <td>2668</td>\n",
       "      <td>22.3583</td>\n",
       "      <td>NaN</td>\n",
       "      <td>C</td>\n",
       "      <td>NaN</td>\n",
       "    </tr>\n",
       "  </tbody>\n",
       "</table>\n",
       "<p>1306 rows × 13 columns</p>\n",
       "</div>"
      ],
      "text/plain": [
       "      PassengerId  Survived  Pclass  \\\n",
       "0               1       0.0       3   \n",
       "1               2       1.0       1   \n",
       "2               3       1.0       3   \n",
       "3               4       1.0       1   \n",
       "4               5       0.0       3   \n",
       "...           ...       ...     ...   \n",
       "1301         1305       NaN       3   \n",
       "1302         1306       NaN       1   \n",
       "1303         1307       NaN       3   \n",
       "1304         1308       NaN       3   \n",
       "1305         1309       NaN       3   \n",
       "\n",
       "                                                   Name     Sex  Age  SibSp  \\\n",
       "0                               Braund, Mr. Owen Harris    male   22      1   \n",
       "1     Cumings, Mrs. John Bradley (Florence Briggs Th...  female   38      1   \n",
       "2                                Heikkinen, Miss. Laina  female   26      0   \n",
       "3          Futrelle, Mrs. Jacques Heath (Lily May Peel)  female   35      1   \n",
       "4                              Allen, Mr. William Henry    male   35      0   \n",
       "...                                                 ...     ...  ...    ...   \n",
       "1301                                 Spector, Mr. Woolf    male   29      0   \n",
       "1302                       Oliva y Ocana, Dona. Fermina  female   39      0   \n",
       "1303                       Saether, Mr. Simon Sivertsen    male   38      0   \n",
       "1304                                Ware, Mr. Frederick    male   29      0   \n",
       "1305                           Peter, Master. Michael J    male   29      1   \n",
       "\n",
       "      Parch              Ticket      Fare Cabin Embarked deck  \n",
       "0         0           A/5 21171    7.2500   NaN        S  NaN  \n",
       "1         0            PC 17599   71.2833   C85        C    C  \n",
       "2         0    STON/O2. 3101282    7.9250   NaN        S  NaN  \n",
       "3         0              113803   53.1000  C123        S    C  \n",
       "4         0              373450    8.0500   NaN        S  NaN  \n",
       "...     ...                 ...       ...   ...      ...  ...  \n",
       "1301      0           A.5. 3236    8.0500   NaN        S  NaN  \n",
       "1302      0            PC 17758  108.9000  C105        C    C  \n",
       "1303      0  SOTON/O.Q. 3101262    7.2500   NaN        S  NaN  \n",
       "1304      0              359309    8.0500   NaN        S  NaN  \n",
       "1305      1                2668   22.3583   NaN        C  NaN  \n",
       "\n",
       "[1306 rows x 13 columns]"
      ]
     },
     "execution_count": 240,
     "metadata": {},
     "output_type": "execute_result"
    }
   ],
   "source": [
    "data.groupby('deck')['Fare'].agg('max').sort_values()\n",
    "data"
   ]
  },
  {
   "cell_type": "code",
   "execution_count": 241,
   "id": "570cfdf9-773b-4eb3-86ee-3de45cd50476",
   "metadata": {},
   "outputs": [
    {
     "data": {
      "text/plain": [
       "0       False\n",
       "1        True\n",
       "2       False\n",
       "3        True\n",
       "4       False\n",
       "        ...  \n",
       "1301    False\n",
       "1302     True\n",
       "1303    False\n",
       "1304    False\n",
       "1305    False\n",
       "Name: deck, Length: 1306, dtype: bool"
      ]
     },
     "execution_count": 241,
     "metadata": {},
     "output_type": "execute_result"
    }
   ],
   "source": [
    "data['deck'].isin(['C', 'E', 'G', 'D', 'A', 'B', 'F', 'T'])"
   ]
  },
  {
   "cell_type": "code",
   "execution_count": 242,
   "id": "5cdc8011-ce34-47c9-a370-379d97d480de",
   "metadata": {},
   "outputs": [
    {
     "data": {
      "text/plain": [
       "array([nan, 'C', 'E', 'G', 'D', 'A', 'B', 'F', 'T'], dtype=object)"
      ]
     },
     "execution_count": 242,
     "metadata": {},
     "output_type": "execute_result"
    }
   ],
   "source": [
    "data['deck'].unique()"
   ]
  },
  {
   "cell_type": "code",
   "execution_count": 243,
   "id": "40a94719-256f-4af0-8dc7-501952be0f61",
   "metadata": {},
   "outputs": [],
   "source": [
    "before_conditions = data['deck'].copy()"
   ]
  },
  {
   "cell_type": "code",
   "execution_count": 244,
   "id": "2067891f-84b2-4013-8d96-4ba913a85686",
   "metadata": {},
   "outputs": [
    {
     "name": "stdout",
     "output_type": "stream",
     "text": [
      "Number of categories of 'G' in the 'deck' column: 2\n"
     ]
    }
   ],
   "source": [
    "g_categories = data[data['deck'] == 'G']['Fare'].nunique()\n",
    "print(f\"Number of categories of 'G' in the 'deck' column: {g_categories}\")\n"
   ]
  },
  {
   "cell_type": "code",
   "execution_count": 245,
   "id": "15d4daf7-ee45-43fa-a145-585039ec99b7",
   "metadata": {},
   "outputs": [
    {
     "name": "stdout",
     "output_type": "stream",
     "text": [
      "Number of categories of 'E' in the 'deck' column: 21\n"
     ]
    }
   ],
   "source": [
    "ea_categories = data[data['deck'] == 'E']['Fare'].nunique()\n",
    "print(f\"Number of categories of 'E' in the 'deck' column: {ea_categories}\")"
   ]
  },
  {
   "cell_type": "code",
   "execution_count": 246,
   "id": "c8c6d5d1-fd9b-4fa7-8391-827dd621ef7a",
   "metadata": {},
   "outputs": [
    {
     "name": "stdout",
     "output_type": "stream",
     "text": [
      "Number of categories of 'C' in the 'deck' column: 40\n"
     ]
    }
   ],
   "source": [
    "ca_categories = data[data['deck'] == 'C']['Fare'].nunique()\n",
    "print(f\"Number of categories of 'C' in the 'deck' column: {ca_categories}\")"
   ]
  },
  {
   "cell_type": "code",
   "execution_count": 247,
   "id": "e4e2be3a-a9e2-46f9-ba93-62405a459641",
   "metadata": {},
   "outputs": [
    {
     "name": "stdout",
     "output_type": "stream",
     "text": [
      "Number of categories of 'D' in the 'deck' column: 24\n"
     ]
    }
   ],
   "source": [
    "da_categories = data[data['deck'] == 'D']['Fare'].nunique()\n",
    "print(f\"Number of categories of 'D' in the 'deck' column: {da_categories}\")"
   ]
  },
  {
   "cell_type": "code",
   "execution_count": 248,
   "id": "0f0becd9-6d72-4f22-bc68-d2bae3b134ed",
   "metadata": {},
   "outputs": [
    {
     "name": "stdout",
     "output_type": "stream",
     "text": [
      "Number of categories of 'A' in the 'deck' column: 18\n"
     ]
    }
   ],
   "source": [
    "aa_categories = data[data['deck'] == 'A']['Fare'].nunique()\n",
    "print(f\"Number of categories of 'A' in the 'deck' column: {aa_categories}\")"
   ]
  },
  {
   "cell_type": "code",
   "execution_count": 249,
   "id": "34683efd-d68f-4ac9-9fe9-00ada545619b",
   "metadata": {},
   "outputs": [
    {
     "name": "stdout",
     "output_type": "stream",
     "text": [
      "Number of categories of 'B' in the 'deck' column: 28\n"
     ]
    }
   ],
   "source": [
    "ba_categories = data[data['deck'] == 'B']['Fare'].nunique()\n",
    "print(f\"Number of categories of 'B' in the 'deck' column: {ba_categories}\")"
   ]
  },
  {
   "cell_type": "code",
   "execution_count": 250,
   "id": "b9bb202b-a5f7-4f96-a008-d5e1c666133f",
   "metadata": {},
   "outputs": [
    {
     "name": "stdout",
     "output_type": "stream",
     "text": [
      "Number of categories of 'T' in the 'deck' column: 1\n"
     ]
    }
   ],
   "source": [
    "ta_categories = data[data['deck'] == 'T']['Fare'].nunique()\n",
    "print(f\"Number of categories of 'T' in the 'deck' column: {ta_categories}\")"
   ]
  },
  {
   "cell_type": "code",
   "execution_count": 251,
   "id": "63b6f04e-2bc4-4957-a02e-f0531b36d888",
   "metadata": {},
   "outputs": [],
   "source": [
    "deck_categories = ['G', 'T', 'F', 'A', 'D', 'E', 'C', 'B']\n",
    "\n",
    "conditions = [(data[data['deck'] == 'G']['Fare'].max() >= data['Fare']),\n",
    "              (data[data['deck'] == 'G']['Fare'].max() < data['Fare']) & (data[data['deck'] == 'T']['Fare'].max() >= data['Fare']),\n",
    "              (data[data['deck'] == 'T']['Fare'].max() < data['Fare']) & (data[data['deck'] == 'F']['Fare'].max() >= data['Fare']),\n",
    "              (data[data['deck'] == 'F']['Fare'].max() < data['Fare']) & (data[data['deck'] == 'A']['Fare'].max() >= data['Fare']),\n",
    "              (data[data['deck'] == 'A']['Fare'].max() < data['Fare']) & (data[data['deck'] == 'D']['Fare'].max() >= data['Fare']),\n",
    "              (data[data['deck'] == 'D']['Fare'].max() < data['Fare']) & (data[data['deck'] == 'E']['Fare'].max() >= data['Fare']),\n",
    "              (data[data['deck'] == 'E']['Fare'].max() < data['Fare']) & (data[data['deck'] == 'C']['Fare'].max() >= data['Fare']),\n",
    "              (data[data['deck'] == 'C']['Fare'].max() < data['Fare'])]\n",
    "\n",
    "data['deck'] = np.select(conditions, deck_categories)"
   ]
  },
  {
   "cell_type": "code",
   "execution_count": 252,
   "id": "ad674f6a-1bbd-4f8c-bdf7-b6507df32ad0",
   "metadata": {},
   "outputs": [
    {
     "name": "stdout",
     "output_type": "stream",
     "text": [
      "Number of categories of 'G' in the 'deck' column: 130\n"
     ]
    }
   ],
   "source": [
    "gb_categories = data[data['deck'] == 'G']['Fare'].nunique()\n",
    "print(f\"Number of categories of 'G' in the 'deck' column: {gb_categories}\")\n"
   ]
  },
  {
   "cell_type": "code",
   "execution_count": 253,
   "id": "d85a7348-a931-4059-b8f1-9ce418cc8a2d",
   "metadata": {},
   "outputs": [
    {
     "name": "stdout",
     "output_type": "stream",
     "text": [
      "Number of categories of 'E' in the 'deck' column: 3\n"
     ]
    }
   ],
   "source": [
    "eb_categories = data[data['deck'] == 'E']['Fare'].nunique()\n",
    "print(f\"Number of categories of 'E' in the 'deck' column: {eb_categories}\")"
   ]
  },
  {
   "cell_type": "code",
   "execution_count": 254,
   "id": "7e20b0aa-e209-495b-84bd-5e9ae40eff8a",
   "metadata": {},
   "outputs": [
    {
     "name": "stdout",
     "output_type": "stream",
     "text": [
      "Number of categories of 'C' in the 'deck' column: 13\n"
     ]
    }
   ],
   "source": [
    "cb_categories = data[data['deck'] == 'C']['Fare'].nunique()\n",
    "print(f\"Number of categories of 'C' in the 'deck' column: {cb_categories}\")"
   ]
  },
  {
   "cell_type": "code",
   "execution_count": 255,
   "id": "6f8ad1fb-ae80-4f9d-b9ce-5e4ab0c5df2a",
   "metadata": {},
   "outputs": [
    {
     "name": "stdout",
     "output_type": "stream",
     "text": [
      "Number of categories of 'D' in the 'deck' column: 13\n"
     ]
    }
   ],
   "source": [
    "db_categories = data[data['deck'] == 'D']['Fare'].nunique()\n",
    "print(f\"Number of categories of 'D' in the 'deck' column: {db_categories}\")"
   ]
  },
  {
   "cell_type": "code",
   "execution_count": 256,
   "id": "c3558ea6-24a9-47f7-b817-18280b2442a2",
   "metadata": {},
   "outputs": [
    {
     "name": "stdout",
     "output_type": "stream",
     "text": [
      "Number of categories of 'A' in the 'deck' column: 51\n"
     ]
    }
   ],
   "source": [
    "ab_categories = data[data['deck'] == 'A']['Fare'].nunique()\n",
    "print(f\"Number of categories of 'A' in the 'deck' column: {ab_categories}\")"
   ]
  },
  {
   "cell_type": "code",
   "execution_count": 257,
   "id": "e4681ab0-8c4c-4162-882c-22acda39bcf9",
   "metadata": {},
   "outputs": [
    {
     "name": "stdout",
     "output_type": "stream",
     "text": [
      "Number of categories of 'B' in the 'deck' column: 1\n"
     ]
    }
   ],
   "source": [
    "bb_categories = data[data['deck'] == 'B']['Fare'].nunique()\n",
    "print(f\"Number of categories of 'B' in the 'deck' column: {bb_categories}\")"
   ]
  },
  {
   "cell_type": "code",
   "execution_count": 258,
   "id": "3c59205f-71b9-4053-9055-f405cd65d6a6",
   "metadata": {},
   "outputs": [
    {
     "name": "stdout",
     "output_type": "stream",
     "text": [
      "Number of categories of 'T' in the 'deck' column: 65\n"
     ]
    }
   ],
   "source": [
    "gt_categories = data[data['deck'] == 'T']['Fare'].nunique()\n",
    "print(f\"Number of categories of 'T' in the 'deck' column: {gt_categories}\")"
   ]
  },
  {
   "cell_type": "code",
   "execution_count": 259,
   "id": "c268e14f-4802-444c-a1ce-44313bdc83fd",
   "metadata": {},
   "outputs": [
    {
     "data": {
      "text/plain": [
       "PassengerId       0\n",
       "Survived        417\n",
       "Pclass            0\n",
       "Name              0\n",
       "Sex               0\n",
       "Age               0\n",
       "SibSp             0\n",
       "Parch             0\n",
       "Ticket            0\n",
       "Fare              0\n",
       "Cabin          1013\n",
       "Embarked          0\n",
       "deck              0\n",
       "dtype: int64"
      ]
     },
     "execution_count": 259,
     "metadata": {},
     "output_type": "execute_result"
    }
   ],
   "source": [
    "data.isna().sum()"
   ]
  },
  {
   "cell_type": "markdown",
   "id": "1395af7d-c092-463d-b186-f2addaf86873",
   "metadata": {},
   "source": [
    "### Data Visualization"
   ]
  },
  {
   "cell_type": "code",
   "execution_count": 260,
   "id": "5e586026-e9df-4470-944a-487ea67a87bd",
   "metadata": {},
   "outputs": [
    {
     "data": {
      "text/html": [
       "<div>\n",
       "<style scoped>\n",
       "    .dataframe tbody tr th:only-of-type {\n",
       "        vertical-align: middle;\n",
       "    }\n",
       "\n",
       "    .dataframe tbody tr th {\n",
       "        vertical-align: top;\n",
       "    }\n",
       "\n",
       "    .dataframe thead th {\n",
       "        text-align: right;\n",
       "    }\n",
       "</style>\n",
       "<table border=\"1\" class=\"dataframe\">\n",
       "  <thead>\n",
       "    <tr style=\"text-align: right;\">\n",
       "      <th></th>\n",
       "      <th>PassengerId</th>\n",
       "      <th>Survived</th>\n",
       "      <th>Pclass</th>\n",
       "      <th>Name</th>\n",
       "      <th>Sex</th>\n",
       "      <th>Age</th>\n",
       "      <th>SibSp</th>\n",
       "      <th>Parch</th>\n",
       "      <th>Ticket</th>\n",
       "      <th>Fare</th>\n",
       "      <th>Cabin</th>\n",
       "      <th>Embarked</th>\n",
       "      <th>deck</th>\n",
       "    </tr>\n",
       "  </thead>\n",
       "  <tbody>\n",
       "    <tr>\n",
       "      <th>0</th>\n",
       "      <td>1</td>\n",
       "      <td>0.0</td>\n",
       "      <td>3</td>\n",
       "      <td>Braund, Mr. Owen Harris</td>\n",
       "      <td>male</td>\n",
       "      <td>22</td>\n",
       "      <td>1</td>\n",
       "      <td>0</td>\n",
       "      <td>A/5 21171</td>\n",
       "      <td>7.2500</td>\n",
       "      <td>NaN</td>\n",
       "      <td>S</td>\n",
       "      <td>G</td>\n",
       "    </tr>\n",
       "    <tr>\n",
       "      <th>1</th>\n",
       "      <td>2</td>\n",
       "      <td>1.0</td>\n",
       "      <td>1</td>\n",
       "      <td>Cumings, Mrs. John Bradley (Florence Briggs Th...</td>\n",
       "      <td>female</td>\n",
       "      <td>38</td>\n",
       "      <td>1</td>\n",
       "      <td>0</td>\n",
       "      <td>PC 17599</td>\n",
       "      <td>71.2833</td>\n",
       "      <td>C85</td>\n",
       "      <td>C</td>\n",
       "      <td>A</td>\n",
       "    </tr>\n",
       "    <tr>\n",
       "      <th>2</th>\n",
       "      <td>3</td>\n",
       "      <td>1.0</td>\n",
       "      <td>3</td>\n",
       "      <td>Heikkinen, Miss. Laina</td>\n",
       "      <td>female</td>\n",
       "      <td>26</td>\n",
       "      <td>0</td>\n",
       "      <td>0</td>\n",
       "      <td>STON/O2. 3101282</td>\n",
       "      <td>7.9250</td>\n",
       "      <td>NaN</td>\n",
       "      <td>S</td>\n",
       "      <td>G</td>\n",
       "    </tr>\n",
       "    <tr>\n",
       "      <th>3</th>\n",
       "      <td>4</td>\n",
       "      <td>1.0</td>\n",
       "      <td>1</td>\n",
       "      <td>Futrelle, Mrs. Jacques Heath (Lily May Peel)</td>\n",
       "      <td>female</td>\n",
       "      <td>35</td>\n",
       "      <td>1</td>\n",
       "      <td>0</td>\n",
       "      <td>113803</td>\n",
       "      <td>53.1000</td>\n",
       "      <td>C123</td>\n",
       "      <td>S</td>\n",
       "      <td>A</td>\n",
       "    </tr>\n",
       "    <tr>\n",
       "      <th>4</th>\n",
       "      <td>5</td>\n",
       "      <td>0.0</td>\n",
       "      <td>3</td>\n",
       "      <td>Allen, Mr. William Henry</td>\n",
       "      <td>male</td>\n",
       "      <td>35</td>\n",
       "      <td>0</td>\n",
       "      <td>0</td>\n",
       "      <td>373450</td>\n",
       "      <td>8.0500</td>\n",
       "      <td>NaN</td>\n",
       "      <td>S</td>\n",
       "      <td>G</td>\n",
       "    </tr>\n",
       "    <tr>\n",
       "      <th>...</th>\n",
       "      <td>...</td>\n",
       "      <td>...</td>\n",
       "      <td>...</td>\n",
       "      <td>...</td>\n",
       "      <td>...</td>\n",
       "      <td>...</td>\n",
       "      <td>...</td>\n",
       "      <td>...</td>\n",
       "      <td>...</td>\n",
       "      <td>...</td>\n",
       "      <td>...</td>\n",
       "      <td>...</td>\n",
       "      <td>...</td>\n",
       "    </tr>\n",
       "    <tr>\n",
       "      <th>1301</th>\n",
       "      <td>1305</td>\n",
       "      <td>Unknown</td>\n",
       "      <td>3</td>\n",
       "      <td>Spector, Mr. Woolf</td>\n",
       "      <td>male</td>\n",
       "      <td>29</td>\n",
       "      <td>0</td>\n",
       "      <td>0</td>\n",
       "      <td>A.5. 3236</td>\n",
       "      <td>8.0500</td>\n",
       "      <td>NaN</td>\n",
       "      <td>S</td>\n",
       "      <td>G</td>\n",
       "    </tr>\n",
       "    <tr>\n",
       "      <th>1302</th>\n",
       "      <td>1306</td>\n",
       "      <td>Unknown</td>\n",
       "      <td>1</td>\n",
       "      <td>Oliva y Ocana, Dona. Fermina</td>\n",
       "      <td>female</td>\n",
       "      <td>39</td>\n",
       "      <td>0</td>\n",
       "      <td>0</td>\n",
       "      <td>PC 17758</td>\n",
       "      <td>108.9000</td>\n",
       "      <td>C105</td>\n",
       "      <td>C</td>\n",
       "      <td>D</td>\n",
       "    </tr>\n",
       "    <tr>\n",
       "      <th>1303</th>\n",
       "      <td>1307</td>\n",
       "      <td>Unknown</td>\n",
       "      <td>3</td>\n",
       "      <td>Saether, Mr. Simon Sivertsen</td>\n",
       "      <td>male</td>\n",
       "      <td>38</td>\n",
       "      <td>0</td>\n",
       "      <td>0</td>\n",
       "      <td>SOTON/O.Q. 3101262</td>\n",
       "      <td>7.2500</td>\n",
       "      <td>NaN</td>\n",
       "      <td>S</td>\n",
       "      <td>G</td>\n",
       "    </tr>\n",
       "    <tr>\n",
       "      <th>1304</th>\n",
       "      <td>1308</td>\n",
       "      <td>Unknown</td>\n",
       "      <td>3</td>\n",
       "      <td>Ware, Mr. Frederick</td>\n",
       "      <td>male</td>\n",
       "      <td>29</td>\n",
       "      <td>0</td>\n",
       "      <td>0</td>\n",
       "      <td>359309</td>\n",
       "      <td>8.0500</td>\n",
       "      <td>NaN</td>\n",
       "      <td>S</td>\n",
       "      <td>G</td>\n",
       "    </tr>\n",
       "    <tr>\n",
       "      <th>1305</th>\n",
       "      <td>1309</td>\n",
       "      <td>Unknown</td>\n",
       "      <td>3</td>\n",
       "      <td>Peter, Master. Michael J</td>\n",
       "      <td>male</td>\n",
       "      <td>29</td>\n",
       "      <td>1</td>\n",
       "      <td>1</td>\n",
       "      <td>2668</td>\n",
       "      <td>22.3583</td>\n",
       "      <td>NaN</td>\n",
       "      <td>C</td>\n",
       "      <td>T</td>\n",
       "    </tr>\n",
       "  </tbody>\n",
       "</table>\n",
       "<p>1306 rows × 13 columns</p>\n",
       "</div>"
      ],
      "text/plain": [
       "      PassengerId Survived  Pclass  \\\n",
       "0               1      0.0       3   \n",
       "1               2      1.0       1   \n",
       "2               3      1.0       3   \n",
       "3               4      1.0       1   \n",
       "4               5      0.0       3   \n",
       "...           ...      ...     ...   \n",
       "1301         1305  Unknown       3   \n",
       "1302         1306  Unknown       1   \n",
       "1303         1307  Unknown       3   \n",
       "1304         1308  Unknown       3   \n",
       "1305         1309  Unknown       3   \n",
       "\n",
       "                                                   Name     Sex  Age  SibSp  \\\n",
       "0                               Braund, Mr. Owen Harris    male   22      1   \n",
       "1     Cumings, Mrs. John Bradley (Florence Briggs Th...  female   38      1   \n",
       "2                                Heikkinen, Miss. Laina  female   26      0   \n",
       "3          Futrelle, Mrs. Jacques Heath (Lily May Peel)  female   35      1   \n",
       "4                              Allen, Mr. William Henry    male   35      0   \n",
       "...                                                 ...     ...  ...    ...   \n",
       "1301                                 Spector, Mr. Woolf    male   29      0   \n",
       "1302                       Oliva y Ocana, Dona. Fermina  female   39      0   \n",
       "1303                       Saether, Mr. Simon Sivertsen    male   38      0   \n",
       "1304                                Ware, Mr. Frederick    male   29      0   \n",
       "1305                           Peter, Master. Michael J    male   29      1   \n",
       "\n",
       "      Parch              Ticket      Fare Cabin Embarked deck  \n",
       "0         0           A/5 21171    7.2500   NaN        S    G  \n",
       "1         0            PC 17599   71.2833   C85        C    A  \n",
       "2         0    STON/O2. 3101282    7.9250   NaN        S    G  \n",
       "3         0              113803   53.1000  C123        S    A  \n",
       "4         0              373450    8.0500   NaN        S    G  \n",
       "...     ...                 ...       ...   ...      ...  ...  \n",
       "1301      0           A.5. 3236    8.0500   NaN        S    G  \n",
       "1302      0            PC 17758  108.9000  C105        C    D  \n",
       "1303      0  SOTON/O.Q. 3101262    7.2500   NaN        S    G  \n",
       "1304      0              359309    8.0500   NaN        S    G  \n",
       "1305      1                2668   22.3583   NaN        C    T  \n",
       "\n",
       "[1306 rows x 13 columns]"
      ]
     },
     "execution_count": 260,
     "metadata": {},
     "output_type": "execute_result"
    }
   ],
   "source": [
    "for_vis = data.copy()\n",
    "for_vis['Survived'] = for_vis['Survived'].fillna('Unknown')\n",
    "for_vis"
   ]
  },
  {
   "cell_type": "markdown",
   "id": "a0a64d0f-0071-43d0-978a-09af2ae43377",
   "metadata": {},
   "source": [
    "#####  Explore Age Distribution"
   ]
  },
  {
   "cell_type": "code",
   "execution_count": 261,
   "id": "caab5552-7219-422b-b145-c5079313f2ff",
   "metadata": {},
   "outputs": [
    {
     "name": "stderr",
     "output_type": "stream",
     "text": [
      "C:\\Users\\ganes\\anaconda3\\Lib\\site-packages\\seaborn\\_oldcore.py:1119: FutureWarning: use_inf_as_na option is deprecated and will be removed in a future version. Convert inf values to NaN before operating instead.\n",
      "  with pd.option_context('mode.use_inf_as_na', True):\n"
     ]
    },
    {
     "data": {
      "image/png": "[encoded data removed]",
      "text/plain": [
       "<Figure size 640x480 with 1 Axes>"
      ]
     },
     "metadata": {},
     "output_type": "display_data"
    }
   ],
   "source": [
    "sns.histplot(x='Age', data=for_vis, bins=30, kde=True)\n",
    "plt.title('Age Distribution')\n",
    "plt.show()"
   ]
  },
  {
   "cell_type": "markdown",
   "id": "99629318-11c4-43cc-b16d-b192e5509d66",
   "metadata": {},
   "source": [
    "# Analyze Survival by Class"
   ]
  },
  {
   "cell_type": "code",
   "execution_count": 262,
   "id": "d5269b81-c115-40da-b2c0-c181ffc3b71b",
   "metadata": {},
   "outputs": [
    {
     "data": {
      "image/png": "[encoded data removed]",
      "text/plain": [
       "<Figure size 640x480 with 1 Axes>"
      ]
     },
     "metadata": {},
     "output_type": "display_data"
    }
   ],
   "source": [
    "sns.countplot(x='Pclass', hue='Survived', data=for_vis)\n",
    "plt.title('Survival by Class')\n",
    "plt.show()"
   ]
  },
  {
   "cell_type": "markdown",
   "id": "ace61be5-dbfe-47fe-b9c1-18751e4356d9",
   "metadata": {},
   "source": [
    "# Pairplot for selected variables"
   ]
  },
  {
   "cell_type": "code",
   "execution_count": 263,
   "id": "bd4414fd-e98c-4d9d-a1fd-9862d670abcf",
   "metadata": {},
   "outputs": [
    {
     "name": "stderr",
     "output_type": "stream",
     "text": [
      "C:\\Users\\ganes\\anaconda3\\Lib\\site-packages\\seaborn\\_oldcore.py:1119: FutureWarning: use_inf_as_na option is deprecated and will be removed in a future version. Convert inf values to NaN before operating instead.\n",
      "  with pd.option_context('mode.use_inf_as_na', True):\n",
      "C:\\Users\\ganes\\anaconda3\\Lib\\site-packages\\seaborn\\_oldcore.py:1119: FutureWarning: use_inf_as_na option is deprecated and will be removed in a future version. Convert inf values to NaN before operating instead.\n",
      "  with pd.option_context('mode.use_inf_as_na', True):\n",
      "C:\\Users\\ganes\\anaconda3\\Lib\\site-packages\\seaborn\\_oldcore.py:1119: FutureWarning: use_inf_as_na option is deprecated and will be removed in a future version. Convert inf values to NaN before operating instead.\n",
      "  with pd.option_context('mode.use_inf_as_na', True):\n"
     ]
    },
    {
     "data": {
      "image/png": "[encoded data removed]",
      "text/plain": [
       "<Figure size 864.375x750 with 12 Axes>"
      ]
     },
     "metadata": {},
     "output_type": "display_data"
    }
   ],
   "source": [
    "sns.pairplot(for_vis[['Age', 'Fare', 'Pclass', 'Survived']], hue='Survived', diag_kind='kde')\n",
    "plt.show()"
   ]
  },
  {
   "cell_type": "markdown",
   "id": "463ed7a0-2754-4b15-836e-e61218326787",
   "metadata": {},
   "source": [
    "##### What is the percentage of Survived?"
   ]
  },
  {
   "cell_type": "code",
   "execution_count": 264,
   "id": "b8e29d2f-6615-4812-be24-c7833f55554d",
   "metadata": {},
   "outputs": [
    {
     "data": {
      "image/png": "[encoded data removed]",
      "text/plain": [
       "<Figure size 1000x400 with 2 Axes>"
      ]
     },
     "metadata": {},
     "output_type": "display_data"
    }
   ],
   "source": [
    "f, ax = plt.subplots(1, 2, figsize=(10, 4))\n",
    "explode = (0, 0.1, 0)  \n",
    "\n",
    "# Pie chart\n",
    "ax[0].pie(for_vis['Survived'].value_counts(), labels=['Died', 'Survived', 'Unknown'], explode=explode, autopct='%1.1f%%',\n",
    "       shadow=True, startangle=90)\n",
    "\n",
    "ax[0].set_title('Survived')\n",
    "\n",
    "# Countplot\n",
    "sns.countplot(data=for_vis, x='Survived', ax=ax[1])\n",
    "\n",
    "plt.show()"
   ]
  },
  {
   "cell_type": "markdown",
   "id": "bf79a006-5c1f-4d60-a38e-95ef7f7f5652",
   "metadata": {},
   "source": [
    "##### Comparing the number of Survived people by gender to the total number of people"
   ]
  },
  {
   "cell_type": "code",
   "execution_count": 265,
   "id": "3d0cdf59-72ba-4340-b367-207517b59dab",
   "metadata": {},
   "outputs": [
    {
     "data": {
      "image/png": "[encoded data removed]",
      "text/plain": [
       "<Figure size 640x480 with 1 Axes>"
      ]
     },
     "metadata": {},
     "output_type": "display_data"
    }
   ],
   "source": [
    "df_plot = data.groupby(['Sex', 'Survived']).size().reset_index().pivot(columns='Sex', index='Survived', values=0)\n",
    "\n",
    "df_plot.plot(kind='bar', stacked=True)\n",
    "plt.show()"
   ]
  },
  {
   "cell_type": "markdown",
   "id": "424ac8d7-ca03-44af-9982-9e9b8749c549",
   "metadata": {},
   "source": [
    "##### Does the fare depend on death?"
   ]
  },
  {
   "cell_type": "code",
   "execution_count": 266,
   "id": "91485d93-e610-46b5-9531-f6048a5c3875",
   "metadata": {},
   "outputs": [
    {
     "data": {
      "image/png": "[encoded data removed]",
      "text/plain": [
       "<Figure size 640x480 with 1 Axes>"
      ]
     },
     "metadata": {},
     "output_type": "display_data"
    }
   ],
   "source": [
    "# violinplot\n",
    "sns.violinplot(data=data, x=\"Survived\", y=\"Fare\", hue=\"Sex\", split=True)\n",
    "plt.show()"
   ]
  },
  {
   "cell_type": "code",
   "execution_count": 267,
   "id": "525877bb-0414-4035-be3d-ffc679d4935b",
   "metadata": {},
   "outputs": [
    {
     "data": {
      "image/png": "[encoded data removed]",
      "text/plain": [
       "<Figure size 640x480 with 1 Axes>"
      ]
     },
     "metadata": {},
     "output_type": "display_data"
    }
   ],
   "source": [
    "# violinplot\n",
    "sns.violinplot(data=data, x=\"Survived\", y=\"Fare\", hue=\"Sex\", split=True, inner=\"quart\")\n",
    "plt.show()"
   ]
  },
  {
   "cell_type": "code",
   "execution_count": 268,
   "id": "4267f7c5-f8fd-4461-9e32-d3ee71c84172",
   "metadata": {},
   "outputs": [
    {
     "data": {
      "text/plain": [
       "dtype('float64')"
      ]
     },
     "execution_count": 268,
     "metadata": {},
     "output_type": "execute_result"
    }
   ],
   "source": [
    "for_vis['Fare'].dtype"
   ]
  },
  {
   "cell_type": "code",
   "execution_count": 269,
   "id": "d6f6013b-2b08-4432-829d-0cbd24764acf",
   "metadata": {},
   "outputs": [
    {
     "data": {
      "text/plain": [
       "dtype('O')"
      ]
     },
     "execution_count": 269,
     "metadata": {},
     "output_type": "execute_result"
    }
   ],
   "source": [
    "for_vis['Survived'].dtype"
   ]
  },
  {
   "cell_type": "code",
   "execution_count": 271,
   "id": "263f4b32-747a-43a1-96c9-00e81c3634d6",
   "metadata": {},
   "outputs": [
    {
     "data": {
      "text/plain": [
       "27      263.0000\n",
       "87      263.0000\n",
       "117     247.5208\n",
       "298     247.5208\n",
       "310     262.3750\n",
       "340     263.0000\n",
       "376     211.5000\n",
       "379     227.5250\n",
       "437     263.0000\n",
       "526     221.7792\n",
       "556     227.5250\n",
       "688     211.3375\n",
       "699     227.5250\n",
       "715     227.5250\n",
       "729     211.3375\n",
       "741     262.3750\n",
       "778     211.3375\n",
       "913     262.3750\n",
       "942     263.0000\n",
       "948     262.3750\n",
       "953     262.3750\n",
       "958     263.0000\n",
       "963     211.5000\n",
       "964     211.5000\n",
       "970     221.7792\n",
       "1003    221.7792\n",
       "1031    262.3750\n",
       "1044    221.7792\n",
       "1072    247.5208\n",
       "1090    227.5250\n",
       "1106    211.5000\n",
       "1212    211.3375\n",
       "1263    262.3750\n",
       "1295    211.5000\n",
       "Name: Fare, dtype: float64"
      ]
     },
     "execution_count": 271,
     "metadata": {},
     "output_type": "execute_result"
    }
   ],
   "source": [
    "data['Fare'][(200<=data['Fare'])&(300>data['Fare'])]"
   ]
  },
  {
   "cell_type": "markdown",
   "id": "83dd2d1a-5b4e-44d0-ac49-2ab116722a4d",
   "metadata": {},
   "source": [
    "#### count for survived amount by sex and fare"
   ]
  },
  {
   "cell_type": "code",
   "execution_count": 284,
   "id": "348e1092-2a73-4f6e-b12d-7c153d460ad0",
   "metadata": {},
   "outputs": [
    {
     "name": "stdout",
     "output_type": "stream",
     "text": [
      "     Survived     Sex      Fare  Count\n",
      "0         0.0  female    6.7500      1\n",
      "1         0.0  female    7.5500      1\n",
      "2         0.0  female    7.6292      1\n",
      "3         0.0  female    7.7500      5\n",
      "4         0.0  female    7.7750      2\n",
      "..        ...     ...       ...    ...\n",
      "396       1.0    male  110.8833      1\n",
      "397       1.0    male  120.0000      2\n",
      "398       1.0    male  133.6500      1\n",
      "399       1.0    male  151.5500      1\n",
      "400       1.0    male  512.3292      2\n",
      "\n",
      "[401 rows x 4 columns]\n"
     ]
    }
   ],
   "source": [
    "count_survived_by_sex_fare = data.groupby(['Survived', 'Sex', 'Fare']).size().reset_index(name='Count')\n",
    "print(count_survived_by_sex_fare)"
   ]
  },
  {
   "cell_type": "code",
   "execution_count": 281,
   "id": "df483079-5f4f-4238-b558-a5e1d2d32beb",
   "metadata": {},
   "outputs": [
    {
     "name": "stdout",
     "output_type": "stream",
     "text": [
      "     Survived     Sex      Fare  0\n",
      "0         0.0  female    6.7500  1\n",
      "1         0.0  female    7.5500  1\n",
      "2         0.0  female    7.6292  1\n",
      "3         0.0  female    7.7500  5\n",
      "4         0.0  female    7.7750  2\n",
      "..        ...     ...       ... ..\n",
      "396       1.0    male  110.8833  1\n",
      "397       1.0    male  120.0000  2\n",
      "398       1.0    male  133.6500  1\n",
      "399       1.0    male  151.5500  1\n",
      "400       1.0    male  512.3292  2\n",
      "\n",
      "[401 rows x 4 columns]\n"
     ]
    }
   ],
   "source": [
    "count_survived_by_sex_fare = data.groupby(['Survived', 'Sex', 'Fare']).size().reset_index()\n",
    "print(count_survived_by_sex_fare)"
   ]
  },
  {
   "cell_type": "code",
   "execution_count": 279,
   "id": "a8c090d0-97ea-4b47-950a-db4192e488cd",
   "metadata": {},
   "outputs": [
    {
     "data": {
      "text/plain": [
       "Sex     Survived\n",
       "female  1.0         11\n",
       "male    0.0          6\n",
       "Name: count, dtype: int64"
      ]
     },
     "execution_count": 279,
     "metadata": {},
     "output_type": "execute_result"
    }
   ],
   "source": [
    "# count for survived amount by sex and fare\n",
    "data[(200<=data['Fare'])&(300>data['Fare'])].groupby(['Sex'])['Survived'].value_counts()"
   ]
  },
  {
   "cell_type": "code",
   "execution_count": 285,
   "id": "c9d39318-d5a5-4ef0-b762-228996161d62",
   "metadata": {},
   "outputs": [
    {
     "data": {
      "text/html": [
       "<div>\n",
       "<style scoped>\n",
       "    .dataframe tbody tr th:only-of-type {\n",
       "        vertical-align: middle;\n",
       "    }\n",
       "\n",
       "    .dataframe tbody tr th {\n",
       "        vertical-align: top;\n",
       "    }\n",
       "\n",
       "    .dataframe thead th {\n",
       "        text-align: right;\n",
       "    }\n",
       "</style>\n",
       "<table border=\"1\" class=\"dataframe\">\n",
       "  <thead>\n",
       "    <tr style=\"text-align: right;\">\n",
       "      <th></th>\n",
       "      <th>death_amount</th>\n",
       "      <th>survivor_amount</th>\n",
       "      <th>total</th>\n",
       "      <th>death_pct</th>\n",
       "      <th>survivor_pct</th>\n",
       "    </tr>\n",
       "    <tr>\n",
       "      <th>fare_interval</th>\n",
       "      <th></th>\n",
       "      <th></th>\n",
       "      <th></th>\n",
       "      <th></th>\n",
       "      <th></th>\n",
       "    </tr>\n",
       "  </thead>\n",
       "  <tbody>\n",
       "    <tr>\n",
       "      <th>&lt;100</th>\n",
       "      <td>301</td>\n",
       "      <td>535</td>\n",
       "      <td>836</td>\n",
       "      <td>36.0</td>\n",
       "      <td>64.0</td>\n",
       "    </tr>\n",
       "    <tr>\n",
       "      <th>100-200</th>\n",
       "      <td>25</td>\n",
       "      <td>8</td>\n",
       "      <td>33</td>\n",
       "      <td>75.8</td>\n",
       "      <td>24.2</td>\n",
       "    </tr>\n",
       "    <tr>\n",
       "      <th>200-300</th>\n",
       "      <td>11</td>\n",
       "      <td>6</td>\n",
       "      <td>17</td>\n",
       "      <td>64.7</td>\n",
       "      <td>35.3</td>\n",
       "    </tr>\n",
       "    <tr>\n",
       "      <th>300&lt;</th>\n",
       "      <td>3</td>\n",
       "      <td>0</td>\n",
       "      <td>3</td>\n",
       "      <td>100.0</td>\n",
       "      <td>0.0</td>\n",
       "    </tr>\n",
       "  </tbody>\n",
       "</table>\n",
       "</div>"
      ],
      "text/plain": [
       "               death_amount  survivor_amount  total  death_pct  survivor_pct\n",
       "fare_interval                                                               \n",
       "<100                    301              535    836       36.0          64.0\n",
       "100-200                  25                8     33       75.8          24.2\n",
       "200-300                  11                6     17       64.7          35.3\n",
       "300<                      3                0      3      100.0           0.0"
      ]
     },
     "execution_count": 285,
     "metadata": {},
     "output_type": "execute_result"
    }
   ],
   "source": [
    "death = np.where(data['Survived'] == 0.0)\n",
    "survive = np.where(data['Survived'] == 1.1)\n",
    "total =  death + survive\n",
    "df = pd.DataFrame({'fare_interval' : ['<100','100-200','200-300','300<'],\n",
    "                  'death_amount' : death, # number of deaths in each fare interval.\n",
    "                  'survivor_amount' : survive, # number of survivors in each fare interval.\n",
    "                   'total' : total,\n",
    "                  'death_pct' : 100*np.round(sur_1/total,3), # percentage of deaths in each fare interval.\n",
    "                  'survivor_pct' : 100*np.round(sur_0/total,3)} #  percentage of survivors in each fare interval.\n",
    ")\n",
    "df = df.set_index('fare_interval')\n",
    "df"
   ]
  },
  {
   "cell_type": "markdown",
   "id": "0dd31690-66e0-43d4-9fbf-8b0f84b0c893",
   "metadata": {},
   "source": [
    "##### Survived or not by age and sex"
   ]
  },
  {
   "cell_type": "code",
   "execution_count": 293,
   "id": "78f9864a-4dc0-408c-8845-b4ccbba0064b",
   "metadata": {},
   "outputs": [
    {
     "data": {
      "image/png": "[encoded data removed]",
      "text/plain": [
       "<Figure size 1500x800 with 4 Axes>"
      ]
     },
     "metadata": {},
     "output_type": "display_data"
    }
   ],
   "source": [
    "f,ax=plt.subplots(2,2,figsize=(15,8))\n",
    "\n",
    "data[(data['Survived']==0)&(data['Sex'] == 'male')]['Age'].hist(ax=ax[0][0],bins=20,color='red')\n",
    "ax[0][0].set_title('Survived= 0 and Sex= male')\n",
    "x1=list(range(0,85,5)) # [0, 5, 10, 15, ..., 80].\n",
    "ax[0][0].set_xticks(x1) # set [0, 5, 10, 15, ..., 80]  in X_axis\n",
    "\n",
    "data[(data['Survived']==1)&(data['Sex'] == 'male')]['Age'].hist(ax=ax[0][1],color='green',bins=20)\n",
    "ax[0][1].set_title('Survived= 1 and Sex= male')\n",
    "ax[0][1].set_xticks(x1)\n",
    "\n",
    "data[(data['Survived']==0)&(data['Sex'] == 'female')]['Age'].hist(ax=ax[1][0],bins=20,color='red')\n",
    "ax[1][0].set_title('Survived= 0 and Sex= female')\n",
    "ax[1][0].set_xticks(x1)\n",
    "\n",
    "data[(data['Survived']==1)&(data['Sex'] == 'female')]['Age'].hist(ax=ax[1][1],color='green',bins=20)\n",
    "ax[1][1].set_title('Survived= 1 and Sex= female')\n",
    "ax[1][1].set_xticks(x1)\n",
    "\n",
    "plt.show()"
   ]
  },
  {
   "cell_type": "markdown",
   "id": "ab3634bc-4dd4-4b05-989d-99f46d93d453",
   "metadata": {},
   "source": [
    "##### Survived vs Pclass/deck/Embarked"
   ]
  },
  {
   "cell_type": "code",
   "execution_count": 294,
   "id": "fb568999-02fb-43fc-b133-bbe2f8b06668",
   "metadata": {},
   "outputs": [
    {
     "data": {
      "image/png": "[encoded data removed]",
      "text/plain": [
       "<Figure size 1400x500 with 3 Axes>"
      ]
     },
     "metadata": {},
     "output_type": "display_data"
    }
   ],
   "source": [
    "f,ax = plt.subplots(1,3,figsize=(14,5))\n",
    "sns.countplot(x='Pclass',data=data,hue='Survived',ax=ax[0],palette='Set1')\n",
    "sns.countplot(x='deck',data=data,hue='Survived',ax=ax[1],palette='Set1')\n",
    "sns.countplot(x='Embarked',data=data,hue='Survived',ax=ax[2],palette='Set1')\n",
    "plt.show()"
   ]
  },
  {
   "cell_type": "markdown",
   "id": "40a960bb-54e4-48d4-a883-fc81c340256d",
   "metadata": {},
   "source": [
    "##### Fare by Pclass,deck and Embarked"
   ]
  },
  {
   "cell_type": "code",
   "execution_count": 295,
   "id": "6f70b896-526c-4d04-b02d-6eb3f2118e4a",
   "metadata": {},
   "outputs": [
    {
     "data": {
      "text/html": [
       "<div>\n",
       "<style scoped>\n",
       "    .dataframe tbody tr th:only-of-type {\n",
       "        vertical-align: middle;\n",
       "    }\n",
       "\n",
       "    .dataframe tbody tr th {\n",
       "        vertical-align: top;\n",
       "    }\n",
       "\n",
       "    .dataframe thead th {\n",
       "        text-align: right;\n",
       "    }\n",
       "</style>\n",
       "<table border=\"1\" class=\"dataframe\">\n",
       "  <thead>\n",
       "    <tr style=\"text-align: right;\">\n",
       "      <th></th>\n",
       "      <th>mean</th>\n",
       "    </tr>\n",
       "    <tr>\n",
       "      <th>Pclass</th>\n",
       "      <th></th>\n",
       "    </tr>\n",
       "  </thead>\n",
       "  <tbody>\n",
       "    <tr>\n",
       "      <th>1</th>\n",
       "      <td>87.555777</td>\n",
       "    </tr>\n",
       "    <tr>\n",
       "      <th>2</th>\n",
       "      <td>21.179196</td>\n",
       "    </tr>\n",
       "    <tr>\n",
       "      <th>3</th>\n",
       "      <td>13.302889</td>\n",
       "    </tr>\n",
       "  </tbody>\n",
       "</table>\n",
       "</div>"
      ],
      "text/plain": [
       "             mean\n",
       "Pclass           \n",
       "1       87.555777\n",
       "2       21.179196\n",
       "3       13.302889"
      ]
     },
     "execution_count": 295,
     "metadata": {},
     "output_type": "execute_result"
    }
   ],
   "source": [
    "data.groupby('Pclass')['Fare'].agg(['mean']).sort_values(by='mean',ascending=False)"
   ]
  },
  {
   "cell_type": "code",
   "execution_count": 296,
   "id": "cc946d22-e2f0-403f-a0f7-698606e38af1",
   "metadata": {},
   "outputs": [
    {
     "data": {
      "text/html": [
       "<div>\n",
       "<style scoped>\n",
       "    .dataframe tbody tr th:only-of-type {\n",
       "        vertical-align: middle;\n",
       "    }\n",
       "\n",
       "    .dataframe tbody tr th {\n",
       "        vertical-align: top;\n",
       "    }\n",
       "\n",
       "    .dataframe thead th {\n",
       "        text-align: right;\n",
       "    }\n",
       "</style>\n",
       "<table border=\"1\" class=\"dataframe\">\n",
       "  <thead>\n",
       "    <tr style=\"text-align: right;\">\n",
       "      <th></th>\n",
       "      <th>mean</th>\n",
       "    </tr>\n",
       "    <tr>\n",
       "      <th>deck</th>\n",
       "      <th></th>\n",
       "    </tr>\n",
       "  </thead>\n",
       "  <tbody>\n",
       "    <tr>\n",
       "      <th>B</th>\n",
       "      <td>512.329200</td>\n",
       "    </tr>\n",
       "    <tr>\n",
       "      <th>C</th>\n",
       "      <td>203.028348</td>\n",
       "    </tr>\n",
       "    <tr>\n",
       "      <th>E</th>\n",
       "      <td>129.072727</td>\n",
       "    </tr>\n",
       "    <tr>\n",
       "      <th>D</th>\n",
       "      <td>94.340849</td>\n",
       "    </tr>\n",
       "    <tr>\n",
       "      <th>A</th>\n",
       "      <td>60.018161</td>\n",
       "    </tr>\n",
       "    <tr>\n",
       "      <th>F</th>\n",
       "      <td>37.967507</td>\n",
       "    </tr>\n",
       "    <tr>\n",
       "      <th>T</th>\n",
       "      <td>26.114334</td>\n",
       "    </tr>\n",
       "    <tr>\n",
       "      <th>G</th>\n",
       "      <td>9.470114</td>\n",
       "    </tr>\n",
       "  </tbody>\n",
       "</table>\n",
       "</div>"
      ],
      "text/plain": [
       "            mean\n",
       "deck            \n",
       "B     512.329200\n",
       "C     203.028348\n",
       "E     129.072727\n",
       "D      94.340849\n",
       "A      60.018161\n",
       "F      37.967507\n",
       "T      26.114334\n",
       "G       9.470114"
      ]
     },
     "execution_count": 296,
     "metadata": {},
     "output_type": "execute_result"
    }
   ],
   "source": [
    "data.groupby('deck')['Fare'].agg(['mean']).sort_values(by='mean',ascending=False)"
   ]
  },
  {
   "cell_type": "code",
   "execution_count": 297,
   "id": "e3162ecb-5560-4afd-b888-84a3979c062e",
   "metadata": {},
   "outputs": [
    {
     "data": {
      "text/html": [
       "<div>\n",
       "<style scoped>\n",
       "    .dataframe tbody tr th:only-of-type {\n",
       "        vertical-align: middle;\n",
       "    }\n",
       "\n",
       "    .dataframe tbody tr th {\n",
       "        vertical-align: top;\n",
       "    }\n",
       "\n",
       "    .dataframe thead th {\n",
       "        text-align: right;\n",
       "    }\n",
       "</style>\n",
       "<table border=\"1\" class=\"dataframe\">\n",
       "  <thead>\n",
       "    <tr style=\"text-align: right;\">\n",
       "      <th></th>\n",
       "      <th>mean</th>\n",
       "    </tr>\n",
       "    <tr>\n",
       "      <th>Embarked</th>\n",
       "      <th></th>\n",
       "    </tr>\n",
       "  </thead>\n",
       "  <tbody>\n",
       "    <tr>\n",
       "      <th>C</th>\n",
       "      <td>62.336267</td>\n",
       "    </tr>\n",
       "    <tr>\n",
       "      <th>S</th>\n",
       "      <td>27.418824</td>\n",
       "    </tr>\n",
       "    <tr>\n",
       "      <th>Q</th>\n",
       "      <td>12.409012</td>\n",
       "    </tr>\n",
       "  </tbody>\n",
       "</table>\n",
       "</div>"
      ],
      "text/plain": [
       "               mean\n",
       "Embarked           \n",
       "C         62.336267\n",
       "S         27.418824\n",
       "Q         12.409012"
      ]
     },
     "execution_count": 297,
     "metadata": {},
     "output_type": "execute_result"
    }
   ],
   "source": [
    "data.groupby('Embarked')['Fare'].agg(['mean']).sort_values(by='mean',ascending=False)"
   ]
  },
  {
   "cell_type": "code",
   "execution_count": 305,
   "id": "36029b90-63b5-4e1f-b44a-5fc5b35f289b",
   "metadata": {},
   "outputs": [
    {
     "data": {
      "image/png": "[encoded data removed]",
      "text/plain": [
       "<Figure size 1400x600 with 3 Axes>"
      ]
     },
     "metadata": {},
     "output_type": "display_data"
    }
   ],
   "source": [
    "f,ax = plt.subplots(1,3,figsize=(14,6))\n",
    "sns.barplot(x='Pclass',y='Fare',hue='Survived',data=data,ax=ax[0])\n",
    "sns.barplot(x='deck',y='Fare',hue='Survived',data=data,ax=ax[1])\n",
    "sns.barplot(x='Embarked',y='Fare',hue='Survived',data=data,ax=ax[2])\n",
    "plt.show()"
   ]
  },
  {
   "cell_type": "code",
   "execution_count": null,
   "id": "a3d5ea22-d82e-463a-b963-062ebbc1abfb",
   "metadata": {},
   "outputs": [],
   "source": []
  }
 ],
 "metadata": {
  "kernelspec": {
   "display_name": "Python 3 (ipykernel)",
   "language": "python",
   "name": "python3"
  },
  "language_info": {
   "codemirror_mode": {
    "name": "ipython",
    "version": 3
   },
   "file_extension": ".py",
   "mimetype": "text/x-python",
   "name": "python",
   "nbconvert_exporter": "python",
   "pygments_lexer": "ipython3",
   "version": "3.11.5"
  }
 },
 "nbformat": 4,
 "nbformat_minor": 5
}
